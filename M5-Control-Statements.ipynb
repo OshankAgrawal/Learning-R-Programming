{
  "nbformat": 4,
  "nbformat_minor": 0,
  "metadata": {
    "colab": {
      "provenance": [],
      "authorship_tag": "ABX9TyNuW6/IZ1m0E33Y73qCkrHP",
      "include_colab_link": true
    },
    "kernelspec": {
      "name": "ir",
      "display_name": "R"
    },
    "language_info": {
      "name": "R"
    }
  },
  "cells": [
    {
      "cell_type": "markdown",
      "metadata": {
        "id": "view-in-github",
        "colab_type": "text"
      },
      "source": [
        "<a href=\"https://colab.research.google.com/github/OshankAgrawal/Learning-R-Programming/blob/main/M5-Control-Statements.ipynb\" target=\"_parent\"><img src=\"https://colab.research.google.com/assets/colab-badge.svg\" alt=\"Open In Colab\"/></a>"
      ]
    },
    {
      "cell_type": "markdown",
      "source": [
        "# **Control Statements in R**"
      ],
      "metadata": {
        "id": "uTJIyhgVsxVe"
      }
    },
    {
      "cell_type": "markdown",
      "source": [
        "Control statements are expressions used to control the execution and flow of the program based on the conditions provided in the statements. These structures are used to make a decision after assessing the variable. In this article, we’ll discuss all the control statements with the examples.\n",
        "\n",
        "In R programming, there are 10 types of control statements as follows:\n",
        "\n",
        "* if condition\n",
        "* if-else condition\n",
        "* if-else ladder\n",
        "* nested if-else\n",
        "* for loop\n",
        "* nested loops\n",
        "* while loop\n",
        "* repeat and break statement\n",
        "* return statement\n",
        "* next statement"
      ],
      "metadata": {
        "id": "QDfr6Q8ds4PB"
      }
    },
    {
      "cell_type": "markdown",
      "source": [
        "# 1. **if statements**"
      ],
      "metadata": {
        "id": "EDMV1dhKtHlg"
      }
    },
    {
      "cell_type": "markdown",
      "source": [
        "This control structure checks the expression provided in parenthesis is true or not. If true, the execution of the statements in braces {} continues.\n",
        "\n",
        "Keyword **if** tells compiler that this is a decision control instruction and the condition following the keyword **if** is always enclosed within a pair of parentheses. If the condition is TRUE the statement gets executed and if condition is FALSE then statement does not get executed.\n",
        "\n",
        "**Syntax:**\n",
        "\n",
        "    if(expression){\n",
        "\n",
        "        statements\n",
        "        ....\n",
        "        ....\n",
        "    }\n",
        "\n",
        "**Example:**"
      ],
      "metadata": {
        "id": "LYHfxXC5rnev"
      }
    },
    {
      "cell_type": "code",
      "source": [
        "x <- 100\n",
        "\n",
        "if(x > 10){\n",
        "print(paste(x, \"is greater than 10\"))\n",
        "}\n"
      ],
      "metadata": {
        "colab": {
          "base_uri": "https://localhost:8080/"
        },
        "id": "Xe65AxxNtTiD",
        "outputId": "f5649f1c-66ec-4115-b9ec-b0c137ef92fc"
      },
      "execution_count": null,
      "outputs": [
        {
          "output_type": "stream",
          "name": "stdout",
          "text": [
            "[1] \"100 is greater than 10\"\n"
          ]
        }
      ]
    },
    {
      "cell_type": "code",
      "source": [
        "# R program to illustrate\n",
        "# if statement\n",
        "a <- 76\n",
        "b <- 67\n",
        "\n",
        "# TRUE condition\n",
        "if(a > b)\n",
        "{\n",
        "\tc <- a - b\n",
        "\tprint(\"condition a > b is TRUE\")\n",
        "\tprint(paste(\"Difference between a, b is : \", c))\n",
        "}\n",
        "\n",
        "# FALSE condition\n",
        "if(a < b)\n",
        "{\n",
        "\tc <- a - b\n",
        "\tprint(\"condition a < b is TRUE\")\n",
        "\tprint(paste(\"Difference between a, b is : \", c))\n",
        "}\n"
      ],
      "metadata": {
        "colab": {
          "base_uri": "https://localhost:8080/"
        },
        "id": "3RDPfpWZxRYE",
        "outputId": "7232cdc1-0403-4876-9f83-b7ae3a0985ea"
      },
      "execution_count": null,
      "outputs": [
        {
          "output_type": "stream",
          "name": "stdout",
          "text": [
            "[1] \"condition a > b is TRUE\"\n",
            "[1] \"Difference between a, b is :  9\"\n"
          ]
        }
      ]
    },
    {
      "cell_type": "code",
      "source": [
        "x <-20\n",
        "y<-24\n",
        "count=0\n",
        "if(x<y)\n",
        "{\n",
        "    cat(x,\"is a smaller number\\n\")\n",
        "    count=1\n",
        "}\n",
        "if(count==1){\n",
        "    cat(\"Block is successfully execute\")\n",
        "}"
      ],
      "metadata": {
        "colab": {
          "base_uri": "https://localhost:8080/"
        },
        "id": "GxuUYMLYLztP",
        "outputId": "4f3be764-44ee-4852-e6c2-94c82b5c6918"
      },
      "execution_count": null,
      "outputs": [
        {
          "output_type": "stream",
          "name": "stdout",
          "text": [
            "20 is a smaller number\n",
            "Block is successfully execute"
          ]
        }
      ]
    },
    {
      "cell_type": "code",
      "source": [
        "x <-20\n",
        "y<-24\n",
        "count=0\n",
        "if(x<y)\n",
        "{\n",
        "    cat(x,\"is a smaller number\\n\")\n",
        "    count=1\n",
        "}\n",
        "if(count==1){\n",
        "    cat(\"Block is successfully execute\")\n",
        "}"
      ],
      "metadata": {
        "colab": {
          "base_uri": "https://localhost:8080/"
        },
        "id": "P2dsaZutL80U",
        "outputId": "2ad76993-b390-482c-af97-210a7945c433"
      },
      "execution_count": null,
      "outputs": [
        {
          "output_type": "stream",
          "name": "stdout",
          "text": [
            "20 is a smaller number\n",
            "Block is successfully execute"
          ]
        }
      ]
    },
    {
      "cell_type": "code",
      "source": [
        "x <-24\n",
        "if(x%%2==0){\n",
        "    cat(x,\" is an even number\")\n",
        "}\n",
        "if(x%%2!=0){\n",
        "    cat(x,\" is an odd number\")\n",
        "}"
      ],
      "metadata": {
        "colab": {
          "base_uri": "https://localhost:8080/"
        },
        "id": "X30eVf53L_0c",
        "outputId": "55de410d-0c45-4f87-df43-74e05aefcf5e"
      },
      "execution_count": null,
      "outputs": [
        {
          "output_type": "stream",
          "name": "stdout",
          "text": [
            "24  is an even number"
          ]
        }
      ]
    },
    {
      "cell_type": "code",
      "source": [
        "year = 2011\n",
        "if(year %% 4 == 0) {\n",
        " if(year %% 100 == 0) {\n",
        "     if(year %% 400 == 0) {\n",
        "         cat(year,\"is a leap year\")\n",
        "        } else {\n",
        "         cat(year,\"is not a leap year\")\n",
        "        }\n",
        "    } else {\n",
        "     cat(year,\"is a leap year\")\n",
        "    }\n",
        "} else {\n",
        " cat(year,\"is not a leap year\")\n",
        "}"
      ],
      "metadata": {
        "colab": {
          "base_uri": "https://localhost:8080/"
        },
        "id": "WO0ljR0NMG2G",
        "outputId": "91beb595-3478-4880-9177-04e6cdcfae55"
      },
      "execution_count": null,
      "outputs": [
        {
          "output_type": "stream",
          "name": "stdout",
          "text": [
            "2011 is not a leap year"
          ]
        }
      ]
    },
    {
      "cell_type": "markdown",
      "source": [
        "# 2. **if-else statements**"
      ],
      "metadata": {
        "id": "BK9rfVhitiU-"
      }
    },
    {
      "cell_type": "markdown",
      "source": [
        "It is similar to if condition but when the test expression in if condition fails, then statements in else condition are executed.\n",
        "\n",
        "**If-else,** provides us with an optional else block which gets executed if the condition for if block is false.  If the condition provided to if block is true then the statement within the if block gets executed, else the statement within the else block gets executed.\n",
        "\n",
        "**Syntax:**\n",
        "\n",
        "    if(expression){\n",
        "\n",
        "        statements\n",
        "        ....\n",
        "        ....\n",
        "    }\n",
        "    else{\n",
        "\n",
        "        statements\n",
        "        ....\n",
        "        ....\n",
        "    }\n",
        "\n",
        "**Example:**"
      ],
      "metadata": {
        "id": "6of-30v0toMC"
      }
    },
    {
      "cell_type": "code",
      "source": [
        "x <- 5\n",
        "\n",
        "# Check value is less than or greater than 10\n",
        "if(x > 10){\n",
        "print(paste(x, \"is greater than 10\"))\n",
        "}else{\n",
        "print(paste(x, \"is less than 10\"))\n",
        "}\n"
      ],
      "metadata": {
        "colab": {
          "base_uri": "https://localhost:8080/"
        },
        "id": "z8GDuFW8txHd",
        "outputId": "9db9e027-f6ab-4843-8549-ad46c06ff156"
      },
      "execution_count": null,
      "outputs": [
        {
          "output_type": "stream",
          "name": "stdout",
          "text": [
            "[1] \"5 is less than 10\"\n"
          ]
        }
      ]
    },
    {
      "cell_type": "code",
      "source": [
        "# R if-else statement Example\n",
        "a <- 67\n",
        "b <- 76\n",
        "\n",
        "\n",
        "# This example will execute else block\n",
        "if(a > b)\n",
        "{\n",
        "\tc <- a - b\n",
        "\tprint(\"condition a > b is TRUE\")\n",
        "\tprint(paste(\"Difference between a, b is : \", c))\n",
        "} else\n",
        "{\n",
        "\tc <- a - b\n",
        "\tprint(\"condition a > b is FALSE\")\n",
        "\tprint(paste(\"Difference between a, b is : \", c))\n",
        "}\n"
      ],
      "metadata": {
        "colab": {
          "base_uri": "https://localhost:8080/"
        },
        "id": "ZLTDlSOAxXrm",
        "outputId": "3ef399f8-96da-4950-af63-febe707a4653"
      },
      "execution_count": null,
      "outputs": [
        {
          "output_type": "stream",
          "name": "stdout",
          "text": [
            "[1] \"condition a > b is FALSE\"\n",
            "[1] \"Difference between a, b is :  -9\"\n"
          ]
        }
      ]
    },
    {
      "cell_type": "code",
      "source": [
        "# local variable definition\n",
        "a<- 100\n",
        "#checking boolean condition\n",
        "if(a<20){\n",
        "    # if the condition is true then print the following\n",
        "    cat(\"a is less than 20\\n\")\n",
        "}else{\n",
        "    # if the condition is false then print the following\n",
        "    cat(\"a is not less than 20\\n\")\n",
        "}\n",
        "cat(\"The value of a is\", a)"
      ],
      "metadata": {
        "colab": {
          "base_uri": "https://localhost:8080/"
        },
        "id": "oK-N_pVbMW7G",
        "outputId": "8f2b9aaa-6907-4840-f65d-8eb2f464d52d"
      },
      "execution_count": null,
      "outputs": [
        {
          "output_type": "stream",
          "name": "stdout",
          "text": [
            "a is not less than 20\n",
            "The value of a is 100"
          ]
        }
      ]
    },
    {
      "cell_type": "code",
      "source": [
        "x <- c(\"Hardwork\",\"is\",\"the\",\"key\",\"of\",\"success\")\n",
        "\n",
        "if(\"key\" %in% x) {\n",
        "   print(\"key is found\")\n",
        "} else {\n",
        "   print(\"key is not found\")\n",
        "}"
      ],
      "metadata": {
        "colab": {
          "base_uri": "https://localhost:8080/"
        },
        "id": "Ax9g0L7eMa_O",
        "outputId": "b78d3dd8-b491-4975-84f9-f5360f3f5530"
      },
      "execution_count": null,
      "outputs": [
        {
          "output_type": "stream",
          "name": "stdout",
          "text": [
            "[1] \"key is found\"\n"
          ]
        }
      ]
    },
    {
      "cell_type": "code",
      "source": [
        "a<- 100\n",
        "#checking boolean condition\n",
        "if(a<20){\n",
        "    cat(\"a is less than 20\")\n",
        "    if(a%%2==0){\n",
        "        cat(\" and an even number\\n\")\n",
        "    }\n",
        "    else{\n",
        "        cat(\" but not an even number\\n\")\n",
        "    }\n",
        "}else{\n",
        "    cat(\"a is greater than 20\")\n",
        "    if(a%%2==0){\n",
        "        cat(\" and an even number\\n\")\n",
        "    }\n",
        "    else{\n",
        "        cat(\" but not an even number\\n\")\n",
        "    }\n",
        "}"
      ],
      "metadata": {
        "colab": {
          "base_uri": "https://localhost:8080/"
        },
        "id": "08loDzXOMg6t",
        "outputId": "1ceff979-d270-4355-a9c4-8d003e9fd453"
      },
      "execution_count": null,
      "outputs": [
        {
          "output_type": "stream",
          "name": "stdout",
          "text": [
            "a is greater than 20 and an even number\n"
          ]
        }
      ]
    },
    {
      "cell_type": "code",
      "source": [
        "a<- 'u'\n",
        "if(a=='a'||a=='e'||a=='i'||a=='o'||a=='u'||a=='A'||a=='E'||a=='I'||a=='O'||a=='U'){\n",
        "    cat(\"character is a vowel\\n\")\n",
        "}else{\n",
        "    cat(\"character is a constant\\n\")\n",
        "}\n",
        "cat(\"character is =\",a)\n"
      ],
      "metadata": {
        "colab": {
          "base_uri": "https://localhost:8080/"
        },
        "id": "OiG4F0tMMljQ",
        "outputId": "a65444f2-5acc-44ad-a677-f6afb1a510c7"
      },
      "execution_count": null,
      "outputs": [
        {
          "output_type": "stream",
          "name": "stdout",
          "text": [
            "character is a vowel\n",
            "character is = u"
          ]
        }
      ]
    },
    {
      "cell_type": "code",
      "source": [
        "a<- 'p'\n",
        "if(a=='a'||a=='e'||a=='i'||a=='o'||a=='u'||a=='A'||a=='E'||a=='I'||a=='O'||a=='U'){\n",
        "    cat(\"character is a vowel\\n\")\n",
        "}else{\n",
        "    cat(\"character is a constant\\n\")\n",
        "}\n",
        "cat(\"character is =\",a)\n",
        "\n"
      ],
      "metadata": {
        "colab": {
          "base_uri": "https://localhost:8080/"
        },
        "id": "3JlEV0jZMrfF",
        "outputId": "fa7cd24b-d3fb-461f-834d-2f353d1f4df7"
      },
      "execution_count": null,
      "outputs": [
        {
          "output_type": "stream",
          "name": "stdout",
          "text": [
            "character is a constant\n",
            "character is = p"
          ]
        }
      ]
    },
    {
      "cell_type": "markdown",
      "source": [
        "# 3. **if-else-if ladder**"
      ],
      "metadata": {
        "id": "r_K-t5ZexjGy"
      }
    },
    {
      "cell_type": "markdown",
      "source": [
        "It is similar to if-else statement, here the only difference is that an if statement is attached to else. If the condition provided to if block is true then the statement within the if block gets executed, else-if the another condition provided is checked and if true then  the statement within the block gets executed.\n",
        "\n",
        "**Syntax:**\n",
        "\n",
        "         if(condition 1 is true) {\n",
        "\n",
        "              execute this statement\n",
        "\n",
        "         } else if(condition 2 is true) {\n",
        "\n",
        "             execute this statement\n",
        "\n",
        "         } else {\n",
        "\n",
        "             execute this statement\n",
        "\n",
        "        }\n",
        "\n",
        "**Example:**"
      ],
      "metadata": {
        "id": "TyAu5offxujK"
      }
    },
    {
      "cell_type": "code",
      "source": [
        "# R if-else-if ladder Example\n",
        "a <- 67\n",
        "b <- 76\n",
        "c <- 99\n",
        "\n",
        "\n",
        "if(a > b && b > c)\n",
        "{\n",
        "\tprint(\"condition a > b > c is TRUE\")\n",
        "} else if(a < b && b > c)\n",
        "{\n",
        "\tprint(\"condition a < b > c is TRUE\")\n",
        "} else if(a < b && b < c)\n",
        "{\n",
        "\tprint(\"condition a < b < c is TRUE\")\n",
        "}\n"
      ],
      "metadata": {
        "colab": {
          "base_uri": "https://localhost:8080/"
        },
        "id": "nbkb1tH2xnHK",
        "outputId": "bc3a2407-ff78-4587-b820-59cbe98dc4c7"
      },
      "execution_count": null,
      "outputs": [
        {
          "output_type": "stream",
          "name": "stdout",
          "text": [
            "[1] \"condition a < b < c is TRUE\"\n"
          ]
        }
      ]
    },
    {
      "cell_type": "code",
      "source": [
        "age <- readline(prompt=\"Enter age: \")\n",
        "age <- as.integer(age)\n",
        "if(age<18){\n",
        "    print(\"You are child\")\n",
        "} else if(age>30){\n",
        "    print(\"You are old guy\")\n",
        "} else{\n",
        "    print(\"You are adult\")\n",
        "}"
      ],
      "metadata": {
        "colab": {
          "base_uri": "https://localhost:8080/"
        },
        "id": "bcjaVL90NIOz",
        "outputId": "bd1a8ab7-f83d-4667-bd3b-bb6aac4e4abd"
      },
      "execution_count": null,
      "outputs": [
        {
          "output_type": "stream",
          "name": "stdout",
          "text": [
            "Enter age: 89\n",
            "[1] \"You are old guy\"\n"
          ]
        }
      ]
    },
    {
      "cell_type": "code",
      "source": [
        "marks=83;\n",
        "if(marks>75){\n",
        "    print(\"First class\")\n",
        "}else if(marks>65){\n",
        "    print(\"Second class\")\n",
        "}else if(marks>55){\n",
        "    print(\"Third class\")\n",
        "}else{\n",
        "    print(\"Fail\")\n",
        "}"
      ],
      "metadata": {
        "colab": {
          "base_uri": "https://localhost:8080/"
        },
        "id": "FtFl8huPNNx8",
        "outputId": "35991dbf-5354-4456-bbef-07b14e7de73d"
      },
      "execution_count": null,
      "outputs": [
        {
          "output_type": "stream",
          "name": "stdout",
          "text": [
            "[1] \"First class\"\n"
          ]
        }
      ]
    },
    {
      "cell_type": "code",
      "source": [
        "cat(\"1) For Addition\\n\")\n",
        "cat(\"2) For Subtraction\\n\")\n",
        "cat(\"3) For Division\\n\")\n",
        "cat(\"4) For multiplication\\n\")\n",
        "n1<-readline(prompt=\"Enter first number:\")\n",
        "n2<-readline(prompt=\"Enter second number:\")\n",
        "choice<-readline(prompt=\"Enter your choice:\")\n",
        "n1<- as.integer(n1)\n",
        "n2<- as.integer(n2)\n",
        "choice<- as.integer(choice)\n",
        "if(choice==1){\n",
        "    sum <-(n1+n2)\n",
        "    cat(\"sum=\",sum)\n",
        "}else if(choice==2){\n",
        "    sub<-(n1-n2)\n",
        "    cat(\"sub=\",sub)\n",
        "}else if(choice==3){\n",
        "    div<-n1/n2\n",
        "    cat(\"Division=\",div)\n",
        "}else if(choice==4){\n",
        "    mul<-n1*n2\n",
        "    cat(\"mul=\",mul)\n",
        "}else{\n",
        "    cat(\"wrong choice\")\n",
        "}"
      ],
      "metadata": {
        "colab": {
          "base_uri": "https://localhost:8080/"
        },
        "id": "Jscc74aONTzb",
        "outputId": "c0ecb857-d91e-46dd-e8f0-0e3e36e54a17"
      },
      "execution_count": null,
      "outputs": [
        {
          "output_type": "stream",
          "name": "stdout",
          "text": [
            "1) For Addition\n",
            "2) For Subtraction\n",
            "3) For Division\n",
            "4) For multiplication\n",
            "Enter first number:78\n",
            "Enter second number:56\n",
            "Enter your choice:2\n",
            "sub= 22"
          ]
        }
      ]
    },
    {
      "cell_type": "markdown",
      "source": [
        "**readline() function:** This function is used to taking the input from the user. We will discuss about it later.\n",
        "\n",
        "**cat() function:** The cat() function in R is primarily used for concatenating and printing strings or objects. It concatenates its arguments and prints the result. It does not add any separators or spaces between the concatenated elements by default."
      ],
      "metadata": {
        "id": "RohQByByNnfb"
      }
    },
    {
      "cell_type": "code",
      "source": [
        "x <- c(\"Hardwork\",\"is\",\"the\",\"key\",\"of\",\"success\")\n",
        "if(\"Success\" %in% x) {\n",
        "   print(\"success is found in the first time\")\n",
        "} else if (\"success\" %in% x) {\n",
        "   print(\"success is found in the second time\")\n",
        "} else {\n",
        "   print(\"No success found\")\n",
        "}"
      ],
      "metadata": {
        "colab": {
          "base_uri": "https://localhost:8080/"
        },
        "id": "vegAuC8BNlxU",
        "outputId": "e177a64c-db99-42c0-fa3b-12ed9cdc2039"
      },
      "execution_count": null,
      "outputs": [
        {
          "output_type": "stream",
          "name": "stdout",
          "text": [
            "[1] \"success is found in the second time\"\n"
          ]
        }
      ]
    },
    {
      "cell_type": "code",
      "source": [
        "n1=4\n",
        "n2=87\n",
        "n3=43\n",
        "n4=74\n",
        "if(n1>n2){\n",
        "    if(n1>n3&&n1>n4){\n",
        "        largest=n1\n",
        "    }\n",
        "}else if(n2>n3){\n",
        "    if(n2>n1&&n2>n4){\n",
        "        largest=n2\n",
        "    }\n",
        "}else if(n3>n4){\n",
        "    if(n3>n1&&n3>n2){\n",
        "        largest=n3\n",
        "    }\n",
        "}else{\n",
        "    largest=n4\n",
        "}\n",
        "cat(\"Largest number is =\",largest)"
      ],
      "metadata": {
        "colab": {
          "base_uri": "https://localhost:8080/"
        },
        "id": "iL492ueEN-xx",
        "outputId": "e618eaf9-c0da-466f-849d-32d9194e4494"
      },
      "execution_count": null,
      "outputs": [
        {
          "output_type": "stream",
          "name": "stdout",
          "text": [
            "Largest number is = 87"
          ]
        }
      ]
    },
    {
      "cell_type": "markdown",
      "source": [
        "# 4. **Nested if-else statements**"
      ],
      "metadata": {
        "id": "YuwDEFIYyOlD"
      }
    },
    {
      "cell_type": "markdown",
      "source": [
        "When we have an if-else block as an statement within an if block or optionally within an else block, then it is called as nested if else statement. When an if condition is true then following child if condition is validated and if the condition is wrong else statement is executed, this happens within parent if condition. If parent if condition is false then else block is executed with also may contain child if else statement.\n",
        "\n",
        "**Syntax:**\n",
        "\n",
        "    if(parent condition is true) {\n",
        "\n",
        "              if( child condition 1 is true) {\n",
        "\n",
        "                 execute this statement\n",
        "\n",
        "             } else {\n",
        "\n",
        "                execute this statement\n",
        "\n",
        "            }\n",
        "\n",
        "     } else {\n",
        "\n",
        "            if(child condition 2 is true) {\n",
        "\n",
        "                execute this statement\n",
        "\n",
        "            } else {\n",
        "\n",
        "               execute this statement\n",
        "\n",
        "           }\n",
        "\n",
        "     }\n",
        "\n",
        "**Example:**"
      ],
      "metadata": {
        "id": "ZMB940IHyToL"
      }
    },
    {
      "cell_type": "code",
      "source": [
        "# R Nested if else statement Example\n",
        "a <- 10\n",
        "b <- 11\n",
        "\n",
        "\n",
        "if(a == 10)\n",
        "{\n",
        "\tif(b == 10)\n",
        "\t{\n",
        "\t\tprint(\"a:10 b:10\")\n",
        "\t} else\n",
        "\t{\n",
        "\t\tprint(\"a:10 b:11\")\n",
        "\t}\n",
        "} else\n",
        "{\n",
        "\tif(a == 11)\n",
        "\t{\n",
        "\t\tprint(\"a:11 b:10\")\n",
        "\t} else\n",
        "\t{\n",
        "\t\tprint(\"a:11 b:11\")\n",
        "\t}\n",
        "}\n"
      ],
      "metadata": {
        "colab": {
          "base_uri": "https://localhost:8080/"
        },
        "id": "5Q52frmHyfxt",
        "outputId": "45e068ef-9c8a-41cb-d174-aef020aa8b1e"
      },
      "execution_count": null,
      "outputs": [
        {
          "output_type": "stream",
          "name": "stdout",
          "text": [
            "[1] \"a:10 b:11\"\n"
          ]
        }
      ]
    },
    {
      "cell_type": "markdown",
      "source": [
        "# 5. **for loop**"
      ],
      "metadata": {
        "id": "qGor8Xs4t0wJ"
      }
    },
    {
      "cell_type": "markdown",
      "source": [
        "It is a type of loop or sequence of statements executed repeatedly until exit condition is reached.\n",
        "\n",
        "For loop in R Programming Language is useful to iterate over the elements of a list, data frame, vector, matrix, or any other object. It means the for loop can be used to execute a group of statements repeatedly depending upon the number of elements in the object. It is an entry-controlled loop, in this loop, the test condition is tested first, then the body of the loop is executed, the loop body would not be executed if the test condition is false.\n",
        "\n",
        "**Syntax:**\n",
        "\n",
        "    for(value in vector){\n",
        "\n",
        "        statements\n",
        "        ....\n",
        "        ....\n",
        "    }\n",
        "\n",
        "Here, var takes on each value of the vector during the loop. In each iteration, the statements are evaluated.\n",
        "\n",
        "**Example:**"
      ],
      "metadata": {
        "id": "t3-8CAHTt_zu"
      }
    },
    {
      "cell_type": "code",
      "source": [
        "x <- letters[4:10]\n",
        "\n",
        "for(i in x){\n",
        "print(i)\n",
        "}\n"
      ],
      "metadata": {
        "colab": {
          "base_uri": "https://localhost:8080/"
        },
        "id": "obXty5gFuGNh",
        "outputId": "3d7af45b-9725-419f-bc40-8a1a33e03fcb"
      },
      "execution_count": null,
      "outputs": [
        {
          "output_type": "stream",
          "name": "stdout",
          "text": [
            "[1] \"d\"\n",
            "[1] \"e\"\n",
            "[1] \"f\"\n",
            "[1] \"g\"\n",
            "[1] \"h\"\n",
            "[1] \"i\"\n",
            "[1] \"j\"\n"
          ]
        }
      ]
    },
    {
      "cell_type": "code",
      "source": [
        "# Create fruit vector\n",
        "fruit <- c('Apple', 'Orange',\"Guava\", 'Pinapple', 'Banana','Grapes')\n",
        "# Create the for statement\n",
        "for ( i in fruit){\n",
        "    print(i)\n",
        "}"
      ],
      "metadata": {
        "colab": {
          "base_uri": "https://localhost:8080/"
        },
        "id": "LjFGC-EEQAaP",
        "outputId": "94ed7952-4e4d-483e-f61a-6b004e8c3ed7"
      },
      "execution_count": null,
      "outputs": [
        {
          "output_type": "stream",
          "name": "stdout",
          "text": [
            "[1] \"Apple\"\n",
            "[1] \"Orange\"\n",
            "[1] \"Guava\"\n",
            "[1] \"Pinapple\"\n",
            "[1] \"Banana\"\n",
            "[1] \"Grapes\"\n"
          ]
        }
      ]
    },
    {
      "cell_type": "code",
      "source": [
        "# Creating an empty list\n",
        "list <- c()\n",
        "# Creating a for statement to populate the list\n",
        "for (i in seq(1, 5, by=1)) {\n",
        "  list[[i]] <- i*i\n",
        "}\n",
        "print(list)"
      ],
      "metadata": {
        "colab": {
          "base_uri": "https://localhost:8080/"
        },
        "id": "oy0b5ViIQA1w",
        "outputId": "c3985de0-8876-46ff-bf6b-ce0cf37528a9"
      },
      "execution_count": null,
      "outputs": [
        {
          "output_type": "stream",
          "name": "stdout",
          "text": [
            "[[1]]\n",
            "[1] 1\n",
            "\n",
            "[[2]]\n",
            "[1] 4\n",
            "\n",
            "[[3]]\n",
            "[1] 9\n",
            "\n",
            "[[4]]\n",
            "[1] 16\n",
            "\n",
            "[[5]]\n",
            "[1] 25\n",
            "\n"
          ]
        }
      ]
    },
    {
      "cell_type": "code",
      "source": [
        "# Creating a matrix\n",
        "mat <- matrix(data = seq(10, 21, by=1), nrow = 6, ncol =2)\n",
        "# Creating the loop with r and c to iterate over the matrix\n",
        "for (r in 1:nrow(mat))\n",
        "    for (c in 1:ncol(mat))\n",
        "         print(paste(\"mat[\", r, \",\",c, \"]=\", mat[r,c]))\n",
        "print(mat)"
      ],
      "metadata": {
        "colab": {
          "base_uri": "https://localhost:8080/"
        },
        "id": "CQIgQVEzQHi2",
        "outputId": "28377173-914e-4645-e46d-297bc4c8b118"
      },
      "execution_count": null,
      "outputs": [
        {
          "output_type": "stream",
          "name": "stdout",
          "text": [
            "[1] \"mat[ 1 , 1 ]= 10\"\n",
            "[1] \"mat[ 1 , 2 ]= 16\"\n",
            "[1] \"mat[ 2 , 1 ]= 11\"\n",
            "[1] \"mat[ 2 , 2 ]= 17\"\n",
            "[1] \"mat[ 3 , 1 ]= 12\"\n",
            "[1] \"mat[ 3 , 2 ]= 18\"\n",
            "[1] \"mat[ 4 , 1 ]= 13\"\n",
            "[1] \"mat[ 4 , 2 ]= 19\"\n",
            "[1] \"mat[ 5 , 1 ]= 14\"\n",
            "[1] \"mat[ 5 , 2 ]= 20\"\n",
            "[1] \"mat[ 6 , 1 ]= 15\"\n",
            "[1] \"mat[ 6 , 2 ]= 21\"\n",
            "     [,1] [,2]\n",
            "[1,]   10   16\n",
            "[2,]   11   17\n",
            "[3,]   12   18\n",
            "[4,]   13   19\n",
            "[5,]   14   20\n",
            "[6,]   15   21\n"
          ]
        }
      ]
    },
    {
      "cell_type": "code",
      "source": [
        "# Create a list with three vectors\n",
        "fruit <- list(Basket = c('Apple', 'Orange',\"Guava\", 'Pinapple', 'Banana','Grapes'),\n",
        "Money = c(10, 12, 15), purchase = TRUE)\n",
        "for (p  in fruit)\n",
        "{\n",
        "    print(p)\n",
        "}"
      ],
      "metadata": {
        "colab": {
          "base_uri": "https://localhost:8080/"
        },
        "id": "OT-ti60rQKTI",
        "outputId": "da4d26d1-d4da-415f-941d-825c7e414faa"
      },
      "execution_count": null,
      "outputs": [
        {
          "output_type": "stream",
          "name": "stdout",
          "text": [
            "[1] \"Apple\"    \"Orange\"   \"Guava\"    \"Pinapple\" \"Banana\"   \"Grapes\"  \n",
            "[1] 10 12 15\n",
            "[1] TRUE\n"
          ]
        }
      ]
    },
    {
      "cell_type": "code",
      "source": [
        "x <- c(2,5,3,9,8,11,6,44,43,47,67,95,33,65,12,45,12)\n",
        "count <- 0\n",
        "for (val in x) {\n",
        "if(val %% 2 == 0)  count = count+1\n",
        "}\n",
        "print(count)"
      ],
      "metadata": {
        "colab": {
          "base_uri": "https://localhost:8080/"
        },
        "id": "OE6wK0s6QN2k",
        "outputId": "4a040153-cb59-44ca-87bf-9cd2bf1ce1d7"
      },
      "execution_count": null,
      "outputs": [
        {
          "output_type": "stream",
          "name": "stdout",
          "text": [
            "[1] 6\n"
          ]
        }
      ]
    },
    {
      "cell_type": "code",
      "source": [
        "# R Program to demonstrate\n",
        "# the use of for loop\n",
        "for (i in 1: 4)\n",
        "{\n",
        "\tprint(i ^ 2)\n",
        "}\n"
      ],
      "metadata": {
        "colab": {
          "base_uri": "https://localhost:8080/"
        },
        "id": "xx5zF9Xp2t_k",
        "outputId": "3591a357-0118-4904-f807-ba20367059f1"
      },
      "execution_count": null,
      "outputs": [
        {
          "output_type": "stream",
          "name": "stdout",
          "text": [
            "[1] 1\n",
            "[1] 4\n",
            "[1] 9\n",
            "[1] 16\n"
          ]
        }
      ]
    },
    {
      "cell_type": "markdown",
      "source": [
        "In the above example, we iterated over the range 1 to 4 which was our vector. Now there can be several variations of this general for loop. Instead of using a sequence 1:5, we can use the concatenate function as well.\n",
        "\n",
        "**Using concatenate function in R – For loop**"
      ],
      "metadata": {
        "id": "8ZKerRBp23iw"
      }
    },
    {
      "cell_type": "code",
      "source": [
        "# R Program to demonstrate the use of\n",
        "# for loop along with concatenate\n",
        "for (i in c(-8, 9, 11, 45))\n",
        "{\n",
        "\tprint(i)\n",
        "}\n"
      ],
      "metadata": {
        "colab": {
          "base_uri": "https://localhost:8080/"
        },
        "id": "CCRHT1Fj27gt",
        "outputId": "8e447718-ee50-43e4-ca7c-54144227c931"
      },
      "execution_count": null,
      "outputs": [
        {
          "output_type": "stream",
          "name": "stdout",
          "text": [
            "[1] -8\n",
            "[1] 9\n",
            "[1] 11\n",
            "[1] 45\n"
          ]
        }
      ]
    },
    {
      "cell_type": "markdown",
      "source": [
        "Instead of writing our vector inside the loop, we can also define it beforehand.\n",
        "\n",
        "**Using concatenate outside the loop R – For loop**"
      ],
      "metadata": {
        "id": "8VbK3uco3GPZ"
      }
    },
    {
      "cell_type": "code",
      "source": [
        "# R Program to demonstrate the use of\n",
        "# for loop with vector\n",
        "x <- c(-8, 9, 11, 45)\n",
        "for (i in x)\n",
        "{\n",
        "\tprint(i)\n",
        "}\n"
      ],
      "metadata": {
        "colab": {
          "base_uri": "https://localhost:8080/"
        },
        "id": "tTkuCpVl3H88",
        "outputId": "2666af7b-692a-471c-b8ae-056c7c9f6bc7"
      },
      "execution_count": null,
      "outputs": [
        {
          "output_type": "stream",
          "name": "stdout",
          "text": [
            "[1] -8\n",
            "[1] 9\n",
            "[1] 11\n",
            "[1] 45\n"
          ]
        }
      ]
    },
    {
      "cell_type": "markdown",
      "source": [
        "**Creating Multiple Plots within for-Loop in R**"
      ],
      "metadata": {
        "id": "Va7efGua3tsz"
      }
    },
    {
      "cell_type": "code",
      "source": [
        "# create a matrix of data\n",
        "mat <- matrix(rnorm(100), ncol = 5)\n",
        "\n",
        "# set up the plot layout\n",
        "par(mfrow = c(2, 3))\n",
        "\n",
        "# loop over columns of the matrix\n",
        "for (i in 1:5) {\n",
        "# create a histogram for each column\n",
        "hist(mat[, i], main = paste(\"Column\", i), xlab = \"Values\", col = \"lightblue\")\n",
        "}\n"
      ],
      "metadata": {
        "colab": {
          "base_uri": "https://localhost:8080/",
          "height": 437
        },
        "id": "-HeqfTzu3pOl",
        "outputId": "39e1f261-f4af-4f4c-ee9e-684e77fb3cf7"
      },
      "execution_count": null,
      "outputs": [
        {
          "output_type": "display_data",
          "data": {
            "text/plain": [
              "Plot with title “Column 5”"
            ],
            "image/png": "[encoded data removed]"
          },
          "metadata": {
            "image/png": {
              "width": 420,
              "height": 420
            }
          }
        }
      ]
    },
    {
      "cell_type": "markdown",
      "source": [
        "In this example, the for loop iterates over the columns of the matrix mat, and for each column, a histogram of the values is created using the hist() function. The main argument of the hist() function is used to set the title of each plot, and the xlab argument is used to label the x-axis. The col argument is used to set the color of the bars in the histogram to light blue.\n",
        "\n",
        "The par() function is used to set up the plot layout with mfrow = c(2, 3), which specifies that the plots should be arranged in 2 rows and 3 columns. This means that the for loop will create 5 plots, each of which is a histogram of one of the columns of the matrix mat, arranged in a 2×3 grid.\n",
        "\n",
        "Here as soon as zero is encountered, that iteration is discontinued and the condition is checked again. Since 21 is not equal to 0, it is printed. As we can conclude from the above two programs the basic difference between the two jump statements is that the break statement terminates the loop and the next statement skips a particular iteration of the loop."
      ],
      "metadata": {
        "id": "EzF0iFCp39uE"
      }
    },
    {
      "cell_type": "markdown",
      "source": [
        "# 6. **Nested Loop**"
      ],
      "metadata": {
        "id": "rvPxWjBGuPl-"
      }
    },
    {
      "cell_type": "markdown",
      "source": [
        "Nested loops are similar to simple loops. Nested means loops inside loop. Moreover, nested loops are used to manipulate the matrix.\n",
        "\n",
        "**Example:**"
      ],
      "metadata": {
        "id": "0EJhpp4juSAK"
      }
    },
    {
      "cell_type": "code",
      "source": [
        "# Defining matrix\n",
        "m <- matrix(2:15, 2)\n",
        "\n",
        "for (r in seq(nrow(m))) {\n",
        "for (c in seq(ncol(m))) {\n",
        "\tprint(m[r, c])\n",
        "}\n",
        "}\n"
      ],
      "metadata": {
        "colab": {
          "base_uri": "https://localhost:8080/"
        },
        "id": "Bfg0IBYouTyr",
        "outputId": "912d563a-7cb9-478f-c6e4-eea258a93632"
      },
      "execution_count": null,
      "outputs": [
        {
          "output_type": "stream",
          "name": "stdout",
          "text": [
            "[1] 2\n",
            "[1] 4\n",
            "[1] 6\n",
            "[1] 8\n",
            "[1] 10\n",
            "[1] 12\n",
            "[1] 14\n",
            "[1] 3\n",
            "[1] 5\n",
            "[1] 7\n",
            "[1] 9\n",
            "[1] 11\n",
            "[1] 13\n",
            "[1] 15\n"
          ]
        }
      ]
    },
    {
      "cell_type": "code",
      "source": [
        "# R Program to demonstrate the use of\n",
        "# nested for loop\n",
        "for (i in 1:3)\n",
        "{\n",
        "\tfor (j in 1:i)\n",
        "\t{\n",
        "\t\tprint(i * j)\n",
        "\t}\n",
        "}\n"
      ],
      "metadata": {
        "colab": {
          "base_uri": "https://localhost:8080/"
        },
        "id": "iqxw4FpD3Tnl",
        "outputId": "4bba843e-1c7d-41af-8cfe-3d72cd4e5906"
      },
      "execution_count": null,
      "outputs": [
        {
          "output_type": "stream",
          "name": "stdout",
          "text": [
            "[1] 1\n",
            "[1] 2\n",
            "[1] 4\n",
            "[1] 3\n",
            "[1] 6\n",
            "[1] 9\n"
          ]
        }
      ]
    },
    {
      "cell_type": "markdown",
      "source": [
        "# 7. **while loop**"
      ],
      "metadata": {
        "id": "8w7IRIKpuZKV"
      }
    },
    {
      "cell_type": "markdown",
      "source": [
        "While loop in R programming language is used when the exact number of iterations of a loop is not known beforehand. It executes the same code again and again until a stop condition is met. While loop checks for the condition to be true or false n+1 times rather than n times. This is because the while loop checks for the condition before entering the body of the loop.\n",
        "\n",
        "**R- While loop Syntax:**\n",
        "\n",
        "    while (test_expression) {\n",
        "\n",
        "        statement\n",
        "\n",
        "        update_expression\n",
        "\n",
        "    }  \n",
        "\n",
        "**How does a While loop execute?**\n",
        "\n",
        "* Control falls into the while loop.\n",
        "* The flow jumps to Condition\n",
        "* Condition is tested.\n",
        " * If the Condition yields true, the flow goes into the Body.\n",
        " * If the Condition yields false, the flow goes outside the loop\n",
        "* The statements inside the body of the loop get executed.\n",
        "* Updation takes place.\n",
        "* Control flows back to Step 2.\n",
        "* The while loop has ended and the flow has gone outside.\n",
        "\n",
        "**Important Points about while loop in R language:**\n",
        "\n",
        "* It seems to be that while the loop will run forever but it is not true, condition is provided to stop it.\n",
        "* When the condition is tested and the result is false then the loop is terminated.\n",
        "* And when the tested result is True, then the loop will continue its execution.\n",
        "\n",
        "**Example:**"
      ],
      "metadata": {
        "id": "h9MRHeAt4_pu"
      }
    },
    {
      "cell_type": "code",
      "source": [
        "x = 1\n",
        "\n",
        "# Print 1 to 5\n",
        "while(x <= 5){\n",
        "print(x)\n",
        "x = x + 1\n",
        "}\n"
      ],
      "metadata": {
        "colab": {
          "base_uri": "https://localhost:8080/"
        },
        "id": "g3VYti4Auk8N",
        "outputId": "e6555de6-3756-42f1-d6ea-b8b2fd40c37e"
      },
      "execution_count": null,
      "outputs": [
        {
          "output_type": "stream",
          "name": "stdout",
          "text": [
            "[1] 1\n",
            "[1] 2\n",
            "[1] 3\n",
            "[1] 4\n",
            "[1] 5\n"
          ]
        }
      ]
    },
    {
      "cell_type": "code",
      "source": [
        "v <- c(\"Hello\",\"while loop\",\"example\")\n",
        "cnt <- 2\n",
        "while (cnt < 7) {\n",
        "   print(v)\n",
        "   cnt = cnt + 1\n",
        "}"
      ],
      "metadata": {
        "colab": {
          "base_uri": "https://localhost:8080/"
        },
        "id": "r4BqVitbQyR4",
        "outputId": "fc333917-3ec9-4dd9-a6e3-a68e78bca5c9"
      },
      "execution_count": null,
      "outputs": [
        {
          "output_type": "stream",
          "name": "stdout",
          "text": [
            "[1] \"Hello\"      \"while loop\" \"example\"   \n",
            "[1] \"Hello\"      \"while loop\" \"example\"   \n",
            "[1] \"Hello\"      \"while loop\" \"example\"   \n",
            "[1] \"Hello\"      \"while loop\" \"example\"   \n",
            "[1] \"Hello\"      \"while loop\" \"example\"   \n"
          ]
        }
      ]
    },
    {
      "cell_type": "code",
      "source": [
        "n<-readline(prompt=\"please enter any integer value: \")\n",
        "please enter any integer value: 12367906\n",
        "n <- as.integer(n)\n",
        "sum<-0\n",
        "while(n!=0){\n",
        "    sumsum=sum+(n%%10)\n",
        "    n=as.integer(n/10)\n",
        "}\n",
        "cat(\"sum of the digits of the numbers is=\",sum)"
      ],
      "metadata": {
        "colab": {
          "base_uri": "https://localhost:8080/",
          "height": 124
        },
        "id": "2Mcw7AgqQ0PT",
        "outputId": "4cc7b30f-104d-4ed5-cc75-3f9b20aab14a"
      },
      "execution_count": null,
      "outputs": [
        {
          "output_type": "error",
          "ename": "ERROR",
          "evalue": "Error in parse(text = x, srcfile = src): <text>:2:8: unexpected symbol\n1: n<-readline(prompt=\"please enter any integer value: \")  \n2: please enter\n          ^\n",
          "traceback": [
            "Error in parse(text = x, srcfile = src): <text>:2:8: unexpected symbol\n1: n<-readline(prompt=\"please enter any integer value: \")  \n2: please enter\n          ^\nTraceback:\n"
          ]
        }
      ]
    },
    {
      "cell_type": "markdown",
      "source": [
        "**Program to check a number is palindrome or not.**"
      ],
      "metadata": {
        "id": "oTo1zmIARPx6"
      }
    },
    {
      "cell_type": "code",
      "source": [
        "n <- readline(prompt=\"Enter a four digit number please: \")\n",
        "n <- as.integer(n)\n",
        "num<-n\n",
        "rev<-0\n",
        "while(n!=0){\n",
        "    rem<-n%%10\n",
        "    rev<-rem+(rev*10)\n",
        "    n<-as.integer(n/10)\n",
        "}\n",
        "print(rev)\n",
        "if(rev==num){\n",
        "    cat(num,\"is a palindrome num\")\n",
        "}else{\n",
        "    cat(num,\"is not a palindrome number\")\n",
        "}"
      ],
      "metadata": {
        "colab": {
          "base_uri": "https://localhost:8080/"
        },
        "id": "fDqdCrXUQ5ow",
        "outputId": "ce5137a8-f1ec-45a1-813b-b13d6de541a8"
      },
      "execution_count": null,
      "outputs": [
        {
          "output_type": "stream",
          "name": "stdout",
          "text": [
            "Enter a four digit number please: 2343\n",
            "[1] 3432\n",
            "2343 is not a palindrome number"
          ]
        }
      ]
    },
    {
      "cell_type": "markdown",
      "source": [
        "**Program to check a number is Armstrong or not.**"
      ],
      "metadata": {
        "id": "icNU33bwRKN5"
      }
    },
    {
      "cell_type": "code",
      "source": [
        "num = as.integer(readline(prompt=\"Enter a number: \"))\n",
        "sum = 0\n",
        "temp = num\n",
        "while(temp > 0) {\n",
        "    digit = temp %% 10\n",
        "    sumsum = sum + (digit ^ 3)\n",
        "    temp = floor(temp / 10)\n",
        "}\n",
        "if(num == sum) {\n",
        "    print(paste(num, \"is an Armstrong number\"))\n",
        "} else {\n",
        "    print(paste(num, \"is not an Armstrong number\"))\n",
        "}"
      ],
      "metadata": {
        "colab": {
          "base_uri": "https://localhost:8080/"
        },
        "id": "6Lyz4MBIQ9r3",
        "outputId": "6c608646-ade2-40c8-f6a0-a5d6a8f1dbd9"
      },
      "execution_count": null,
      "outputs": [
        {
          "output_type": "stream",
          "name": "stdout",
          "text": [
            "Enter a number: 121\n",
            "[1] \"121 is not an Armstrong number\"\n"
          ]
        }
      ]
    },
    {
      "cell_type": "markdown",
      "source": [
        "**program to find the frequency of a digit in the number.**"
      ],
      "metadata": {
        "id": "fn0abJsoRGrJ"
      }
    },
    {
      "cell_type": "code",
      "source": [
        "num = as.integer(readline(prompt=\"Enter a number: \"))\n",
        "digit = as.integer(readline(prompt=\"Enter digit: \"))\n",
        "n=num\n",
        "count = 0\n",
        "while(num > 0) {\n",
        "        if(num%%10==digit){\n",
        "            countcount=count+1\n",
        "        }\n",
        "        num=as.integer(num/10)\n",
        "}\n",
        "print(paste(\"The frequency of\",digit,\"in\",n,\"is=\",count))"
      ],
      "metadata": {
        "colab": {
          "base_uri": "https://localhost:8080/"
        },
        "id": "QB4wgvyCRDX_",
        "outputId": "95216b44-90f0-4437-b2be-6b5af46eacab"
      },
      "execution_count": null,
      "outputs": [
        {
          "output_type": "stream",
          "name": "stdout",
          "text": [
            "Enter a number: 43\n",
            "Enter digit: 2\n",
            "[1] \"The frequency of 2 in 43 is= 0\"\n"
          ]
        }
      ]
    },
    {
      "cell_type": "code",
      "source": [
        "# R program to illustrate while loop\n",
        "\n",
        "result <- c(\"Hello World\")\n",
        "i <- 1\n",
        "\n",
        "# test expression\n",
        "while (i < 6) {\n",
        "\n",
        "print(result)\n",
        "\n",
        "# update expression\n",
        "i = i + 1\n",
        "}\n"
      ],
      "metadata": {
        "colab": {
          "base_uri": "https://localhost:8080/"
        },
        "id": "iUI7Q0IM57Yo",
        "outputId": "32212b01-8d6c-4f20-f443-914e752b5a00"
      },
      "execution_count": null,
      "outputs": [
        {
          "output_type": "stream",
          "name": "stdout",
          "text": [
            "[1] \"Hello World\"\n",
            "[1] \"Hello World\"\n",
            "[1] \"Hello World\"\n",
            "[1] \"Hello World\"\n",
            "[1] \"Hello World\"\n"
          ]
        }
      ]
    },
    {
      "cell_type": "code",
      "source": [
        "# R program to illustrate while loop\n",
        "\n",
        "result <- 1\n",
        "i <- 1\n",
        "\n",
        "# test expression\n",
        "while (i < 6) {\n",
        "\n",
        "print(result)\n",
        "\n",
        "# update expression\n",
        "i = i + 1\n",
        "result = result + 1\n",
        "}\n"
      ],
      "metadata": {
        "colab": {
          "base_uri": "https://localhost:8080/"
        },
        "id": "uuUmqLp06BAM",
        "outputId": "bf669870-465d-46f8-e8fb-25882348fa02"
      },
      "execution_count": null,
      "outputs": [
        {
          "output_type": "stream",
          "name": "stdout",
          "text": [
            "[1] 1\n",
            "[1] 2\n",
            "[1] 3\n",
            "[1] 4\n",
            "[1] 5\n"
          ]
        }
      ]
    },
    {
      "cell_type": "markdown",
      "source": [
        "# 8. **repeat loop and break statement**"
      ],
      "metadata": {
        "id": "b-hsIrXzutp9"
      }
    },
    {
      "cell_type": "markdown",
      "source": [
        "repeat is a loop which can be iterated many number of times but there is no exit condition to come out from the loop. So, break statement is used to exit from the loop. break statement can be used in any type of loop to exit from the loop.\n",
        "\n",
        "Repeat loop in R is used to iterate over a block of code multiple number of times. And also it executes the same code again and again until a break statement is found.\n",
        "\n",
        "Repeat loop, unlike other loops, doesn’t use a condition to exit the loop instead it looks for a break statement that executes if a condition within the loop body results to be true. An infinite loop in R can be created very easily with the help of the Repeat loop. The keyword used for the repeat loop is 'repeat'.\n",
        "\n",
        "**Syntax:**\n",
        "\n",
        "    repeat {\n",
        "\n",
        "        statements\n",
        "        ....\n",
        "        ....\n",
        "        if(expression) {\n",
        "\n",
        "            break\n",
        "        }\n",
        "\n",
        "    }\n",
        "\n",
        "**Example:**"
      ],
      "metadata": {
        "id": "Pu_Q0SAWuygs"
      }
    },
    {
      "cell_type": "code",
      "source": [
        "x = 1\n",
        "\n",
        "# Print 1 to 5\n",
        "repeat{\n",
        "print(x)\n",
        "x = x + 1\n",
        "if(x > 5){\n",
        "\tbreak\n",
        "}\n",
        "}\n"
      ],
      "metadata": {
        "colab": {
          "base_uri": "https://localhost:8080/"
        },
        "id": "LmyHAJY7u8PU",
        "outputId": "ff47fb60-0f68-47f9-a105-14824d56f48a"
      },
      "execution_count": null,
      "outputs": [
        {
          "output_type": "stream",
          "name": "stdout",
          "text": [
            "[1] 1\n",
            "[1] 2\n",
            "[1] 3\n",
            "[1] 4\n",
            "[1] 5\n"
          ]
        }
      ]
    },
    {
      "cell_type": "code",
      "source": [
        "v <- c(\"Hello\",\"repeat\",\"loop\")\n",
        "cnt <- 2\n",
        "repeat {\n",
        "   print(v)\n",
        "   cnt <- cnt+1\n",
        "\n",
        "   if(cnt > 5) {\n",
        "      break\n",
        "   }\n",
        "}"
      ],
      "metadata": {
        "colab": {
          "base_uri": "https://localhost:8080/"
        },
        "id": "gGx2Fi4vQgVQ",
        "outputId": "b050d35d-3171-49bc-df69-4508fcf9553e"
      },
      "execution_count": null,
      "outputs": [
        {
          "output_type": "stream",
          "name": "stdout",
          "text": [
            "[1] \"Hello\"  \"repeat\" \"loop\"  \n",
            "[1] \"Hello\"  \"repeat\" \"loop\"  \n",
            "[1] \"Hello\"  \"repeat\" \"loop\"  \n",
            "[1] \"Hello\"  \"repeat\" \"loop\"  \n"
          ]
        }
      ]
    },
    {
      "cell_type": "code",
      "source": [
        "sum <- 0\n",
        "{\n",
        "    n1<-readline(prompt=\"Enter any integer value below 20: \" )\n",
        "    n1<-as.integer(n1)\n",
        "}\n",
        "repeat{\n",
        "    sum<-sum+n1\n",
        "    n1=n1+1\n",
        "    if(n1>20){\n",
        "        break\n",
        "    }\n",
        "}\n",
        "cat(\"The sum of numbers from the repeat loop is: \",sum)"
      ],
      "metadata": {
        "colab": {
          "base_uri": "https://localhost:8080/"
        },
        "id": "_ira2bGnQhq0",
        "outputId": "6555f3f8-2d69-436d-84fa-2a438367510d"
      },
      "execution_count": null,
      "outputs": [
        {
          "output_type": "stream",
          "name": "stdout",
          "text": [
            "Enter any integer value below 20: 12\n",
            "The sum of numbers from the repeat loop is:  144"
          ]
        }
      ]
    },
    {
      "cell_type": "code",
      "source": [
        "a <- 1\n",
        "repeat {\n",
        "  if(a == 10)\n",
        "    break\n",
        "  if(a == 7){\n",
        "    a=a+1\n",
        "    next\n",
        "  }\n",
        "  print(a)\n",
        "  a <- a+1\n",
        "}"
      ],
      "metadata": {
        "colab": {
          "base_uri": "https://localhost:8080/"
        },
        "id": "iLxnIjdMQmE1",
        "outputId": "3e4d4475-b0dd-44d0-d870-ca73ae365f5e"
      },
      "execution_count": null,
      "outputs": [
        {
          "output_type": "stream",
          "name": "stdout",
          "text": [
            "[1] 1\n",
            "[1] 2\n",
            "[1] 3\n",
            "[1] 4\n",
            "[1] 5\n",
            "[1] 6\n",
            "[1] 8\n",
            "[1] 9\n"
          ]
        }
      ]
    },
    {
      "cell_type": "code",
      "source": [
        "terms<-readline(prompt=\"How many terms do you want ?\")\n",
        "terms<-as.integer(terms)\n",
        "i<-1\n",
        "repeat{\n",
        "    print(paste(\"The cube of number\",i,\"is =\",(i*i*i)))\n",
        "    if(i==terms)\n",
        "        break\n",
        "    i<-i+1\n",
        "}"
      ],
      "metadata": {
        "colab": {
          "base_uri": "https://localhost:8080/"
        },
        "id": "E-WS_Oy9Qpp_",
        "outputId": "2360be30-3cdd-46ef-b0f6-8d1830aa6ad2"
      },
      "execution_count": null,
      "outputs": [
        {
          "output_type": "stream",
          "name": "stdout",
          "text": [
            "How many terms do you want ?5\n",
            "[1] \"The cube of number 1 is = 1\"\n",
            "[1] \"The cube of number 2 is = 8\"\n",
            "[1] \"The cube of number 3 is = 27\"\n",
            "[1] \"The cube of number 4 is = 64\"\n",
            "[1] \"The cube of number 5 is = 125\"\n"
          ]
        }
      ]
    },
    {
      "cell_type": "code",
      "source": [
        "a <- 1\n",
        "repeat {\n",
        "  print(\"hello\");\n",
        "  if(a >= 5)\n",
        "    break\n",
        "  a<-a+1\n",
        "}"
      ],
      "metadata": {
        "colab": {
          "base_uri": "https://localhost:8080/"
        },
        "id": "mAN_xixIPYk3",
        "outputId": "bcdacad1-c165-41ec-f415-dae52363579e"
      },
      "execution_count": null,
      "outputs": [
        {
          "output_type": "stream",
          "name": "stdout",
          "text": [
            "[1] \"hello\"\n",
            "[1] \"hello\"\n",
            "[1] \"hello\"\n",
            "[1] \"hello\"\n",
            "[1] \"hello\"\n"
          ]
        }
      ]
    },
    {
      "cell_type": "code",
      "source": [
        "v <- c(\"Hello\",\"loop\")\n",
        "count <- 2\n",
        "repeat {\n",
        "   print(v)\n",
        "   count <- count + 1\n",
        "   if(count > 5) {\n",
        "      break\n",
        "   }\n",
        "}"
      ],
      "metadata": {
        "colab": {
          "base_uri": "https://localhost:8080/"
        },
        "id": "HlynryLYPblL",
        "outputId": "1687f419-c719-4585-ca85-6c3a201e4ae9"
      },
      "execution_count": null,
      "outputs": [
        {
          "output_type": "stream",
          "name": "stdout",
          "text": [
            "[1] \"Hello\" \"loop\" \n",
            "[1] \"Hello\" \"loop\" \n",
            "[1] \"Hello\" \"loop\" \n",
            "[1] \"Hello\" \"loop\" \n"
          ]
        }
      ]
    },
    {
      "cell_type": "code",
      "source": [
        "# R program to illustrate repeat loop\n",
        "\n",
        "result <- c(\"Hello World\")\n",
        "i <- 1\n",
        "\n",
        "# test expression\n",
        "repeat {\n",
        "\n",
        "print(result)\n",
        "\n",
        "# update expression\n",
        "i <- i + 1\n",
        "\n",
        "# Breaking condition\n",
        "if(i >5) {\n",
        "\tbreak\n",
        "}\n",
        "}\n"
      ],
      "metadata": {
        "colab": {
          "base_uri": "https://localhost:8080/"
        },
        "id": "Y_UJcPUE8kxv",
        "outputId": "102e5f49-f1dc-4fb2-e183-8e4a662c0a75"
      },
      "execution_count": null,
      "outputs": [
        {
          "output_type": "stream",
          "name": "stdout",
          "text": [
            "[1] \"Hello World\"\n",
            "[1] \"Hello World\"\n",
            "[1] \"Hello World\"\n",
            "[1] \"Hello World\"\n",
            "[1] \"Hello World\"\n"
          ]
        }
      ]
    },
    {
      "cell_type": "code",
      "source": [
        "# R program to illustrate repeat loop\n",
        "\n",
        "result <- 1\n",
        "i <- 1\n",
        "\n",
        "# test expression\n",
        "repeat {\n",
        "\n",
        "print(result)\n",
        "\n",
        "# update expression\n",
        "i <- i + 1\n",
        "result = result + 1\n",
        "\n",
        "# Breaking condition\n",
        "if(i > 5) {\n",
        "\tbreak\n",
        "}\n",
        "}\n"
      ],
      "metadata": {
        "colab": {
          "base_uri": "https://localhost:8080/"
        },
        "id": "fc3tagIy8orD",
        "outputId": "23f88b7f-5fe9-479a-c8b7-a620534107f9"
      },
      "execution_count": null,
      "outputs": [
        {
          "output_type": "stream",
          "name": "stdout",
          "text": [
            "[1] 1\n",
            "[1] 2\n",
            "[1] 3\n",
            "[1] 4\n",
            "[1] 5\n"
          ]
        }
      ]
    },
    {
      "cell_type": "markdown",
      "source": [
        "**R – while loop break**\n",
        "Here we will use the break statement in the R programming language. The break statement in R is used to bring the control out of the loop when some external condition is triggered."
      ],
      "metadata": {
        "id": "FsJezic_6J7e"
      }
    },
    {
      "cell_type": "code",
      "source": [
        "# R program to illustrate while loop\n",
        "\n",
        "result <- c(\"Hello World\")\n",
        "i <- 1\n",
        "\n",
        "# test expression\n",
        "while (i < 6) {\n",
        "\n",
        "\tprint(result)\n",
        "\n",
        "\tif( i == 3){\n",
        "\t\tbreak}\n",
        "\t# update expression\n",
        "\ti = i + 1\n",
        "}\n"
      ],
      "metadata": {
        "colab": {
          "base_uri": "https://localhost:8080/"
        },
        "id": "Phy-1ZrS6NSo",
        "outputId": "c52af567-aff0-4850-fd2a-d0a2beadd85e"
      },
      "execution_count": null,
      "outputs": [
        {
          "output_type": "stream",
          "name": "stdout",
          "text": [
            "[1] \"Hello World\"\n",
            "[1] \"Hello World\"\n",
            "[1] \"Hello World\"\n"
          ]
        }
      ]
    },
    {
      "cell_type": "code",
      "source": [
        "a<-1\n",
        "while (a < 10) {\n",
        "  print(a)\n",
        "  if(a==5)\n",
        "    break\n",
        "  a = a + 1\n",
        "}"
      ],
      "metadata": {
        "colab": {
          "base_uri": "https://localhost:8080/"
        },
        "id": "fzo52u_IPi3J",
        "outputId": "70b0501f-f592-476a-f1fc-bf49071cc57b"
      },
      "execution_count": null,
      "outputs": [
        {
          "output_type": "stream",
          "name": "stdout",
          "text": [
            "[1] 1\n",
            "[1] 2\n",
            "[1] 3\n",
            "[1] 4\n",
            "[1] 5\n"
          ]
        }
      ]
    },
    {
      "cell_type": "markdown",
      "source": [
        "**break in for loop**"
      ],
      "metadata": {
        "id": "FvjeiLkePwO3"
      }
    },
    {
      "cell_type": "code",
      "source": [
        "for (i in c(2,4,6,8)) {\n",
        "  for (j in c(1,3)) {\n",
        "      if (i==6)\n",
        "        break\n",
        "     print(i)\n",
        "  }\n",
        "}"
      ],
      "metadata": {
        "colab": {
          "base_uri": "https://localhost:8080/"
        },
        "id": "M7yf1xs9Pp3L",
        "outputId": "0a9e43ed-c621-4f2e-e5e0-2fd85ae846c3"
      },
      "execution_count": null,
      "outputs": [
        {
          "output_type": "stream",
          "name": "stdout",
          "text": [
            "[1] 2\n",
            "[1] 2\n",
            "[1] 4\n",
            "[1] 4\n",
            "[1] 8\n",
            "[1] 8\n"
          ]
        }
      ]
    },
    {
      "cell_type": "code",
      "source": [
        "num=7\n",
        "flag = 0\n",
        "if(num> 1) {\n",
        "    flag = 1\n",
        "    for(i in 2:(num-1)) {\n",
        "        if ((num %% i) == 0) {\n",
        "            flag = 0\n",
        "            break\n",
        "        }\n",
        "    }\n",
        "}\n",
        "if(num == 2)    flag = 1\n",
        "if(flag == 1) {\n",
        "    print(paste(num,\"is a prime number\"))\n",
        "} else {\n",
        "    print(paste(num,\"is not a prime number\"))\n",
        "}"
      ],
      "metadata": {
        "colab": {
          "base_uri": "https://localhost:8080/"
        },
        "id": "GGKH1akMPuqs",
        "outputId": "b87ba3cc-0af5-4482-add6-b8c847f2d882"
      },
      "execution_count": null,
      "outputs": [
        {
          "output_type": "stream",
          "name": "stdout",
          "text": [
            "[1] \"7 is a prime number\"\n"
          ]
        }
      ]
    },
    {
      "cell_type": "markdown",
      "source": [
        "# 9. **return statement**"
      ],
      "metadata": {
        "id": "nLjfFcwZvOl6"
      }
    },
    {
      "cell_type": "markdown",
      "source": [
        "return statement is used to return the result of an executed function and returns control to the calling function.\n",
        "\n",
        "**Syntax:**\n",
        "\n",
        "    return(expression)\n",
        "\n",
        "**Example:**"
      ],
      "metadata": {
        "id": "IzY7NctCvTHM"
      }
    },
    {
      "cell_type": "code",
      "source": [
        "# Checks value is either positive, negative or zero\n",
        "func <- function(x){\n",
        "if(x > 0){\n",
        "\treturn(\"Positive\")\n",
        "}else if(x < 0){\n",
        "\treturn(\"Negative\")\n",
        "}else{\n",
        "\treturn(\"Zero\")\n",
        "}\n",
        "}\n",
        "\n",
        "func(1)\n",
        "func(0)\n",
        "func(-1)\n"
      ],
      "metadata": {
        "colab": {
          "base_uri": "https://localhost:8080/",
          "height": 69
        },
        "id": "imCQVZ1LvXjL",
        "outputId": "7a7f30f1-2ca3-45aa-91fc-e291f97059d6"
      },
      "execution_count": null,
      "outputs": [
        {
          "output_type": "display_data",
          "data": {
            "text/html": [
              "'Positive'"
            ],
            "text/markdown": "'Positive'",
            "text/latex": "'Positive'",
            "text/plain": [
              "[1] \"Positive\""
            ]
          },
          "metadata": {}
        },
        {
          "output_type": "display_data",
          "data": {
            "text/html": [
              "'Zero'"
            ],
            "text/markdown": "'Zero'",
            "text/latex": "'Zero'",
            "text/plain": [
              "[1] \"Zero\""
            ]
          },
          "metadata": {}
        },
        {
          "output_type": "display_data",
          "data": {
            "text/html": [
              "'Negative'"
            ],
            "text/markdown": "'Negative'",
            "text/latex": "'Negative'",
            "text/plain": [
              "[1] \"Negative\""
            ]
          },
          "metadata": {}
        }
      ]
    },
    {
      "cell_type": "markdown",
      "source": [
        "# 10. **next statement**"
      ],
      "metadata": {
        "id": "R6Hfh1ulvdmV"
      }
    },
    {
      "cell_type": "markdown",
      "source": [
        "next statement is used to skip the current iteration without executing the further statements and continues the next iteration cycle without terminating the loop.\n",
        "\n",
        "It discontinues a particular iteration and jumps to the next iteration. So when next is encountered, that iteration is discarded and the condition is checked again. If true, the next iteration is executed. Hence, the next statement is used to skip a particular iteration in the loop.\n",
        "\n",
        "Example:\n",
        "\n",
        "**Example:**"
      ],
      "metadata": {
        "id": "DOHVaBnCvhal"
      }
    },
    {
      "cell_type": "code",
      "source": [
        "# Defining vector\n",
        "x <- 1:10\n",
        "\n",
        "# Print even numbers\n",
        "for(i in x){\n",
        "if(i%%2 != 0){\n",
        "\tnext #Jumps to next loop\n",
        "}\n",
        "print(i)\n",
        "}\n"
      ],
      "metadata": {
        "colab": {
          "base_uri": "https://localhost:8080/"
        },
        "id": "rOXsMg6bvgYO",
        "outputId": "649156dc-c4b4-430c-eb35-4f547edb3827"
      },
      "execution_count": null,
      "outputs": [
        {
          "output_type": "stream",
          "name": "stdout",
          "text": [
            "[1] 2\n",
            "[1] 4\n",
            "[1] 6\n",
            "[1] 8\n",
            "[1] 10\n"
          ]
        }
      ]
    },
    {
      "cell_type": "code",
      "source": [
        "# R Program to demonstrate the use of\n",
        "# next in for loop\n",
        "for (i in c(3, 6, 23, 19, 0, 21))\n",
        "{\n",
        "\tif (i == 0)\n",
        "\t{\n",
        "\t\tnext\n",
        "\t}\n",
        "\tprint(i)\n",
        "}\n",
        "print('Outside Loop')\n"
      ],
      "metadata": {
        "colab": {
          "base_uri": "https://localhost:8080/"
        },
        "id": "I0W-0hIO3hcH",
        "outputId": "f83a8bc2-02b4-4d2a-beb9-b0814c51bfed"
      },
      "execution_count": null,
      "outputs": [
        {
          "output_type": "stream",
          "name": "stdout",
          "text": [
            "[1] 3\n",
            "[1] 6\n",
            "[1] 23\n",
            "[1] 19\n",
            "[1] 21\n",
            "[1] \"Outside Loop\"\n"
          ]
        }
      ]
    },
    {
      "cell_type": "markdown",
      "source": [
        "**R – while loop next**"
      ],
      "metadata": {
        "id": "ecePHRgF6cJ3"
      }
    },
    {
      "cell_type": "code",
      "source": [
        "# Set an initial value for a variable\n",
        "x <- 1\n",
        "\n",
        "# Loop while x is less than 10\n",
        "while (x < 10) {\n",
        "if (x == 3) {\n",
        "\t# Skip iteration when x is 3\n",
        "\tx <- x + 1\n",
        "\tnext\n",
        "}\n",
        "print(paste(\"The current value of x is:\", x))\n",
        "x <- x + 1\n",
        "}\n",
        "\n",
        "# Print a message after the loop has finished\n",
        "print(\"The loop has ended.\")\n"
      ],
      "metadata": {
        "colab": {
          "base_uri": "https://localhost:8080/"
        },
        "id": "UYpUGBZ46dZP",
        "outputId": "eb0c6e52-ce3f-4403-9027-f71191aeed57"
      },
      "execution_count": null,
      "outputs": [
        {
          "output_type": "stream",
          "name": "stdout",
          "text": [
            "[1] \"The current value of x is: 1\"\n",
            "[1] \"The current value of x is: 2\"\n",
            "[1] \"The current value of x is: 4\"\n",
            "[1] \"The current value of x is: 5\"\n",
            "[1] \"The current value of x is: 6\"\n",
            "[1] \"The current value of x is: 7\"\n",
            "[1] \"The current value of x is: 8\"\n",
            "[1] \"The current value of x is: 9\"\n",
            "[1] \"The loop has ended.\"\n"
          ]
        }
      ]
    },
    {
      "cell_type": "markdown",
      "source": [
        "In this instance, x’s initial value is set to 1 at the beginning. Then, as long as x is less than 10, we continue iterating using a while-loop. We use an if statement inside the loop to see if x equals 3. If so, the loop’s current iteration is skipped in favor of the following one using the next statement. If not, we use the x – x + 1 expression to increment x by 1 and output a message stating the current value of x.\n",
        "\n",
        "The next line instructs R to move on to the next iteration of the loop and skip the current one. based on a condition, over a subset of the loop’s iterations without ever leaving the loop."
      ],
      "metadata": {
        "id": "rti2qaDY6ztU"
      }
    },
    {
      "cell_type": "code",
      "source": [
        "a1<- c(10L,-11L,12L,-13L,14L,-15L,16L,-17L,18L)\n",
        "sum<-0\n",
        "for(i in a1){\n",
        "    if(i<0){\n",
        "        next\n",
        "    }\n",
        "    sum=sum+i\n",
        "}\n",
        "cat(\"The sum of all positive numbers in array is=\",sum)"
      ],
      "metadata": {
        "colab": {
          "base_uri": "https://localhost:8080/"
        },
        "id": "yi-LeumsPOhQ",
        "outputId": "2eaaf436-0b81-488b-c470-10318f03a1e9"
      },
      "execution_count": null,
      "outputs": [
        {
          "output_type": "stream",
          "name": "stdout",
          "text": [
            "The sum of all positive numbers in array is= 70"
          ]
        }
      ]
    },
    {
      "cell_type": "code",
      "source": [
        "j<-0\n",
        "while(j<10){\n",
        "    if (j==7){\n",
        "        j=j+1\n",
        "        next\n",
        "    }\n",
        "    cat(\"\\nnumber is =\",j)\n",
        "    j=j+1\n",
        "}"
      ],
      "metadata": {
        "colab": {
          "base_uri": "https://localhost:8080/"
        },
        "id": "v-JQPzJXPQ-S",
        "outputId": "4d441dc7-f135-4d80-9543-72f270c13d9b"
      },
      "execution_count": null,
      "outputs": [
        {
          "output_type": "stream",
          "name": "stdout",
          "text": [
            "\n",
            "number is = 0\n",
            "number is = 1\n",
            "number is = 2\n",
            "number is = 3\n",
            "number is = 4\n",
            "number is = 5\n",
            "number is = 6\n",
            "number is = 8\n",
            "number is = 9"
          ]
        }
      ]
    },
    {
      "cell_type": "markdown",
      "source": [
        "**R While Loop with If .. Else**"
      ],
      "metadata": {
        "id": "8-hnuGAr62WJ"
      }
    },
    {
      "cell_type": "code",
      "source": [
        "x <- 1\n",
        "\n",
        "while (x <= 10) {\n",
        "if (x %% 2 == 0) {\n",
        "\tprint(paste(x, \"is even\"))\n",
        "} else {\n",
        "\tprint(paste(x, \"is odd\"))\n",
        "}\n",
        "x <- x + 1\n",
        "}\n"
      ],
      "metadata": {
        "colab": {
          "base_uri": "https://localhost:8080/"
        },
        "id": "sHdzGNyY65O_",
        "outputId": "d89b0ddc-d307-4f9e-bae7-84fa0f94ec2a"
      },
      "execution_count": null,
      "outputs": [
        {
          "output_type": "stream",
          "name": "stdout",
          "text": [
            "[1] \"1 is odd\"\n",
            "[1] \"2 is even\"\n",
            "[1] \"3 is odd\"\n",
            "[1] \"4 is even\"\n",
            "[1] \"5 is odd\"\n",
            "[1] \"6 is even\"\n",
            "[1] \"7 is odd\"\n",
            "[1] \"8 is even\"\n",
            "[1] \"9 is odd\"\n",
            "[1] \"10 is even\"\n"
          ]
        }
      ]
    },
    {
      "cell_type": "markdown",
      "source": [
        "In this illustration, we initialize a variable x to 1, and then we iterate through the integers 1 through 10 using a while loop. We utilize an if-else statement inside the loop to determine whether x is even or odd. We publish a message stating that x is even if it is. We print a message noting that x is unusual if it is. Then, until x is more than 10, we increase x by 1 and loop till x is greater than 10."
      ],
      "metadata": {
        "id": "m9y8VUMe691J"
      }
    },
    {
      "cell_type": "markdown",
      "source": [
        "# 11. **go-to statements**"
      ],
      "metadata": {
        "id": "XEB42FNY9uIo"
      }
    },
    {
      "cell_type": "markdown",
      "source": [
        "Goto statement in a general programming sense is a command that takes the code to the specified line or block of code provided to it. This is helpful when the need is to jump from one programming section to the other without the use of functions and without creating an abnormal shift.\n",
        "\n",
        "Unfortunately, R doesn’t support goto but its algorithm can be easily converted to depict its application. By using following methods this can be carried out more smoothly:\n",
        "\n",
        "* Use of if and else\n",
        "* Using break, next and return\n",
        "\n",
        "**Flowchart**\n",
        "\n",
        "1. Goto encountered\n",
        "2. Jump to the specified line number/ name of the code block\n",
        "3. Execute code\n",
        "\n",
        "**Example:**"
      ],
      "metadata": {
        "id": "w9RpEW4W9y2A"
      }
    },
    {
      "cell_type": "code",
      "source": [
        "a <- 4\n",
        "if ((a %% 2) == 0){\n",
        "\tprint(\"even\")\n",
        "} else{\n",
        "\tprint(\"odd\")\n",
        "}\n"
      ],
      "metadata": {
        "colab": {
          "base_uri": "https://localhost:8080/"
        },
        "id": "MWaUXNjd-I4q",
        "outputId": "ba3a7440-2c7e-47d3-e423-5158b45f2b09"
      },
      "execution_count": null,
      "outputs": [
        {
          "output_type": "stream",
          "name": "stdout",
          "text": [
            "[1] \"even\"\n"
          ]
        }
      ]
    },
    {
      "cell_type": "markdown",
      "source": [
        "**Explanatio in:**\n",
        "\n",
        "* **With goto:**\n",
        " 1. Two blocks named EVEN and ODD\n",
        " 2. Evaluate for a\n",
        " 3. if even, goto block named EVEN\n",
        " 4. if odd, goto block named ODD\n",
        "* **Without goto:**\n",
        " 1. Evaluate for a\n",
        " 2. if even, run the statement within if block\n",
        " 3. if odd, run the statement within else block"
      ],
      "metadata": {
        "id": "Bf8ZjGY7-dv-"
      }
    },
    {
      "cell_type": "code",
      "source": [
        "a <- 16\n",
        "b <- a/2\n",
        "flag <- 0\n",
        "i <- 2\n",
        "repeat{\n",
        "\tif ((a %% i)== 0){\n",
        "\t\tflag <- 1\n",
        "\t\tbreak\n",
        "\t}\n",
        "}\n",
        "\n",
        "if (flag == 1){\n",
        "\tprint(\"composite\")\n",
        "} else{\n",
        "\tprint(\"prime\")\n",
        "}\n"
      ],
      "metadata": {
        "colab": {
          "base_uri": "https://localhost:8080/"
        },
        "id": "fwrTKGdT-xZC",
        "outputId": "1720ab48-f895-4fdd-f86d-af4aef3bffcc"
      },
      "execution_count": null,
      "outputs": [
        {
          "output_type": "stream",
          "name": "stdout",
          "text": [
            "[1] \"composite\"\n"
          ]
        }
      ]
    },
    {
      "cell_type": "markdown",
      "source": [
        "**Explanation:**\n",
        "\n",
        "* **With goto :**\n",
        " 1. This doesn’t require flag and if statement to check flag.\n",
        " 2. Evaluate for a\n",
        " 3. If a factor is found take the control to the line number that has the print statement – print(“composite).\n",
        " 4. If not take it to the line number that has statement – print(“prime”)\n",
        "* **Without goto:**\n",
        " 1. Evaluate for a\n",
        " 2. If factor found, change flag\n",
        " 3. when the loop is complete check flag\n",
        " 4. Print accordingly\n",
        "\n",
        "**Note:** Since R doesn’t have the concept of the goto statement, the above examples were made using simple if-else and break statements."
      ],
      "metadata": {
        "id": "BlOtvsT4_A1R"
      }
    }
  ]
}