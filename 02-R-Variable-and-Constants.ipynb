{
  "nbformat": 4,
  "nbformat_minor": 0,
  "metadata": {
    "colab": {
      "provenance": [],
      "authorship_tag": "ABX9TyM8urpVQnIohUQHIhkIXl5h",
      "include_colab_link": true
    },
    "kernelspec": {
      "name": "ir",
      "display_name": "R"
    },
    "language_info": {
      "name": "R"
    }
  },
  "cells": [
    {
      "cell_type": "markdown",
      "metadata": {
        "id": "view-in-github",
        "colab_type": "text"
      },
      "source": [
        "<a href=\"https://colab.research.google.com/github/OshankAgrawal/Learning-R-Programming/blob/main/02-R-Variable-and-Constants.ipynb\" target=\"_parent\"><img src=\"https://colab.research.google.com/assets/colab-badge.svg\" alt=\"Open In Colab\"/></a>"
      ]
    },
    {
      "cell_type": "markdown",
      "source": [
        "# **Variables in R**"
      ],
      "metadata": {
        "id": "8BI6ZgdEVAHx"
      }
    },
    {
      "cell_type": "markdown",
      "source": [
        "A variable is a memory allocated for the storage of specific data and the name associated with the variable is used to work around this reserved block.\n",
        "\n",
        "The name given to a variable is known as its variable name. Usually a single variable stores only the data belonging to a certain data type.\n",
        "\n",
        "The name is so given to them because when the program executes there is subject to change hence it varies from time to time."
      ],
      "metadata": {
        "id": "rZTVxfxEVDw_"
      }
    },
    {
      "cell_type": "markdown",
      "source": [
        "R Programming Language is a dynamically typed language, i.e. the R Language Variables are not declared with a data type rather they take the data type of the R-object assigned to them.\n",
        "\n",
        "This feature is also shown in languages like Python and PHP.\n",
        "\n",
        "Creating Variables in R Language\n",
        "Let’s look at ways of declaring and initializing variables in R language:\n",
        "\n",
        "R supports three ways of variable assignment:\n",
        "\n",
        "1. Using equal operator- operators use an arrow or an equal sign to assign values to variables.\n",
        "2. Using the leftward operator- data is copied from right to left.\n",
        "3. Using the rightward operator- data is copied from left to right.\n",
        "\n",
        "**Syntax for creating R Variables**\n",
        "Types of Variable Creation in R:\n",
        "\n",
        "* Using equal to operators\n",
        "  variable_name = value\n",
        "\n",
        "* Using leftward operator\n",
        " variable_name <- value\n",
        "\n",
        "* Using rightward operator\n",
        " value -> variable_name\n",
        "\n",
        "Creating Variables in R With Example\n",
        "\n",
        "Let’s look at the live example of creating Variables in R:"
      ],
      "metadata": {
        "id": "Xj57B3ESXFvH"
      }
    },
    {
      "cell_type": "code",
      "source": [
        "# R program to illustrate\n",
        "# Initialization of variables\n",
        "\n",
        "# using equal to operator\n",
        "var1 = \"hello\"\n",
        "print(var1)\n",
        "\n",
        "# using leftward operator\n",
        "var2 <- \"hello\"\n",
        "print(var2)\n",
        "\n",
        "# using rightward operator\n",
        "\"hello\" -> var3\n",
        "print(var3)\n"
      ],
      "metadata": {
        "colab": {
          "base_uri": "https://localhost:8080/"
        },
        "id": "kiA1kFGTXdzB",
        "outputId": "032b88d9-c15e-4f65-bb36-44afea26a164"
      },
      "execution_count": null,
      "outputs": [
        {
          "output_type": "stream",
          "name": "stdout",
          "text": [
            "[1] \"hello\"\n",
            "[1] \"hello\"\n",
            "[1] \"hello\"\n"
          ]
        }
      ]
    },
    {
      "cell_type": "code",
      "source": [
        "var1 = \"Simple Assignment\"\n",
        "var2 <- \"Leftward Assignment\"\n",
        "\"Rightward Assignment\" -> var3\n",
        "var1\n",
        "var2\n",
        "var3"
      ],
      "metadata": {
        "colab": {
          "base_uri": "https://localhost:8080/",
          "height": 69
        },
        "id": "TVVaK0B_YQuE",
        "outputId": "ea9ecd13-bd9b-4413-d039-77ab36788fde"
      },
      "execution_count": null,
      "outputs": [
        {
          "output_type": "display_data",
          "data": {
            "text/html": [
              "'Simple Assignment'"
            ],
            "text/markdown": "'Simple Assignment'",
            "text/latex": "'Simple Assignment'",
            "text/plain": [
              "[1] \"Simple Assignment\""
            ]
          },
          "metadata": {}
        },
        {
          "output_type": "display_data",
          "data": {
            "text/html": [
              "'Leftward Assignment'"
            ],
            "text/markdown": "'Leftward Assignment'",
            "text/latex": "'Leftward Assignment'",
            "text/plain": [
              "[1] \"Leftward Assignment\""
            ]
          },
          "metadata": {}
        },
        {
          "output_type": "display_data",
          "data": {
            "text/html": [
              "'Rightward Assignment'"
            ],
            "text/markdown": "'Rightward Assignment'",
            "text/latex": "'Rightward Assignment'",
            "text/plain": [
              "[1] \"Rightward Assignment\""
            ]
          },
          "metadata": {}
        }
      ]
    },
    {
      "cell_type": "markdown",
      "source": [
        "# **Nomenclature of R Variables**"
      ],
      "metadata": {
        "id": "b9bLNLGKYrAp"
      }
    },
    {
      "cell_type": "markdown",
      "source": [
        "The following rules need to be kept in mind while naming a R variable:\n",
        "\n",
        "* A valid variable name consists of a combination of alphabets, numbers, dot(.), and underscore(_) characters. Example: var.1_ is valid\n",
        "* Apart from the dot and underscore operators, no other special character is allowed. Example: var$1 or var#1 both are invalid\n",
        "* Variables can start with alphabets or dot characters. Example: .var or var is valid\n",
        "* The variable should not start with numbers or underscore. Example: 2var or _var is invalid.\n",
        "* If a variable starts with a dot the next thing after the dot cannot be a number. Example: .3var is invalid\n",
        "* The variable name should not be a reserved keyword in R. Example: TRUE, FALSE,etc."
      ],
      "metadata": {
        "id": "h5WY8KEYYeYj"
      }
    },
    {
      "cell_type": "markdown",
      "source": [
        "**Important Methods for R Variables**\n",
        "\n",
        "R provides some useful methods to perform operations on variables. These methods are used to determine the data type of the variable, finding a variable, deleting a variable, etc. Following are some of the methods used to work on variables:"
      ],
      "metadata": {
        "id": "mntEL5llY3U3"
      }
    },
    {
      "cell_type": "markdown",
      "source": [
        "1. **class() function**\n",
        "\n",
        "This built-in function is used to determine the data type of the variable provided to it.\n",
        "\n",
        "The R variable to be checked is passed to this as an argument and it prints the data type in return.\n",
        "\n",
        "**Syntax**\n",
        "\n",
        "**class(variable)**"
      ],
      "metadata": {
        "id": "6hRGXZCpY6-H"
      }
    },
    {
      "cell_type": "code",
      "source": [
        "var1 = \"hello\"\n",
        "print(class(var1))\n"
      ],
      "metadata": {
        "colab": {
          "base_uri": "https://localhost:8080/"
        },
        "id": "vDayOoEVZHVj",
        "outputId": "aeedab69-f596-4a49-891d-dacfcc7d0d46"
      },
      "execution_count": null,
      "outputs": [
        {
          "output_type": "stream",
          "name": "stdout",
          "text": [
            "[1] \"character\"\n"
          ]
        }
      ]
    },
    {
      "cell_type": "markdown",
      "source": [
        "2. **ls() function**\n",
        "\n",
        "This built-in function is used to know all the present variables in the workspace.\n",
        "\n",
        "This is generally helpful when dealing with a large number of variables at once and helps prevents overwriting any of them.\n",
        "\n",
        "**Syntax**\n",
        "\n",
        "**ls()**"
      ],
      "metadata": {
        "id": "gGWPREQjZSQQ"
      }
    },
    {
      "cell_type": "code",
      "source": [
        "# using equal to operator\n",
        "var1 = \"hello\"\n",
        "\n",
        "# using leftward operator\n",
        "var2 <- \"hello\"\n",
        "\n",
        "# using rightward operator\n",
        "\"hello\" -> var3\n",
        "\n",
        "print(ls())\n"
      ],
      "metadata": {
        "colab": {
          "base_uri": "https://localhost:8080/"
        },
        "id": "DtKKiB3BZeT4",
        "outputId": "254ae6ba-644b-4e61-885b-575baea844d5"
      },
      "execution_count": null,
      "outputs": [
        {
          "output_type": "stream",
          "name": "stdout",
          "text": [
            "[1] \"var1\" \"var2\" \"var3\"\n"
          ]
        }
      ]
    },
    {
      "cell_type": "markdown",
      "source": [
        "3. **rm() function**\n",
        "\n",
        "This is again a built-in function used to delete an unwanted variable within your workspace.\n",
        "\n",
        "This helps clear the memory space allocated to certain variables that are not in use thereby creating more space for others. The name of the variable to be deleted is passed as an argument to it.\n",
        "\n",
        "**Syntax**\n",
        "\n",
        "**rm(variable)**"
      ],
      "metadata": {
        "id": "K3i4tYSGZkVm"
      }
    },
    {
      "cell_type": "code",
      "source": [
        "# using equal to operator\n",
        "var1 = \"hello\"\n",
        "\n",
        "# using leftward operator\n",
        "var2 <- \"hello\"\n",
        "\n",
        "# using rightward operator\n",
        "\"hello\" -> var3\n",
        "print(var3)\n",
        "# Removing variable\n",
        "rm(var3)\n",
        "print(var3)\n"
      ],
      "metadata": {
        "colab": {
          "base_uri": "https://localhost:8080/",
          "height": 124
        },
        "id": "84QwXr5dZtcB",
        "outputId": "72aca8b1-a0be-448f-f9fc-9f58e5108410"
      },
      "execution_count": null,
      "outputs": [
        {
          "output_type": "stream",
          "name": "stdout",
          "text": [
            "[1] \"hello\"\n"
          ]
        },
        {
          "output_type": "error",
          "ename": "ERROR",
          "evalue": "Error in eval(expr, envir, enclos): object 'var3' not found\n",
          "traceback": [
            "Error in eval(expr, envir, enclos): object 'var3' not found\nTraceback:\n",
            "1. print(var3)"
          ]
        }
      ]
    },
    {
      "cell_type": "markdown",
      "source": [
        "# **Scope of Variables in R programming**"
      ],
      "metadata": {
        "id": "LBSxGVk-aC50"
      }
    },
    {
      "cell_type": "markdown",
      "source": [
        "The location where we can find a variable and also access it if required is called the scope of a variable. There are mainly two types of variable scopes:"
      ],
      "metadata": {
        "id": "cNRjzSYQaAQD"
      }
    },
    {
      "cell_type": "markdown",
      "source": [
        "1. **Global Variables**\n",
        "\n",
        "Global variables are those variables that exist throughout the execution of a program. It can be changed and accessed from any part of the program.\n",
        "\n",
        "As the name suggests, Global Variables can be accessed from any part of the program.\n",
        "\n",
        "They are available throughout the lifetime of a program.\n",
        "They are declared anywhere in the program outside all of the functions or blocks.\n",
        "Declaring global variables\n",
        "\n",
        "Global variables are usually declared outside of all of the functions and blocks. They can be accessed from any portion of the program."
      ],
      "metadata": {
        "id": "JiE7XBCyaLbs"
      }
    },
    {
      "cell_type": "code",
      "source": [
        "# R program to illustrate\n",
        "# usage of global variables\n",
        "\n",
        "# global variable\n",
        "global = 5\n",
        "\n",
        "# global variable accessed from\n",
        "# within a function\n",
        "display = function(){\n",
        "print(global)\n",
        "}\n",
        "display()\n",
        "\n",
        "# changing value of global variable\n",
        "global = 10\n",
        "display()\n"
      ],
      "metadata": {
        "colab": {
          "base_uri": "https://localhost:8080/"
        },
        "id": "I0hQKZHzaOhd",
        "outputId": "98ae12ff-3368-4fdf-ab69-efc808f43e91"
      },
      "execution_count": null,
      "outputs": [
        {
          "output_type": "stream",
          "name": "stdout",
          "text": [
            "[1] 5\n",
            "[1] 10\n"
          ]
        }
      ]
    },
    {
      "cell_type": "markdown",
      "source": [
        "In the above code, the variable ‘global’ is declared at the top of the program outside all of the functions so it is a global variable and can be accessed or updated from anywhere in the program."
      ],
      "metadata": {
        "id": "Hp4JWrXPaVD6"
      }
    },
    {
      "cell_type": "markdown",
      "source": [
        "2. **Local Variables**\n",
        "\n",
        "Local variables are those variables that exist only within a certain part of a program like a function and are released when the function call ends. Local variables do not exist outside the block in which they are declared, i.e. they can not be accessed or used outside that block.\n",
        "\n",
        "Declaring local variables\n",
        "\n",
        "Local variables are declared inside a block."
      ],
      "metadata": {
        "id": "r-lNZvH_aXri"
      }
    },
    {
      "cell_type": "code",
      "source": [
        "# R program to illustrate\n",
        "# usage of local variables\n",
        "\n",
        "func = function(){\n",
        "# this variable is local to the\n",
        "# function func() and cannot be\n",
        "# accessed outside this function\n",
        "age = 18\n",
        "print(age)\n",
        "}\n",
        "\n",
        "cat(\"Age is:\\n\")\n",
        "func()\n"
      ],
      "metadata": {
        "colab": {
          "base_uri": "https://localhost:8080/"
        },
        "id": "kQuNzaBHab7V",
        "outputId": "72e6d098-6920-40d8-9ea6-a881f054943a"
      },
      "execution_count": null,
      "outputs": [
        {
          "output_type": "stream",
          "name": "stdout",
          "text": [
            "Age is:\n",
            "[1] 18\n"
          ]
        }
      ]
    },
    {
      "cell_type": "markdown",
      "source": [
        "# **Difference between local and global variables in R**"
      ],
      "metadata": {
        "id": "so13BQBIaiKq"
      }
    },
    {
      "cell_type": "markdown",
      "source": [
        "1. **Scope** A global variable is defined outside of any function and may be accessed from anywhere in the program, as opposed to a local variable.\n",
        "2. **Lifetime** A local variable’s lifetime is constrained by the function in which it is defined. The local variable is destroyed once the function has finished running. A global variable, on the other hand, doesn’t leave memory until the program is finished running or the variable is explicitly deleted.\n",
        "3. **Naming conflicts** If the same variable name is used in different portions of the program, they may occur since a global variable can be accessed from anywhere in the program. Contrarily, local variables are solely applicable to the function in which they are defined, reducing the likelihood of naming conflicts.\n",
        "4. **Memory usage** Because global variables are kept in memory throughout program execution, they can eat up more memory than local variables. Local variables, on the other hand, are created and destroyed only when necessary, therefore they normally use less memory."
      ],
      "metadata": {
        "id": "QaxInaZhamyq"
      }
    },
    {
      "cell_type": "markdown",
      "source": [
        "# **Constants in R**"
      ],
      "metadata": {
        "id": "8TKrx0o0kvdm"
      }
    },
    {
      "cell_type": "markdown",
      "source": [
        "R is a popular programming language and environment for statistical computing and graphics, providing a variety of built-in constants that are useful for different types of data analysis and scientific computations. Understanding these constants is essential for efficient coding and accurate results.\n",
        "\n",
        "Built-in constants in R are predefined values that are universally recognized within the R environment. These constants simplify coding by providing commonly used values that are often needed in various calculations and data processing tasks. They cover a range of areas including mathematical constants, machine limits, and logical values."
      ],
      "metadata": {
        "id": "97urMOVyk0Dr"
      }
    },
    {
      "cell_type": "markdown",
      "source": [
        "# **Mathematical Constants**"
      ],
      "metadata": {
        "id": "WVmVZkPMlC9k"
      }
    },
    {
      "cell_type": "markdown",
      "source": [
        "R Programming Language includes several important mathematical constants which are frequently used in statistical computations and mathematical modeling."
      ],
      "metadata": {
        "id": "bUN20CACk8_7"
      }
    },
    {
      "cell_type": "markdown",
      "source": [
        "1. **Pi (π):**\n",
        "The constant pi in R represents the ratio of the circumference of a circle to its diameter, approximately 3.14159."
      ],
      "metadata": {
        "id": "41mce45ilJJf"
      }
    },
    {
      "cell_type": "code",
      "source": [
        "print(pi)"
      ],
      "metadata": {
        "colab": {
          "base_uri": "https://localhost:8080/"
        },
        "id": "LhCdiLL-lNB4",
        "outputId": "19be2b01-bb4d-46fa-adaa-9b71e3793d5e"
      },
      "execution_count": null,
      "outputs": [
        {
          "output_type": "stream",
          "name": "stdout",
          "text": [
            "[1] 3.141593\n"
          ]
        }
      ]
    },
    {
      "cell_type": "markdown",
      "source": [
        "2. **Infinity:**\n",
        "R uses Inf to represent positive infinity and -Inf for negative infinity. These are useful in mathematical computations that result in values beyond the largest representable number."
      ],
      "metadata": {
        "id": "QCczjjYMlQMq"
      }
    },
    {
      "cell_type": "code",
      "source": [
        "e <- exp(1)\n",
        "print(e)"
      ],
      "metadata": {
        "colab": {
          "base_uri": "https://localhost:8080/"
        },
        "id": "xOfCzIOjlXGM",
        "outputId": "5f113b20-6f33-45df-e32a-2ed983720803"
      },
      "execution_count": null,
      "outputs": [
        {
          "output_type": "stream",
          "name": "stdout",
          "text": [
            "[1] 2.718282\n"
          ]
        }
      ]
    },
    {
      "cell_type": "markdown",
      "source": [
        "3. **Not a Number (NaN):**\n",
        "The constant NaN stands for “Not a Number” and is used to represent undefined or unrepresentable values, particularly in floating-point calculations."
      ],
      "metadata": {
        "id": "FLmALa6YlabZ"
      }
    },
    {
      "cell_type": "code",
      "source": [
        "print(NaN)"
      ],
      "metadata": {
        "colab": {
          "base_uri": "https://localhost:8080/"
        },
        "id": "HRJVD1v_ld78",
        "outputId": "090c1892-9eea-4624-d57d-23848704cd32"
      },
      "execution_count": null,
      "outputs": [
        {
          "output_type": "stream",
          "name": "stdout",
          "text": [
            "[1] NaN\n"
          ]
        }
      ]
    },
    {
      "cell_type": "markdown",
      "source": [
        "4. **Inf:**\n",
        "This constant represents positive infinity. It is useful for representing values that are infinitely large."
      ],
      "metadata": {
        "id": "WpEaRLVplfmC"
      }
    },
    {
      "cell_type": "code",
      "source": [
        "print(Inf)"
      ],
      "metadata": {
        "colab": {
          "base_uri": "https://localhost:8080/"
        },
        "id": "RPKXOmd4llbD",
        "outputId": "033452a7-c9e1-4593-bbe5-6f2e0443d28a"
      },
      "execution_count": null,
      "outputs": [
        {
          "output_type": "stream",
          "name": "stdout",
          "text": [
            "[1] Inf\n"
          ]
        }
      ]
    },
    {
      "cell_type": "markdown",
      "source": [
        "5. **-Inf:**\n",
        "This constant represents negative infinity."
      ],
      "metadata": {
        "id": "WcU_mQ0Clmu5"
      }
    },
    {
      "cell_type": "code",
      "source": [
        "print(-Inf)"
      ],
      "metadata": {
        "colab": {
          "base_uri": "https://localhost:8080/"
        },
        "id": "ofUNHjLylsXL",
        "outputId": "53529886-94f8-4200-f159-c90c48b6113c"
      },
      "execution_count": null,
      "outputs": [
        {
          "output_type": "stream",
          "name": "stdout",
          "text": [
            "[1] -Inf\n"
          ]
        }
      ]
    },
    {
      "cell_type": "markdown",
      "source": [
        "6. **TRUE and FALSE**\n",
        "These constants represent logical true and false values."
      ],
      "metadata": {
        "id": "96Q_uviWlx2U"
      }
    },
    {
      "cell_type": "code",
      "source": [
        "print(TRUE)\n",
        "print(FALSE)"
      ],
      "metadata": {
        "id": "dfpzmG-wl3Tc",
        "outputId": "2c8fce14-7d66-43e5-e0c1-012013b14d9b",
        "colab": {
          "base_uri": "https://localhost:8080/"
        }
      },
      "execution_count": null,
      "outputs": [
        {
          "output_type": "stream",
          "name": "stdout",
          "text": [
            "[1] TRUE\n",
            "[1] FALSE\n"
          ]
        }
      ]
    }
  ]
}