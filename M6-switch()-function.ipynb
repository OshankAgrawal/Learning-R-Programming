{
  "nbformat": 4,
  "nbformat_minor": 0,
  "metadata": {
    "colab": {
      "provenance": [],
      "authorship_tag": "ABX9TyPR1s9cJR+sGt+ixVgzIMlC",
      "include_colab_link": true
    },
    "kernelspec": {
      "name": "ir",
      "display_name": "R"
    },
    "language_info": {
      "name": "R"
    }
  },
  "cells": [
    {
      "cell_type": "markdown",
      "metadata": {
        "id": "view-in-github",
        "colab_type": "text"
      },
      "source": [
        "<a href=\"https://colab.research.google.com/github/OshankAgrawal/Learning-R-Programming/blob/main/M6-switch()-function.ipynb\" target=\"_parent\"><img src=\"https://colab.research.google.com/assets/colab-badge.svg\" alt=\"Open In Colab\"/></a>"
      ]
    },
    {
      "cell_type": "markdown",
      "source": [
        "# **switch() function in R**"
      ],
      "metadata": {
        "id": "ZlxvBFEGlQ1G"
      }
    },
    {
      "cell_type": "markdown",
      "source": [
        "A switch statement is a selection control mechanism that allows the value of an expression to change the control flow of program execution via map and search.\n",
        "\n",
        "The switch statement is used in place of long if statements which compare a variable with several integral values. It is a multi-way branch statement which provides an easy way to dispatch execution for different parts of code. This code is based on the value of the expression.\n",
        "\n",
        "This statement allows a variable to be tested for equality against a list of values. A switch statement is a little bit complicated. To understand it, we have some key points which are as follows:\n",
        "\n",
        "* If expression type is a character string, the string is matched to the listed cases.\n",
        "* If there is more than one match, the first match element is used.\n",
        "* No default case is available.\n",
        "* If no case is matched, an unnamed case is used.\n",
        "\n",
        "There are basically two ways in which one of the cases is selected:\n",
        "\n",
        "1. **Based on Index**\n",
        "If the cases are values like a character vector, and the expression is evaluated to a number than the expression's result is used as an index to select the case.\n",
        "\n",
        "2. **Based on Matching Value**\n",
        "When the cases have both case value and output value like [\"case_1\"=\"value1\"], then the expression value is matched against case values. If there is a match with the case, the corresponding value is the output.\n",
        "\n",
        "The basic syntax of If-else statement is as follows:\n",
        "\n",
        "    switch(expression, case1, case2, case3....)  \n",
        "\n",
        "**Example:**"
      ],
      "metadata": {
        "id": "jfIBYdkRlZV7"
      }
    },
    {
      "cell_type": "code",
      "source": [
        "x <- switch(4,\n",
        "\"Shubham\",\n",
        "\"Nishka\",\n",
        "\"Gunjan\",\n",
        "\"Sumit\"\n",
        ")\n",
        "print(x)"
      ],
      "metadata": {
        "colab": {
          "base_uri": "https://localhost:8080/"
        },
        "id": "gK942qlzmYcr",
        "outputId": "3de13d40-d353-4a36-f109-aeb7f15bcc36"
      },
      "execution_count": null,
      "outputs": [
        {
          "output_type": "stream",
          "name": "stdout",
          "text": [
            "[1] \"Sumit\"\n"
          ]
        }
      ]
    },
    {
      "cell_type": "code",
      "source": [
        "ax= 1\n",
        "bx = 2\n",
        "y = switch(\n",
        "    ax+bx,\n",
        "    \"Hello, Shubham\",\n",
        "    \"Hello Arpita\",\n",
        "    \"Hello Vaishali\",\n",
        "    \"Hello Nishka\"\n",
        ")\n",
        "print (y)"
      ],
      "metadata": {
        "colab": {
          "base_uri": "https://localhost:8080/"
        },
        "id": "85p5k8PZmn1l",
        "outputId": "b0c7c716-b5d6-4af1-c6d2-3726066de201"
      },
      "execution_count": null,
      "outputs": [
        {
          "output_type": "stream",
          "name": "stdout",
          "text": [
            "[1] \"Hello Vaishali\"\n"
          ]
        }
      ]
    },
    {
      "cell_type": "code",
      "source": [
        "y = \"18\"\n",
        "x = switch(\n",
        "    y,\n",
        "    \"9\"=\"Hello Arpita\",\n",
        "    \"12\"=\"Hello Vaishali\",\n",
        "    \"18\"=\"Hello Nishka\",\n",
        "    \"21\"=\"Hello Shubham\"\n",
        ")\n",
        "\n",
        "print (x)"
      ],
      "metadata": {
        "colab": {
          "base_uri": "https://localhost:8080/"
        },
        "id": "LnN7PuxRmsm6",
        "outputId": "490a3836-6287-42ce-b1d6-e29882b51816"
      },
      "execution_count": null,
      "outputs": [
        {
          "output_type": "stream",
          "name": "stdout",
          "text": [
            "[1] \"Hello Nishka\"\n"
          ]
        }
      ]
    },
    {
      "cell_type": "code",
      "source": [
        "x= \"2\"\n",
        "y=\"1\"\n",
        "a = switch(\n",
        "    paste(x,y,sep=\"\"),\n",
        "    \"9\"=\"Hello Arpita\",\n",
        "    \"12\"=\"Hello Vaishali\",\n",
        "    \"18\"=\"Hello Nishka\",\n",
        "    \"21\"=\"Hello Shubham\"\n",
        ")\n",
        "\n",
        "print (a)\n"
      ],
      "metadata": {
        "colab": {
          "base_uri": "https://localhost:8080/"
        },
        "id": "-aw4u8OkmwFx",
        "outputId": "0968ae76-660b-44f1-8193-aaca10392ebe"
      },
      "execution_count": null,
      "outputs": [
        {
          "output_type": "stream",
          "name": "stdout",
          "text": [
            "[1] \"Hello Shubham\"\n"
          ]
        }
      ]
    },
    {
      "cell_type": "code",
      "source": [
        "y = \"18\"\n",
        "a=10\n",
        "b=2\n",
        "x = switch(\n",
        "    y,\n",
        "    \"9\"=cat(\"Addition=\",a+b),\n",
        "    \"12\"=cat(\"Subtraction =\",a-b),\n",
        "    \"18\"=cat(\"Division= \",a/b),\n",
        "    \"21\"=cat(\"multiplication =\",a*b)\n",
        ")\n",
        "\n",
        "print (x)"
      ],
      "metadata": {
        "id": "xzqfxbnXneHY",
        "outputId": "30fa1f70-862a-4cc9-c4b5-d817b24196fc",
        "colab": {
          "base_uri": "https://localhost:8080/"
        }
      },
      "execution_count": null,
      "outputs": [
        {
          "output_type": "stream",
          "name": "stdout",
          "text": [
            "Division=  5NULL\n"
          ]
        }
      ]
    }
  ]
}