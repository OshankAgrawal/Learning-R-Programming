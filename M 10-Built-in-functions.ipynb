{
  "nbformat": 4,
  "nbformat_minor": 0,
  "metadata": {
    "colab": {
      "provenance": [],
      "authorship_tag": "ABX9TyNXKlFltuex8DWFGHRb6sJd",
      "include_colab_link": true
    },
    "kernelspec": {
      "name": "ir",
      "display_name": "R"
    },
    "language_info": {
      "name": "R"
    }
  },
  "cells": [
    {
      "cell_type": "markdown",
      "metadata": {
        "id": "view-in-github",
        "colab_type": "text"
      },
      "source": [
        "<a href=\"https://colab.research.google.com/github/OshankAgrawal/Learning-R-Programming/blob/main/M%2010-Built-in-functions.ipynb\" target=\"_parent\"><img src=\"https://colab.research.google.com/assets/colab-badge.svg\" alt=\"Open In Colab\"/></a>"
      ]
    },
    {
      "cell_type": "markdown",
      "source": [
        "# **Built-in functions in R Programming**"
      ],
      "metadata": {
        "id": "QwjBZ4a3sNDK"
      }
    },
    {
      "cell_type": "markdown",
      "source": [
        "The functions which are already created or defined in the programming framework are known as a built-in function. R has a rich set of functions that can be used to perform almost every task for the user.\n",
        "\n",
        "Here we will discuss only some important built-in functions."
      ],
      "metadata": {
        "id": "Q45gbimFsb7h"
      }
    },
    {
      "cell_type": "markdown",
      "source": [
        "1. **mean():** Calcualates the arithmetic mean(average) of a numeric vector.\n",
        "\n",
        "**Example:**"
      ],
      "metadata": {
        "id": "6hbU07ers3Xj"
      }
    },
    {
      "cell_type": "code",
      "source": [
        "x <- c(1,2,3,4,5,6,7,8,9)\n",
        "mean(x)"
      ],
      "metadata": {
        "colab": {
          "base_uri": "https://localhost:8080/",
          "height": 34
        },
        "id": "6AcwHAWLvHhA",
        "outputId": "2b8225dd-98f6-4b87-f5d2-d880c0575cc8"
      },
      "execution_count": null,
      "outputs": [
        {
          "output_type": "display_data",
          "data": {
            "text/html": [
              "5"
            ],
            "text/markdown": "5",
            "text/latex": "5",
            "text/plain": [
              "[1] 5"
            ]
          },
          "metadata": {}
        }
      ]
    },
    {
      "cell_type": "markdown",
      "source": [
        "2. **median():** Computes the median of a numeric vector, which is the middle value when the numbers are sorted.\n",
        "\n",
        "**Example:**"
      ],
      "metadata": {
        "id": "VWpx2EFZvZgB"
      }
    },
    {
      "cell_type": "code",
      "source": [
        "y <- c(1, 3, 3, 6, 7, 8, 9)\n",
        "median(y)"
      ],
      "metadata": {
        "colab": {
          "base_uri": "https://localhost:8080/",
          "height": 34
        },
        "id": "_ooAfWNTvgFc",
        "outputId": "0ca8997a-d4cf-422f-b45d-d0ea9ba0acae"
      },
      "execution_count": null,
      "outputs": [
        {
          "output_type": "display_data",
          "data": {
            "text/html": [
              "6"
            ],
            "text/markdown": "6",
            "text/latex": "6",
            "text/plain": [
              "[1] 6"
            ]
          },
          "metadata": {}
        }
      ]
    },
    {
      "cell_type": "markdown",
      "source": [
        "3. **quantile():** Computes the quantiles of a numeric data set, which divide the data into intervals with equal probabilities.\n",
        "\n",
        "**Example:**"
      ],
      "metadata": {
        "id": "Y0YDrdmYvkUN"
      }
    },
    {
      "cell_type": "code",
      "source": [
        "q <- c(1, 2, 3, 4, 5, 6, 7, 8, 9, 10)\n",
        "quantile(q, probs = c(0.25))\n",
        "quantile(q, probs = c(0.5))\n",
        "quantile(q, probs = c(0.75))"
      ],
      "metadata": {
        "colab": {
          "base_uri": "https://localhost:8080/",
          "height": 69
        },
        "id": "zEZBSRXavx9V",
        "outputId": "0087a149-eade-46c3-cfb5-252901ef2ef5"
      },
      "execution_count": null,
      "outputs": [
        {
          "output_type": "display_data",
          "data": {
            "text/html": [
              "<strong>25%:</strong> 3.25"
            ],
            "text/markdown": "**25%:** 3.25",
            "text/latex": "\\textbf{25\\textbackslash{}\\%:} 3.25",
            "text/plain": [
              " 25% \n",
              "3.25 "
            ]
          },
          "metadata": {}
        },
        {
          "output_type": "display_data",
          "data": {
            "text/html": [
              "<strong>50%:</strong> 5.5"
            ],
            "text/markdown": "**50%:** 5.5",
            "text/latex": "\\textbf{50\\textbackslash{}\\%:} 5.5",
            "text/plain": [
              "50% \n",
              "5.5 "
            ]
          },
          "metadata": {}
        },
        {
          "output_type": "display_data",
          "data": {
            "text/html": [
              "<strong>75%:</strong> 7.75"
            ],
            "text/markdown": "**75%:** 7.75",
            "text/latex": "\\textbf{75\\textbackslash{}\\%:} 7.75",
            "text/plain": [
              " 75% \n",
              "7.75 "
            ]
          },
          "metadata": {}
        }
      ]
    },
    {
      "cell_type": "markdown",
      "source": [
        "4. **sum():** Return the sum of all elements in a numeric vector.\n",
        "\n",
        "**Example:**"
      ],
      "metadata": {
        "id": "Lyt24DqDwCEe"
      }
    },
    {
      "cell_type": "code",
      "source": [
        "x <- c(1,1,2,3,4,5,6,7,8,9)\n",
        "sum(x)"
      ],
      "metadata": {
        "colab": {
          "base_uri": "https://localhost:8080/",
          "height": 34
        },
        "id": "hD0_GHaUwKLx",
        "outputId": "c2dd9dd6-9f3c-4ca1-b34a-05cca275aa7d"
      },
      "execution_count": null,
      "outputs": [
        {
          "output_type": "display_data",
          "data": {
            "text/html": [
              "46"
            ],
            "text/markdown": "46",
            "text/latex": "46",
            "text/plain": [
              "[1] 46"
            ]
          },
          "metadata": {}
        }
      ]
    },
    {
      "cell_type": "markdown",
      "source": [
        "5. **range():** Return the minimum and maximum values of a numeric vector.\n",
        "\n",
        "**Example:**"
      ],
      "metadata": {
        "id": "wTqNUUhhwPkL"
      }
    },
    {
      "cell_type": "code",
      "source": [
        "x <- c(1,1,2,3,4,5,6,7,8,9)\n",
        "range(x)"
      ],
      "metadata": {
        "colab": {
          "base_uri": "https://localhost:8080/",
          "height": 34
        },
        "id": "JPASE_5XwZX5",
        "outputId": "30510120-16dd-4e95-815c-91b851aa3c51"
      },
      "execution_count": null,
      "outputs": [
        {
          "output_type": "display_data",
          "data": {
            "text/html": [
              "<style>\n",
              ".list-inline {list-style: none; margin:0; padding: 0}\n",
              ".list-inline>li {display: inline-block}\n",
              ".list-inline>li:not(:last-child)::after {content: \"\\00b7\"; padding: 0 .5ex}\n",
              "</style>\n",
              "<ol class=list-inline><li>1</li><li>9</li></ol>\n"
            ],
            "text/markdown": "1. 1\n2. 9\n\n\n",
            "text/latex": "\\begin{enumerate*}\n\\item 1\n\\item 9\n\\end{enumerate*}\n",
            "text/plain": [
              "[1] 1 9"
            ]
          },
          "metadata": {}
        }
      ]
    },
    {
      "cell_type": "markdown",
      "source": [
        "6. **sqrt():** Compute the square root of each element in a numeric vector.\n",
        "\n",
        "**Example:**"
      ],
      "metadata": {
        "id": "kyG9zLqcweK2"
      }
    },
    {
      "cell_type": "code",
      "source": [
        "x <- c(4,9,16,144)\n",
        "sqrt(x)"
      ],
      "metadata": {
        "colab": {
          "base_uri": "https://localhost:8080/",
          "height": 34
        },
        "id": "2T8hoseowoWc",
        "outputId": "82d82576-0a76-4a40-d55e-2630cbb5e67a"
      },
      "execution_count": null,
      "outputs": [
        {
          "output_type": "display_data",
          "data": {
            "text/html": [
              "<style>\n",
              ".list-inline {list-style: none; margin:0; padding: 0}\n",
              ".list-inline>li {display: inline-block}\n",
              ".list-inline>li:not(:last-child)::after {content: \"\\00b7\"; padding: 0 .5ex}\n",
              "</style>\n",
              "<ol class=list-inline><li>2</li><li>3</li><li>4</li><li>12</li></ol>\n"
            ],
            "text/markdown": "1. 2\n2. 3\n3. 4\n4. 12\n\n\n",
            "text/latex": "\\begin{enumerate*}\n\\item 2\n\\item 3\n\\item 4\n\\item 12\n\\end{enumerate*}\n",
            "text/plain": [
              "[1]  2  3  4 12"
            ]
          },
          "metadata": {}
        }
      ]
    },
    {
      "cell_type": "markdown",
      "source": [
        "7. **abs():** Return the absolute value of each element in a numeric vector.\n",
        "\n",
        "**Example:**"
      ],
      "metadata": {
        "id": "YXSY4R21wu1y"
      }
    },
    {
      "cell_type": "code",
      "source": [
        "x <- c(-1, -2, 34, 5345, -1324)\n",
        "abs(x)"
      ],
      "metadata": {
        "colab": {
          "base_uri": "https://localhost:8080/",
          "height": 34
        },
        "id": "ZW32z33Sw8PG",
        "outputId": "73ae8b96-2c5c-49ad-b5ef-088b56532d37"
      },
      "execution_count": null,
      "outputs": [
        {
          "output_type": "display_data",
          "data": {
            "text/html": [
              "<style>\n",
              ".list-inline {list-style: none; margin:0; padding: 0}\n",
              ".list-inline>li {display: inline-block}\n",
              ".list-inline>li:not(:last-child)::after {content: \"\\00b7\"; padding: 0 .5ex}\n",
              "</style>\n",
              "<ol class=list-inline><li>1</li><li>2</li><li>34</li><li>5345</li><li>1324</li></ol>\n"
            ],
            "text/markdown": "1. 1\n2. 2\n3. 34\n4. 5345\n5. 1324\n\n\n",
            "text/latex": "\\begin{enumerate*}\n\\item 1\n\\item 2\n\\item 34\n\\item 5345\n\\item 1324\n\\end{enumerate*}\n",
            "text/plain": [
              "[1]    1    2   34 5345 1324"
            ]
          },
          "metadata": {}
        }
      ]
    },
    {
      "cell_type": "markdown",
      "source": [
        "8. **celing():** Rounds each element of a numeric vector up to the nearist integer.\n",
        "\n",
        "**Example:**"
      ],
      "metadata": {
        "id": "uXKjkmpnxFRY"
      }
    },
    {
      "cell_type": "code",
      "source": [
        "x <- c(1.2, 2.7, 3.5)\n",
        "ceiling(x)"
      ],
      "metadata": {
        "colab": {
          "base_uri": "https://localhost:8080/",
          "height": 34
        },
        "id": "2cPJgxSwxQer",
        "outputId": "58f566ff-9478-402e-cac5-dd9d8bfe39a2"
      },
      "execution_count": null,
      "outputs": [
        {
          "output_type": "display_data",
          "data": {
            "text/html": [
              "<style>\n",
              ".list-inline {list-style: none; margin:0; padding: 0}\n",
              ".list-inline>li {display: inline-block}\n",
              ".list-inline>li:not(:last-child)::after {content: \"\\00b7\"; padding: 0 .5ex}\n",
              "</style>\n",
              "<ol class=list-inline><li>2</li><li>3</li><li>4</li></ol>\n"
            ],
            "text/markdown": "1. 2\n2. 3\n3. 4\n\n\n",
            "text/latex": "\\begin{enumerate*}\n\\item 2\n\\item 3\n\\item 4\n\\end{enumerate*}\n",
            "text/plain": [
              "[1] 2 3 4"
            ]
          },
          "metadata": {}
        }
      ]
    },
    {
      "cell_type": "markdown",
      "source": [
        "9. **floor():** Rounds each element  of a numeric vector down to the nerest integer.\n",
        "\n",
        "**Example:**"
      ],
      "metadata": {
        "id": "dxK2zrH9xZ3M"
      }
    },
    {
      "cell_type": "code",
      "source": [
        "x <- c(1.2, 2.7, 3.5)\n",
        "floor(x)"
      ],
      "metadata": {
        "colab": {
          "base_uri": "https://localhost:8080/",
          "height": 34
        },
        "id": "hl5TVbxHxmmT",
        "outputId": "f679947d-9fae-4d50-e3b7-51c92d0dcc1f"
      },
      "execution_count": null,
      "outputs": [
        {
          "output_type": "display_data",
          "data": {
            "text/html": [
              "<style>\n",
              ".list-inline {list-style: none; margin:0; padding: 0}\n",
              ".list-inline>li {display: inline-block}\n",
              ".list-inline>li:not(:last-child)::after {content: \"\\00b7\"; padding: 0 .5ex}\n",
              "</style>\n",
              "<ol class=list-inline><li>1</li><li>2</li><li>3</li></ol>\n"
            ],
            "text/markdown": "1. 1\n2. 2\n3. 3\n\n\n",
            "text/latex": "\\begin{enumerate*}\n\\item 1\n\\item 2\n\\item 3\n\\end{enumerate*}\n",
            "text/plain": [
              "[1] 1 2 3"
            ]
          },
          "metadata": {}
        }
      ]
    },
    {
      "cell_type": "markdown",
      "source": [
        "10. **min():** Return the smallest value in a numeric vector.\n",
        "\n",
        "**Example:**"
      ],
      "metadata": {
        "id": "RbmuzMksxuB5"
      }
    },
    {
      "cell_type": "code",
      "source": [
        "x <- c(5, 10, 15, 32, 3, 356, 45, 6)\n",
        "min(x)"
      ],
      "metadata": {
        "colab": {
          "base_uri": "https://localhost:8080/",
          "height": 34
        },
        "id": "57chR4_DyCKP",
        "outputId": "c16ca648-c326-45bf-a033-3d702e392159"
      },
      "execution_count": null,
      "outputs": [
        {
          "output_type": "display_data",
          "data": {
            "text/html": [
              "3"
            ],
            "text/markdown": "3",
            "text/latex": "3",
            "text/plain": [
              "[1] 3"
            ]
          },
          "metadata": {}
        }
      ]
    },
    {
      "cell_type": "markdown",
      "source": [
        "11. **max():** Return the largest value in a numeric vector.\n",
        "\n",
        "**Example:**"
      ],
      "metadata": {
        "id": "PJlhYHMCyNhM"
      }
    },
    {
      "cell_type": "code",
      "source": [
        "x <- c(5, 10, 15, 32, 3, 356, 45, 6)\n",
        "max(x)"
      ],
      "metadata": {
        "colab": {
          "base_uri": "https://localhost:8080/",
          "height": 34
        },
        "id": "3HHRI__nyVId",
        "outputId": "83cc29ec-4f18-4ab0-fd3f-8c498eb88aa6"
      },
      "execution_count": null,
      "outputs": [
        {
          "output_type": "display_data",
          "data": {
            "text/html": [
              "356"
            ],
            "text/markdown": "356",
            "text/latex": "356",
            "text/plain": [
              "[1] 356"
            ]
          },
          "metadata": {}
        }
      ]
    },
    {
      "cell_type": "markdown",
      "source": [
        "12. **sin():** Compute the sine of each element of a numeric vector (angles are in radians).\n",
        "\n",
        "**Example:**"
      ],
      "metadata": {
        "id": "uCBGqho0yb4p"
      }
    },
    {
      "cell_type": "code",
      "source": [
        "x <- c(0, pi, pi/2, 2*pi)\n",
        "sin(x)"
      ],
      "metadata": {
        "colab": {
          "base_uri": "https://localhost:8080/",
          "height": 34
        },
        "id": "icJnVr49yrq4",
        "outputId": "ab66263c-b95b-4045-cf69-c0e1ea347a60"
      },
      "execution_count": null,
      "outputs": [
        {
          "output_type": "display_data",
          "data": {
            "text/html": [
              "<style>\n",
              ".list-inline {list-style: none; margin:0; padding: 0}\n",
              ".list-inline>li {display: inline-block}\n",
              ".list-inline>li:not(:last-child)::after {content: \"\\00b7\"; padding: 0 .5ex}\n",
              "</style>\n",
              "<ol class=list-inline><li>0</li><li>1.22464679914735e-16</li><li>1</li><li>-2.44929359829471e-16</li></ol>\n"
            ],
            "text/markdown": "1. 0\n2. 1.22464679914735e-16\n3. 1\n4. -2.44929359829471e-16\n\n\n",
            "text/latex": "\\begin{enumerate*}\n\\item 0\n\\item 1.22464679914735e-16\n\\item 1\n\\item -2.44929359829471e-16\n\\end{enumerate*}\n",
            "text/plain": [
              "[1]  0.000000e+00  1.224647e-16  1.000000e+00 -2.449294e-16"
            ]
          },
          "metadata": {}
        }
      ]
    },
    {
      "cell_type": "markdown",
      "source": [
        "13. **cos():** Compute the cosine of each element of a numeric vector (angles are in radians).\n",
        "\n",
        "**Example:**"
      ],
      "metadata": {
        "id": "1w7bCS-sy-Cb"
      }
    },
    {
      "cell_type": "code",
      "source": [
        "x <- c(0, pi, pi/2, 2*pi)\n",
        "cos(x)"
      ],
      "metadata": {
        "colab": {
          "base_uri": "https://localhost:8080/",
          "height": 34
        },
        "id": "oJUL9TfszBex",
        "outputId": "b6a712fe-d19f-4ac5-8501-9dab4ba7ed10"
      },
      "execution_count": null,
      "outputs": [
        {
          "output_type": "display_data",
          "data": {
            "text/html": [
              "<style>\n",
              ".list-inline {list-style: none; margin:0; padding: 0}\n",
              ".list-inline>li {display: inline-block}\n",
              ".list-inline>li:not(:last-child)::after {content: \"\\00b7\"; padding: 0 .5ex}\n",
              "</style>\n",
              "<ol class=list-inline><li>1</li><li>-1</li><li>6.12323399573677e-17</li><li>1</li></ol>\n"
            ],
            "text/markdown": "1. 1\n2. -1\n3. 6.12323399573677e-17\n4. 1\n\n\n",
            "text/latex": "\\begin{enumerate*}\n\\item 1\n\\item -1\n\\item 6.12323399573677e-17\n\\item 1\n\\end{enumerate*}\n",
            "text/plain": [
              "[1]  1.000000e+00 -1.000000e+00  6.123234e-17  1.000000e+00"
            ]
          },
          "metadata": {}
        }
      ]
    },
    {
      "cell_type": "markdown",
      "source": [
        "14. **tan():** Compute the tangent of each element of a numeric vector (angles are in radians).\n",
        "\n",
        "**Example:**"
      ],
      "metadata": {
        "id": "xoqnMZLDzDqS"
      }
    },
    {
      "cell_type": "code",
      "source": [
        "x <- c(0, pi, pi/2, 2*pi)\n",
        "tan(x)"
      ],
      "metadata": {
        "colab": {
          "base_uri": "https://localhost:8080/",
          "height": 34
        },
        "id": "cPl_WQQrzLJ6",
        "outputId": "254c5410-ca68-4235-fc0a-8bd6cf260544"
      },
      "execution_count": null,
      "outputs": [
        {
          "output_type": "display_data",
          "data": {
            "text/html": [
              "<style>\n",
              ".list-inline {list-style: none; margin:0; padding: 0}\n",
              ".list-inline>li {display: inline-block}\n",
              ".list-inline>li:not(:last-child)::after {content: \"\\00b7\"; padding: 0 .5ex}\n",
              "</style>\n",
              "<ol class=list-inline><li>0</li><li>-1.22464679914735e-16</li><li>16331239353195370</li><li>-2.44929359829471e-16</li></ol>\n"
            ],
            "text/markdown": "1. 0\n2. -1.22464679914735e-16\n3. 16331239353195370\n4. -2.44929359829471e-16\n\n\n",
            "text/latex": "\\begin{enumerate*}\n\\item 0\n\\item -1.22464679914735e-16\n\\item 16331239353195370\n\\item -2.44929359829471e-16\n\\end{enumerate*}\n",
            "text/plain": [
              "[1]  0.000000e+00 -1.224647e-16  1.633124e+16 -2.449294e-16"
            ]
          },
          "metadata": {}
        }
      ]
    },
    {
      "cell_type": "markdown",
      "source": [
        "15. **log():** Compute the natural logarithm (base `e`) of each element in a numeric vector.\n",
        "\n",
        "**Example:**"
      ],
      "metadata": {
        "id": "stqGS-K6zOFt"
      }
    },
    {
      "cell_type": "code",
      "source": [
        "x <- c(1,10,100)\n",
        "log(x)"
      ],
      "metadata": {
        "colab": {
          "base_uri": "https://localhost:8080/",
          "height": 34
        },
        "id": "ikM9X4Khzh-r",
        "outputId": "b6d59e8e-4766-40b5-c72b-0c568f2598a1"
      },
      "execution_count": null,
      "outputs": [
        {
          "output_type": "display_data",
          "data": {
            "text/html": [
              "<style>\n",
              ".list-inline {list-style: none; margin:0; padding: 0}\n",
              ".list-inline>li {display: inline-block}\n",
              ".list-inline>li:not(:last-child)::after {content: \"\\00b7\"; padding: 0 .5ex}\n",
              "</style>\n",
              "<ol class=list-inline><li>0</li><li>2.30258509299405</li><li>4.60517018598809</li></ol>\n"
            ],
            "text/markdown": "1. 0\n2. 2.30258509299405\n3. 4.60517018598809\n\n\n",
            "text/latex": "\\begin{enumerate*}\n\\item 0\n\\item 2.30258509299405\n\\item 4.60517018598809\n\\end{enumerate*}\n",
            "text/plain": [
              "[1] 0.000000 2.302585 4.605170"
            ]
          },
          "metadata": {}
        }
      ]
    },
    {
      "cell_type": "markdown",
      "source": [
        "16. **log10():** Compute the logarithm base 10 of each element in a numeric vector.\n",
        "\n",
        "**Example:**"
      ],
      "metadata": {
        "id": "U_R4rLgHzocT"
      }
    },
    {
      "cell_type": "code",
      "source": [
        "x <- c(1,10,100)\n",
        "log10(x)"
      ],
      "metadata": {
        "colab": {
          "base_uri": "https://localhost:8080/",
          "height": 34
        },
        "id": "It8-MI77z12O",
        "outputId": "e4bf38da-45bd-4d6c-ca93-3db12fe42803"
      },
      "execution_count": null,
      "outputs": [
        {
          "output_type": "display_data",
          "data": {
            "text/html": [
              "<style>\n",
              ".list-inline {list-style: none; margin:0; padding: 0}\n",
              ".list-inline>li {display: inline-block}\n",
              ".list-inline>li:not(:last-child)::after {content: \"\\00b7\"; padding: 0 .5ex}\n",
              "</style>\n",
              "<ol class=list-inline><li>0</li><li>1</li><li>2</li></ol>\n"
            ],
            "text/markdown": "1. 0\n2. 1\n3. 2\n\n\n",
            "text/latex": "\\begin{enumerate*}\n\\item 0\n\\item 1\n\\item 2\n\\end{enumerate*}\n",
            "text/plain": [
              "[1] 0 1 2"
            ]
          },
          "metadata": {}
        }
      ]
    },
    {
      "cell_type": "markdown",
      "source": [
        "17. **exp():** Compute the exponential function (e^x) of each element in a numeric vector.\n",
        "\n",
        "**Example:**"
      ],
      "metadata": {
        "id": "hAf4IdEpz--9"
      }
    },
    {
      "cell_type": "code",
      "source": [
        "x <- c(1,2,3,4,5,6,7,8,9)\n",
        "exp(x)"
      ],
      "metadata": {
        "colab": {
          "base_uri": "https://localhost:8080/",
          "height": 34
        },
        "id": "ZD3L3bkU2rRL",
        "outputId": "5745be31-4f64-404f-c0f1-c032be08d3b1"
      },
      "execution_count": null,
      "outputs": [
        {
          "output_type": "display_data",
          "data": {
            "text/html": [
              "<style>\n",
              ".list-inline {list-style: none; margin:0; padding: 0}\n",
              ".list-inline>li {display: inline-block}\n",
              ".list-inline>li:not(:last-child)::after {content: \"\\00b7\"; padding: 0 .5ex}\n",
              "</style>\n",
              "<ol class=list-inline><li>2.71828182845905</li><li>7.38905609893065</li><li>20.0855369231877</li><li>54.5981500331442</li><li>148.413159102577</li><li>403.428793492735</li><li>1096.63315842846</li><li>2980.95798704173</li><li>8103.08392757538</li></ol>\n"
            ],
            "text/markdown": "1. 2.71828182845905\n2. 7.38905609893065\n3. 20.0855369231877\n4. 54.5981500331442\n5. 148.413159102577\n6. 403.428793492735\n7. 1096.63315842846\n8. 2980.95798704173\n9. 8103.08392757538\n\n\n",
            "text/latex": "\\begin{enumerate*}\n\\item 2.71828182845905\n\\item 7.38905609893065\n\\item 20.0855369231877\n\\item 54.5981500331442\n\\item 148.413159102577\n\\item 403.428793492735\n\\item 1096.63315842846\n\\item 2980.95798704173\n\\item 8103.08392757538\n\\end{enumerate*}\n",
            "text/plain": [
              "[1]    2.718282    7.389056   20.085537   54.598150  148.413159  403.428793\n",
              "[7] 1096.633158 2980.957987 8103.083928"
            ]
          },
          "metadata": {}
        }
      ]
    },
    {
      "cell_type": "markdown",
      "source": [
        "18. **sd():** Copmute the standard deviation of a numeric vector.\n",
        "\n",
        "**Example:**"
      ],
      "metadata": {
        "id": "Em7GwJb02xeU"
      }
    },
    {
      "cell_type": "code",
      "source": [
        "x <- c(1,2,3,4,5,6,7,8,9,10,324,34,54,57,67,43,634)\n",
        "sd(x)"
      ],
      "metadata": {
        "colab": {
          "base_uri": "https://localhost:8080/",
          "height": 34
        },
        "id": "OH-c1sWy28Dl",
        "outputId": "69bd58b0-18d0-4695-efd5-f0f15e8275ec"
      },
      "execution_count": null,
      "outputs": [
        {
          "output_type": "display_data",
          "data": {
            "text/html": [
              "163.247916841046"
            ],
            "text/markdown": "163.247916841046",
            "text/latex": "163.247916841046",
            "text/plain": [
              "[1] 163.2479"
            ]
          },
          "metadata": {}
        }
      ]
    },
    {
      "cell_type": "markdown",
      "source": [
        "19. **as.numeric():** Converts an object to a numeric type.\n",
        "\n",
        "**Example:**"
      ],
      "metadata": {
        "id": "DRyK8vQL3Sw5"
      }
    },
    {
      "cell_type": "code",
      "source": [
        "x <- c(\"1\",\"2\",\"3\")\n",
        "as.numeric(x)"
      ],
      "metadata": {
        "colab": {
          "base_uri": "https://localhost:8080/",
          "height": 34
        },
        "id": "0RKEckDH3uJJ",
        "outputId": "f9b6315c-7911-4971-e6c4-c2e0454871f4"
      },
      "execution_count": null,
      "outputs": [
        {
          "output_type": "display_data",
          "data": {
            "text/html": [
              "<style>\n",
              ".list-inline {list-style: none; margin:0; padding: 0}\n",
              ".list-inline>li {display: inline-block}\n",
              ".list-inline>li:not(:last-child)::after {content: \"\\00b7\"; padding: 0 .5ex}\n",
              "</style>\n",
              "<ol class=list-inline><li>1</li><li>2</li><li>3</li></ol>\n"
            ],
            "text/markdown": "1. 1\n2. 2\n3. 3\n\n\n",
            "text/latex": "\\begin{enumerate*}\n\\item 1\n\\item 2\n\\item 3\n\\end{enumerate*}\n",
            "text/plain": [
              "[1] 1 2 3"
            ]
          },
          "metadata": {}
        }
      ]
    },
    {
      "cell_type": "code",
      "source": [
        "# A simple R program to convert\n",
        "# character data type into numeric data type\n",
        "x<-c('1', '2', '3')\n",
        "\n",
        "# Print x\n",
        "print(x)\n",
        "\n",
        "# Print the type of x\n",
        "print(typeof(x))\n",
        "\n",
        "# Conversion into numeric data type\n",
        "y<-as.numeric(x)\n",
        "\n",
        "# print the type of y\n",
        "print(typeof(y))\n"
      ],
      "metadata": {
        "colab": {
          "base_uri": "https://localhost:8080/"
        },
        "id": "kFE_UjSb7hqj",
        "outputId": "b45c0c89-480a-47e9-ceff-2dc5609e4422"
      },
      "execution_count": null,
      "outputs": [
        {
          "output_type": "stream",
          "name": "stdout",
          "text": [
            "[1] \"1\" \"2\" \"3\"\n",
            "[1] \"character\"\n",
            "[1] \"double\"\n"
          ]
        }
      ]
    },
    {
      "cell_type": "markdown",
      "source": [
        "20. **as.integer():** Convert an object to an integer type.\n",
        "\n",
        "**Example:**"
      ],
      "metadata": {
        "id": "9evErKQe4CIy"
      }
    },
    {
      "cell_type": "code",
      "source": [
        "x <- c(1.2,2.5,3.8)\n",
        "as.integer(x)"
      ],
      "metadata": {
        "colab": {
          "base_uri": "https://localhost:8080/",
          "height": 34
        },
        "id": "ResMDqnm4LMD",
        "outputId": "caa50b9d-fd4f-4340-e2d7-de60387b57f0"
      },
      "execution_count": null,
      "outputs": [
        {
          "output_type": "display_data",
          "data": {
            "text/html": [
              "<style>\n",
              ".list-inline {list-style: none; margin:0; padding: 0}\n",
              ".list-inline>li {display: inline-block}\n",
              ".list-inline>li:not(:last-child)::after {content: \"\\00b7\"; padding: 0 .5ex}\n",
              "</style>\n",
              "<ol class=list-inline><li>1</li><li>2</li><li>3</li></ol>\n"
            ],
            "text/markdown": "1. 1\n2. 2\n3. 3\n\n\n",
            "text/latex": "\\begin{enumerate*}\n\\item 1\n\\item 2\n\\item 3\n\\end{enumerate*}\n",
            "text/plain": [
              "[1] 1 2 3"
            ]
          },
          "metadata": {}
        }
      ]
    },
    {
      "cell_type": "code",
      "source": [
        "# A simple R program to convert\n",
        "# numeric data type into integer data type\n",
        "x<-c(1.3, 5.6, 55.6)\n",
        "\n",
        "# Print x\n",
        "print(x)\n",
        "\n",
        "# Print type of x\n",
        "print(typeof(x))\n",
        "\n",
        "# Conversion into integer data type\n",
        "y<-as.integer(x)\n",
        "\n",
        "# Print y\n",
        "print(y)\n",
        "\n",
        "# Print type of y\n",
        "print(typeof(y))\n"
      ],
      "metadata": {
        "colab": {
          "base_uri": "https://localhost:8080/"
        },
        "id": "MylEN-_47k9e",
        "outputId": "ca068faf-9847-45c7-9dd0-9a731d24586b"
      },
      "execution_count": null,
      "outputs": [
        {
          "output_type": "stream",
          "name": "stdout",
          "text": [
            "[1]  1.3  5.6 55.6\n",
            "[1] \"double\"\n",
            "[1]  1  5 55\n",
            "[1] \"integer\"\n"
          ]
        }
      ]
    },
    {
      "cell_type": "markdown",
      "source": [
        "21. **as.character():** Convert an object to a character type.\n",
        "\n",
        "**Example:**"
      ],
      "metadata": {
        "id": "KofsAneC4Tyl"
      }
    },
    {
      "cell_type": "code",
      "source": [
        "x <- c(1,2,3,4)\n",
        "as.character(x)"
      ],
      "metadata": {
        "colab": {
          "base_uri": "https://localhost:8080/",
          "height": 34
        },
        "id": "AduXIj-g4cSq",
        "outputId": "90460fa3-1a94-469a-d9da-752e686e6b82"
      },
      "execution_count": null,
      "outputs": [
        {
          "output_type": "display_data",
          "data": {
            "text/html": [
              "<style>\n",
              ".list-inline {list-style: none; margin:0; padding: 0}\n",
              ".list-inline>li {display: inline-block}\n",
              ".list-inline>li:not(:last-child)::after {content: \"\\00b7\"; padding: 0 .5ex}\n",
              "</style>\n",
              "<ol class=list-inline><li>'1'</li><li>'2'</li><li>'3'</li><li>'4'</li></ol>\n"
            ],
            "text/markdown": "1. '1'\n2. '2'\n3. '3'\n4. '4'\n\n\n",
            "text/latex": "\\begin{enumerate*}\n\\item '1'\n\\item '2'\n\\item '3'\n\\item '4'\n\\end{enumerate*}\n",
            "text/plain": [
              "[1] \"1\" \"2\" \"3\" \"4\""
            ]
          },
          "metadata": {}
        }
      ]
    },
    {
      "cell_type": "code",
      "source": [
        "x<-c(1.3, 5.6, 55.6)\n",
        "\n",
        "# Print x\n",
        "print(x)\n",
        "\n",
        "# Print type of x\n",
        "print(typeof(x))\n",
        "\n",
        "# Conversion into character data type\n",
        "y<-as.character(x)\n",
        "\n",
        "# Print y\n",
        "print(y)\n",
        "\n",
        "# Print type of y\n",
        "print(typeof(y))\n"
      ],
      "metadata": {
        "colab": {
          "base_uri": "https://localhost:8080/"
        },
        "id": "Bn25Xb9x7o3q",
        "outputId": "639e4fb6-5a8b-41de-a707-1b0e60188881"
      },
      "execution_count": null,
      "outputs": [
        {
          "output_type": "stream",
          "name": "stdout",
          "text": [
            "[1]  1.3  5.6 55.6\n",
            "[1] \"double\"\n",
            "[1] \"1.3\"  \"5.6\"  \"55.6\"\n",
            "[1] \"character\"\n"
          ]
        }
      ]
    },
    {
      "cell_type": "markdown",
      "source": [
        "22. **as.logical():** Converts an object to a logical type (TRUE or FALSE).\n",
        "\n",
        "**Example:**"
      ],
      "metadata": {
        "id": "OxA4I-IA4iYK"
      }
    },
    {
      "cell_type": "code",
      "source": [
        "x <- c(1,0,-3,4)\n",
        "as.logical(x)"
      ],
      "metadata": {
        "colab": {
          "base_uri": "https://localhost:8080/",
          "height": 34
        },
        "id": "GbaM5WjT4zwX",
        "outputId": "bd18c2f3-c9f3-4b2e-d738-691c505e32a4"
      },
      "execution_count": null,
      "outputs": [
        {
          "output_type": "display_data",
          "data": {
            "text/html": [
              "<style>\n",
              ".list-inline {list-style: none; margin:0; padding: 0}\n",
              ".list-inline>li {display: inline-block}\n",
              ".list-inline>li:not(:last-child)::after {content: \"\\00b7\"; padding: 0 .5ex}\n",
              "</style>\n",
              "<ol class=list-inline><li>TRUE</li><li>FALSE</li><li>TRUE</li><li>TRUE</li></ol>\n"
            ],
            "text/markdown": "1. TRUE\n2. FALSE\n3. TRUE\n4. TRUE\n\n\n",
            "text/latex": "\\begin{enumerate*}\n\\item TRUE\n\\item FALSE\n\\item TRUE\n\\item TRUE\n\\end{enumerate*}\n",
            "text/plain": [
              "[1]  TRUE FALSE  TRUE  TRUE"
            ]
          },
          "metadata": {}
        }
      ]
    },
    {
      "cell_type": "code",
      "source": [
        "x = 3\n",
        "y = 8\n",
        "\n",
        "# Conversion in to logical value\n",
        "result<-as.logical(x>y)\n",
        "\n",
        "# Print result\n",
        "print(result)\n"
      ],
      "metadata": {
        "colab": {
          "base_uri": "https://localhost:8080/"
        },
        "id": "7HkqJH8A7sWb",
        "outputId": "9cec12cf-e938-4d84-85b4-ca51cc28d2e7"
      },
      "execution_count": null,
      "outputs": [
        {
          "output_type": "stream",
          "name": "stdout",
          "text": [
            "[1] FALSE\n"
          ]
        }
      ]
    },
    {
      "cell_type": "markdown",
      "source": [
        "23. **as.Date():** Convert an object to a data type.\n",
        "\n",
        "**Example:**"
      ],
      "metadata": {
        "id": "gJ-Dsoo949MQ"
      }
    },
    {
      "cell_type": "code",
      "source": [
        "x <- \"2003/08/24\"\n",
        "as.Date(x)"
      ],
      "metadata": {
        "colab": {
          "base_uri": "https://localhost:8080/",
          "height": 34
        },
        "id": "C7nBzfmp5Xjf",
        "outputId": "815d2b75-8140-43d6-91e5-db61d36d337a"
      },
      "execution_count": null,
      "outputs": [
        {
          "output_type": "display_data",
          "data": {
            "text/html": [
              "<time datetime=\"2003-08-24\">2003-08-24</time>"
            ],
            "text/markdown": "2003-08-24",
            "text/latex": "2003-08-24",
            "text/plain": [
              "[1] \"2003-08-24\""
            ]
          },
          "metadata": {}
        }
      ]
    },
    {
      "cell_type": "code",
      "source": [
        "dates <- c(\"02/27/92\", \"02/27/92\",\n",
        "\t\t\"01/14/92\", \"02/28/92\",\n",
        "\t\t\"02/01/92\")\n",
        "\n",
        "# Conversion into date format\n",
        "result<-as.Date(dates, \"%m/%d/%y\")\n",
        "\n",
        "# Print result\n",
        "print(result)\n"
      ],
      "metadata": {
        "colab": {
          "base_uri": "https://localhost:8080/"
        },
        "id": "Zy5JypOL7y6q",
        "outputId": "cbc09b96-973b-4ba4-9539-d60b0fc88e4f"
      },
      "execution_count": null,
      "outputs": [
        {
          "output_type": "stream",
          "name": "stdout",
          "text": [
            "[1] \"1992-02-27\" \"1992-02-27\" \"1992-01-14\" \"1992-02-28\" \"1992-02-01\"\n"
          ]
        }
      ]
    },
    {
      "cell_type": "markdown",
      "source": [
        "24. **as.data.frame():** Convert an object to a dataframe.\n",
        "\n",
        "**Example:**"
      ],
      "metadata": {
        "id": "nTnfScj85jYv"
      }
    },
    {
      "cell_type": "code",
      "source": [
        "x <- matrix(1:6, nrow=2)\n",
        "as.data.frame(x)"
      ],
      "metadata": {
        "colab": {
          "base_uri": "https://localhost:8080/",
          "height": 161
        },
        "id": "BP2il4AB5sNW",
        "outputId": "57292353-0705-4289-fd36-6e71008a3dab"
      },
      "execution_count": null,
      "outputs": [
        {
          "output_type": "display_data",
          "data": {
            "text/html": [
              "<table class=\"dataframe\">\n",
              "<caption>A data.frame: 2 × 3</caption>\n",
              "<thead>\n",
              "\t<tr><th scope=col>V1</th><th scope=col>V2</th><th scope=col>V3</th></tr>\n",
              "\t<tr><th scope=col>&lt;int&gt;</th><th scope=col>&lt;int&gt;</th><th scope=col>&lt;int&gt;</th></tr>\n",
              "</thead>\n",
              "<tbody>\n",
              "\t<tr><td>1</td><td>3</td><td>5</td></tr>\n",
              "\t<tr><td>2</td><td>4</td><td>6</td></tr>\n",
              "</tbody>\n",
              "</table>\n"
            ],
            "text/markdown": "\nA data.frame: 2 × 3\n\n| V1 &lt;int&gt; | V2 &lt;int&gt; | V3 &lt;int&gt; |\n|---|---|---|\n| 1 | 3 | 5 |\n| 2 | 4 | 6 |\n\n",
            "text/latex": "A data.frame: 2 × 3\n\\begin{tabular}{lll}\n V1 & V2 & V3\\\\\n <int> & <int> & <int>\\\\\n\\hline\n\t 1 & 3 & 5\\\\\n\t 2 & 4 & 6\\\\\n\\end{tabular}\n",
            "text/plain": [
              "  V1 V2 V3\n",
              "1 1  3  5 \n",
              "2 2  4  6 "
            ]
          },
          "metadata": {}
        }
      ]
    },
    {
      "cell_type": "code",
      "source": [
        "x<- list( c('a', 'b', 'c'),\n",
        "c('e', 'f', 'g'), c('h', 'i', 'j'))\n",
        "\n",
        "# Print x\n",
        "print(x)\n",
        "\n",
        "# Conversion in to data frame\n",
        "y<-as.data.frame(x)\n",
        "\n",
        "# Print y\n",
        "print(y)\n"
      ],
      "metadata": {
        "colab": {
          "base_uri": "https://localhost:8080/"
        },
        "id": "kIBMMd5173op",
        "outputId": "6ba6f318-749c-47ba-be75-479755670dae"
      },
      "execution_count": null,
      "outputs": [
        {
          "output_type": "stream",
          "name": "stdout",
          "text": [
            "[[1]]\n",
            "[1] \"a\" \"b\" \"c\"\n",
            "\n",
            "[[2]]\n",
            "[1] \"e\" \"f\" \"g\"\n",
            "\n",
            "[[3]]\n",
            "[1] \"h\" \"i\" \"j\"\n",
            "\n",
            "  c..a....b....c.. c..e....f....g.. c..h....i....j..\n",
            "1                a                e                h\n",
            "2                b                f                i\n",
            "3                c                g                j\n"
          ]
        }
      ]
    },
    {
      "cell_type": "markdown",
      "source": [
        "25. **as.vector():** Convert an object to a vector.\n",
        "\n",
        "**Example:**"
      ],
      "metadata": {
        "id": "Dbel7LxA56G7"
      }
    },
    {
      "cell_type": "code",
      "source": [
        "x <- matrix(1:4, nrow=2)\n",
        "as.vector(x)"
      ],
      "metadata": {
        "colab": {
          "base_uri": "https://localhost:8080/",
          "height": 34
        },
        "id": "uRrVj4F36D1k",
        "outputId": "68ad8533-996a-4734-8f1b-dafd23fd16f9"
      },
      "execution_count": null,
      "outputs": [
        {
          "output_type": "display_data",
          "data": {
            "text/html": [
              "<style>\n",
              ".list-inline {list-style: none; margin:0; padding: 0}\n",
              ".list-inline>li {display: inline-block}\n",
              ".list-inline>li:not(:last-child)::after {content: \"\\00b7\"; padding: 0 .5ex}\n",
              "</style>\n",
              "<ol class=list-inline><li>1</li><li>2</li><li>3</li><li>4</li></ol>\n"
            ],
            "text/markdown": "1. 1\n2. 2\n3. 3\n4. 4\n\n\n",
            "text/latex": "\\begin{enumerate*}\n\\item 1\n\\item 2\n\\item 3\n\\item 4\n\\end{enumerate*}\n",
            "text/plain": [
              "[1] 1 2 3 4"
            ]
          },
          "metadata": {}
        }
      ]
    },
    {
      "cell_type": "code",
      "source": [
        "x<-c(a=1, b=2)\n",
        "\n",
        "# Print x\n",
        "print(x)\n",
        "\n",
        "# Conversion into vector\n",
        "y<-as.vector(x)\n",
        "\n",
        "# Print y\n",
        "print(y)\n"
      ],
      "metadata": {
        "colab": {
          "base_uri": "https://localhost:8080/"
        },
        "id": "z_6Rw2Ks8Jed",
        "outputId": "59c844b9-c4e4-478d-88be-16b92fbd4a43"
      },
      "execution_count": null,
      "outputs": [
        {
          "output_type": "stream",
          "name": "stdout",
          "text": [
            "a b \n",
            "1 2 \n",
            "[1] 1 2\n"
          ]
        }
      ]
    },
    {
      "cell_type": "markdown",
      "source": [
        "26. **as.matrix():** Converts an object to a matrix.\n",
        "\n",
        "**Example:**"
      ],
      "metadata": {
        "id": "RWkHwQez6Nxj"
      }
    },
    {
      "cell_type": "code",
      "source": [
        "x <- data.frame(a=1:3,b=4:6)\n",
        "as.matrix(x)"
      ],
      "metadata": {
        "colab": {
          "base_uri": "https://localhost:8080/",
          "height": 230
        },
        "id": "R1IX6nmp6UuO",
        "outputId": "17b21ecc-4a46-4113-a3da-e88f856e518c"
      },
      "execution_count": null,
      "outputs": [
        {
          "output_type": "display_data",
          "data": {
            "text/html": [
              "<table class=\"dataframe\">\n",
              "<caption>A matrix: 3 × 2 of type int</caption>\n",
              "<thead>\n",
              "\t<tr><th scope=col>a</th><th scope=col>b</th></tr>\n",
              "</thead>\n",
              "<tbody>\n",
              "\t<tr><td>1</td><td>4</td></tr>\n",
              "\t<tr><td>2</td><td>5</td></tr>\n",
              "\t<tr><td>3</td><td>6</td></tr>\n",
              "</tbody>\n",
              "</table>\n"
            ],
            "text/markdown": "\nA matrix: 3 × 2 of type int\n\n| a | b |\n|---|---|\n| 1 | 4 |\n| 2 | 5 |\n| 3 | 6 |\n\n",
            "text/latex": "A matrix: 3 × 2 of type int\n\\begin{tabular}{ll}\n a & b\\\\\n\\hline\n\t 1 & 4\\\\\n\t 2 & 5\\\\\n\t 3 & 6\\\\\n\\end{tabular}\n",
            "text/plain": [
              "     a b\n",
              "[1,] 1 4\n",
              "[2,] 2 5\n",
              "[3,] 3 6"
            ]
          },
          "metadata": {}
        }
      ]
    },
    {
      "cell_type": "code",
      "source": [
        "# Importing library\n",
        "library(data.table)\n",
        "x <- data.table(A = letters[1:5], X = 1:5, Y = 6:10)\n",
        "\n",
        "# Print x\n",
        "print(x)\n",
        "\n",
        "# Conversion into matrix\n",
        "z<-as.matrix(x)\n",
        "\n",
        "# Print z\n",
        "print(z)\n"
      ],
      "metadata": {
        "colab": {
          "base_uri": "https://localhost:8080/"
        },
        "id": "E239DYI08NwV",
        "outputId": "db470acd-7902-464c-e91e-a9807957bc7e"
      },
      "execution_count": null,
      "outputs": [
        {
          "output_type": "stream",
          "name": "stdout",
          "text": [
            "        A     X     Y\n",
            "   <char> <int> <int>\n",
            "1:      a     1     6\n",
            "2:      b     2     7\n",
            "3:      c     3     8\n",
            "4:      d     4     9\n",
            "5:      e     5    10\n",
            "     A   X   Y   \n",
            "[1,] \"a\" \"1\" \" 6\"\n",
            "[2,] \"b\" \"2\" \" 7\"\n",
            "[3,] \"c\" \"3\" \" 8\"\n",
            "[4,] \"d\" \"4\" \" 9\"\n",
            "[5,] \"e\" \"5\" \"10\"\n"
          ]
        }
      ]
    },
    {
      "cell_type": "markdown",
      "source": [
        "These built-in functions are essential for various data manipulation and analysis tasks in R. They allow you to efficiently work with different data types and perform mathematical, statistical, and data conversion operations.\n",
        "\n",
        "These are only few functions, R has numerous number of built-in functions."
      ],
      "metadata": {
        "id": "cKAw-Hup6kWa"
      }
    }
  ]
}