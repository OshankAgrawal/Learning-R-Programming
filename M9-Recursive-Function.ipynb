{
  "nbformat": 4,
  "nbformat_minor": 0,
  "metadata": {
    "colab": {
      "provenance": [],
      "authorship_tag": "ABX9TyNjxDmsCpoNVrqq183pZ+Dw",
      "include_colab_link": true
    },
    "kernelspec": {
      "name": "ir",
      "display_name": "R"
    },
    "language_info": {
      "name": "R"
    }
  },
  "cells": [
    {
      "cell_type": "markdown",
      "metadata": {
        "id": "view-in-github",
        "colab_type": "text"
      },
      "source": [
        "<a href=\"https://colab.research.google.com/github/OshankAgrawal/Learning-R-Programming/blob/main/M9-Recursive-Function.ipynb\" target=\"_parent\"><img src=\"https://colab.research.google.com/assets/colab-badge.svg\" alt=\"Open In Colab\"/></a>"
      ]
    },
    {
      "cell_type": "markdown",
      "source": [
        "# **Recursive Functions in R Programming**"
      ],
      "metadata": {
        "id": "QxrJsTgkgvPK"
      }
    },
    {
      "cell_type": "markdown",
      "source": [
        "Recursion, in the simplest terms, is a type of looping technique. It exploits the basic working of functions in R.\n",
        "\n",
        "Recursion is when the function calls itself. This forms a loop, where every time the function is called, it calls itself again and again and this technique is known as recursion. Since the loops increase the memory we use the recursion. The recursive function uses the concept of recursion to perform iterative tasks they call themselves, again and again, which acts as a loop. These kinds of functions need a stopping condition so that they can stop looping continuously. Recursive functions call themselves. They break down the problem into smaller components. The function() calls itself within the original function() on each of the smaller components. After this, the results will be put together to solve the original problem.\n",
        "\n",
        "**Example: Factorial using Recursion in R**"
      ],
      "metadata": {
        "id": "85Mo5Qr9g4EG"
      }
    },
    {
      "cell_type": "code",
      "source": [
        "rec_fac <- function(x){\n",
        "\tif(x==0 || x==1)\n",
        "\t{\n",
        "\t\treturn(1)\n",
        "\t}\n",
        "\telse\n",
        "\t{\n",
        "\t\treturn(x*rec_fac(x-1))\n",
        "\t}\n",
        "}\n",
        "\n",
        "rec_fac(5)\n"
      ],
      "metadata": {
        "colab": {
          "base_uri": "https://localhost:8080/",
          "height": 34
        },
        "id": "NnWLdelVhFt9",
        "outputId": "29aaa638-a454-4303-9007-cc49c2a5696d"
      },
      "execution_count": null,
      "outputs": [
        {
          "output_type": "display_data",
          "data": {
            "text/html": [
              "120"
            ],
            "text/markdown": "120",
            "text/latex": "120",
            "text/plain": [
              "[1] 120"
            ]
          },
          "metadata": {}
        }
      ]
    },
    {
      "cell_type": "markdown",
      "source": [
        "Here, rec_fac(5) calls rec_fac(4), which then calls rec_fac(3), and so on until the input argument x, has reached 1. The function returns 1 and is destroyed. The return value is multiplied by the argument value and returned. This process continues until the first function call returns its output, giving us the final result.\n",
        "\n",
        "**Example: Sum of Series Using Recursion**\n",
        "\n",
        "Recursion in R is most useful for finding the sum of self-repeating series. In this example, we will find the sum of squares of a given series of numbers. Sum = 12+22+…+N2\n",
        "\n",
        "Example:"
      ],
      "metadata": {
        "id": "iPvNhjwshJNF"
      }
    },
    {
      "cell_type": "code",
      "source": [
        "sum_series <- function(vec){\n",
        "\tif(length(vec)<=1)\n",
        "\t{\n",
        "\t\treturn(vec^2)\n",
        "\t}\n",
        "\telse\n",
        "\t{\n",
        "\t\treturn(vec[1]^2+sum_series(vec[-1]))\n",
        "\t}\n",
        "}\n",
        "series <- c(1:10)\n",
        "sum_series(series)\n"
      ],
      "metadata": {
        "colab": {
          "base_uri": "https://localhost:8080/",
          "height": 34
        },
        "id": "DMly3rnOhOeJ",
        "outputId": "762bb665-6f9c-4a45-83bf-e4b4bafa45e0"
      },
      "execution_count": null,
      "outputs": [
        {
          "output_type": "display_data",
          "data": {
            "text/html": [
              "385"
            ],
            "text/markdown": "385",
            "text/latex": "385",
            "text/plain": [
              "[1] 385"
            ]
          },
          "metadata": {}
        }
      ]
    },
    {
      "cell_type": "code",
      "source": [
        "sum_n <- function(n) {\n",
        "if (n == 1) {\n",
        "\treturn(1)\n",
        "} else {\n",
        "\treturn(n + sum_n(n-1))\n",
        "}\n",
        "}\n",
        "\n",
        "# Test the sum_n function\n",
        "sum_n(5)\n"
      ],
      "metadata": {
        "colab": {
          "base_uri": "https://localhost:8080/",
          "height": 34
        },
        "id": "OvWAfmUMhatj",
        "outputId": "9a4b21b9-4e02-4394-de80-fccacdc04cfa"
      },
      "execution_count": null,
      "outputs": [
        {
          "output_type": "display_data",
          "data": {
            "text/html": [
              "15"
            ],
            "text/markdown": "15",
            "text/latex": "15",
            "text/plain": [
              "[1] 15"
            ]
          },
          "metadata": {}
        }
      ]
    },
    {
      "cell_type": "markdown",
      "source": [
        "In this example, the sum_n function recursively increases n until it reaches 1, which is the base case of the recursion, by adding the current value of n to the sum of the first n-1 values."
      ],
      "metadata": {
        "id": "UYsx3Wn1hdss"
      }
    },
    {
      "cell_type": "code",
      "source": [
        "exp_n <- function(base, n) {\n",
        "if (n == 0) {\n",
        "\treturn(1)\n",
        "} else {\n",
        "\treturn(base * exp_n(base, n-1))\n",
        "}\n",
        "}\n",
        "\n",
        "# Test the exp_n function\n",
        "exp_n(4, 5)\n"
      ],
      "metadata": {
        "colab": {
          "base_uri": "https://localhost:8080/",
          "height": 34
        },
        "id": "uggIUs3ihgAA",
        "outputId": "de20fd7b-04b9-49bd-c8d5-86a04b279e9d"
      },
      "execution_count": null,
      "outputs": [
        {
          "output_type": "display_data",
          "data": {
            "text/html": [
              "1024"
            ],
            "text/markdown": "1024",
            "text/latex": "1024",
            "text/plain": [
              "[1] 1024"
            ]
          },
          "metadata": {}
        }
      ]
    },
    {
      "cell_type": "markdown",
      "source": [
        "In this example, the base case of the recursion is represented by the exp_n function, which recursively multiplies the base by itself n times until n equals 0."
      ],
      "metadata": {
        "id": "cKI_4AqhhmY-"
      }
    },
    {
      "cell_type": "markdown",
      "source": [
        "**Key Features of R Recursion**\n",
        "\n",
        "* The use of recursion, often, makes the code shorter and it also looks clean.\n",
        "* It is a simple solution for a few cases.\n",
        "* It expresses in a function that calls itself.\n",
        "\n",
        "**Applications of Recursion in R**\n",
        "* Recursive functions are used in many efficient programming techniques like dynamic programming language(DSL) or divide-and-conquer algorithms.\n",
        "* In dynamic programming, for both top-down as well as bottom-up approaches, recursion is vital for performance.\n",
        "* In divide-and-conquer algorithms, we divide a problem into smaller sub-problems that are easier to solve. The output is then built back up to the top. Recursion has a similar process, which is why it is used to implement such algorithms.\n",
        "* In its essence, recursion is the process of breaking down a problem into many smaller problems, these smaller problems are further broken down until the problem left is trivial. The solution is then built back up piece by piece.\n",
        "\n",
        "**Types of Recursion in R**\n",
        "\n",
        "1. **Direct Recursion:** The recursion that is direct involves a function calling itself directly. This kind of recursion is the easiest to understand.\n",
        "\n",
        "2. **Indirect Recursion:** An indirect recursion is a series of function calls in which one function calls another, which in turn calls the original function.\n",
        "\n",
        "3. **Mutual Recursion:** Multiple functions that call each other repeatedly make up mutual recursion. To complete a task, each function depends on the others.\n",
        "\n",
        "4. **Nested Recursion:** Nested recursion happens when one recursive function calls another recursively while passing the output of the first call as an argument. The arguments of one recursion are nested inside of this one.\n",
        "\n",
        "5. **Structural Recursion:** Recursion that is based on the structure of the data is known as structural recursion. It entails segmenting a complicated data structure into smaller pieces and processing each piece separately."
      ],
      "metadata": {
        "id": "AojzxYCHhpmF"
      }
    }
  ]
}