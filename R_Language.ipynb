{
  "nbformat": 4,
  "nbformat_minor": 0,
  "metadata": {
    "colab": {
      "provenance": [],
      "authorship_tag": "ABX9TyN+bAKgswTnzraTQwYMLSPm",
      "include_colab_link": true
    },
    "kernelspec": {
      "name": "python3",
      "display_name": "Python 3"
    },
    "language_info": {
      "name": "python"
    }
  },
  "cells": [
    {
      "cell_type": "markdown",
      "metadata": {
        "id": "view-in-github",
        "colab_type": "text"
      },
      "source": [
        "<a href=\"https://colab.research.google.com/github/OshankAgrawal/Learning-R-Programming/blob/main/R_Language.ipynb\" target=\"_parent\"><img src=\"https://colab.research.google.com/assets/colab-badge.svg\" alt=\"Open In Colab\"/></a>"
      ]
    },
    {
      "cell_type": "markdown",
      "source": [
        "# **Welcome to R programming tutorial**"
      ],
      "metadata": {
        "id": "r0d0TW0bbkGG"
      }
    },
    {
      "cell_type": "markdown",
      "source": [
        "# **Syntax of R program**"
      ],
      "metadata": {
        "id": "Oe24AK57bob2"
      }
    },
    {
      "cell_type": "markdown",
      "source": [
        "A program in R is made up of three things: Variables, Comments, and Keywords. Variables are used to store the data, Comments are used to improve code readability, and Keywords are reserved words that hold a specific meaning to the compiler."
      ],
      "metadata": {
        "id": "Ze55sSwHbrSV"
      }
    },
    {
      "cell_type": "markdown",
      "source": [
        "**Syntax of R programming is almost simillar to Python Programming.**"
      ],
      "metadata": {
        "id": "GDQMU8S5buj4"
      }
    },
    {
      "cell_type": "code",
      "source": [
        "print(\"Hello World\")"
      ],
      "metadata": {
        "colab": {
          "base_uri": "https://localhost:8080/"
        },
        "id": "WIHyXU3wbxMQ",
        "outputId": "86905089-715a-4e14-f9a6-e4718701cef5"
      },
      "execution_count": 1,
      "outputs": [
        {
          "output_type": "stream",
          "name": "stdout",
          "text": [
            "Hello World\n"
          ]
        }
      ]
    },
    {
      "cell_type": "markdown",
      "source": [
        "# **Comments in R**"
      ],
      "metadata": {
        "id": "XHGtQe5OUlwS"
      }
    },
    {
      "cell_type": "markdown",
      "source": [
        "Comments are a way to improve your code’s readability and are only meant for the user so the interpreter ignores it. Only single-line comments are available in R but we can also use multiline comments by using a simple trick which is shown below. Single line comments can be written by using # at the beginning of the statement.\n",
        "\n",
        "**Single-Line Comments in R**\n",
        "\n",
        "Single-line comments are comments that require only one line. They are usually drafted to explain what a single line of code does or what it is supposed to produce so that it can help someone refer to the source code. Just like Python single-line comments, any statement starting with “#” is a comment in R.\n",
        "\n",
        "**Multi-line Comments in R**\n",
        "\n",
        "As stated earlier that R doesn’t support multi-lined comments, but to make the commenting process easier, R allows commenting on multiple single lines at once.\n",
        "\n",
        "**Example:**"
      ],
      "metadata": {
        "id": "Q9fXN-cdUkhW"
      }
    },
    {
      "cell_type": "code",
      "execution_count": 1,
      "metadata": {
        "colab": {
          "base_uri": "https://localhost:8080/"
        },
        "id": "90_AoTIUUdh7",
        "outputId": "cad0e0df-31f0-4648-f771-a9d0e6c93698"
      },
      "outputs": [
        {
          "output_type": "stream",
          "name": "stdout",
          "text": [
            "Hello everyone this is the R programming language tutorial. :\n"
          ]
        }
      ],
      "source": [
        "# This is the single line comment\n",
        "print(\"Hello everyone this is the R programming language tutorial. :\")\n",
        "# This is a multiple-line comment\n",
        "# Each line starts with the '#' symbol\n",
        "# The following code will be executed\n"
      ]
    }
  ]
}