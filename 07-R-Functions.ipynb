{
  "nbformat": 4,
  "nbformat_minor": 0,
  "metadata": {
    "colab": {
      "provenance": [],
      "authorship_tag": "ABX9TyP8lO3jfBoe+Kloj5b+TMw1",
      "include_colab_link": true
    },
    "kernelspec": {
      "name": "ir",
      "display_name": "R"
    },
    "language_info": {
      "name": "R"
    }
  },
  "cells": [
    {
      "cell_type": "markdown",
      "metadata": {
        "id": "view-in-github",
        "colab_type": "text"
      },
      "source": [
        "<a href=\"https://colab.research.google.com/github/OshankAgrawal/Learning-R-Programming/blob/main/07-R-Functions.ipynb\" target=\"_parent\"><img src=\"https://colab.research.google.com/assets/colab-badge.svg\" alt=\"Open In Colab\"/></a>"
      ]
    },
    {
      "cell_type": "markdown",
      "source": [
        "# **Functions in R Programming**"
      ],
      "metadata": {
        "id": "ubl9gq70pclC"
      }
    },
    {
      "cell_type": "markdown",
      "source": [
        "A function accepts input arguments and produces the output by executing valid R commands that are inside the function.\n",
        "\n",
        "Functions are useful when you want to perform a certain task multiple times.\n",
        "\n",
        "In R Programming Language when you are creating a function the function name and the file in which you are creating the function need not be the same and you can have one or more functions in R.\n",
        "\n",
        "To understand and maintain our code, we logically break it into smaller parts using the function. A function should be\n",
        "\n",
        "1. Written to carry out a specified task.\n",
        "2. May or may not have arguments\n",
        "3. Contain a body in which our code is written.\n",
        "4. May or may not return one or more output values."
      ],
      "metadata": {
        "id": "r7qQ-rNVpgVl"
      }
    },
    {
      "cell_type": "markdown",
      "source": [
        "# **Creating a Function in R Programming**"
      ],
      "metadata": {
        "id": "679IgebfrHkK"
      }
    },
    {
      "cell_type": "markdown",
      "source": [
        "Functions are created in R by using the command function(). The general structure of the function file is as follows:\n",
        "\n",
        "    f=function(arguments{\n",
        "\n",
        "        statements\n",
        "\n",
        "    }\n",
        "\n",
        "**Note:** In the above syntax **f** is the function name, this means that you are creating a function with name f which takes certain arguments and executes the following statements."
      ],
      "metadata": {
        "id": "HoyMRPlXrNk6"
      }
    },
    {
      "cell_type": "markdown",
      "source": [
        "# **Components of Functions:**"
      ],
      "metadata": {
        "id": "aVyjHz-MsAaQ"
      }
    },
    {
      "cell_type": "markdown",
      "source": [
        "There are four components of function, which are as follows:\n",
        "\n",
        "1. **Function Name**\n",
        "The function name is the actual name of the function. In R, the function is stored as an object with its name.\n",
        "\n",
        "2. **Arguments**\n",
        "In R, an argument is a placeholder. In function, arguments are optional means a function may or may not contain arguments, and these arguments can have default values also. We pass a value to the argument when a function is invoked.\n",
        "\n",
        "3. **Function Body**\n",
        "The function body contains a set of statements which defines what the function does.\n",
        "\n",
        "4. **Return value**\n",
        "It is the last expression in the function body which is to be evaluated.\n",
        "You can use return() function if you want your function to return the result."
      ],
      "metadata": {
        "id": "F_fKhQcwsGVk"
      }
    },
    {
      "cell_type": "markdown",
      "source": [
        "**Parameters or Arguments in R Functions:**\n",
        "\n",
        "Parameters and arguments are same term in functions.\n",
        "\n",
        "Parameters or arguments are the values passed into a function.\n",
        "\n",
        "A function can have any number of arguments, they are separated by comma in paranthesis.\n",
        "\n",
        "**No. of Parameters:**\n",
        "\n",
        "Function should be called with right no. of parameters, neither less nor more or else it will give error.\n",
        "\n",
        "**Default Value of Parameter:**\n",
        "\n",
        "Some functions have default values, and you can also give default value in your user-defined functions. These values are used by functions if user doesn’t pass any parameter value while calling a function."
      ],
      "metadata": {
        "id": "hT466aYYrvTi"
      }
    },
    {
      "cell_type": "markdown",
      "source": [
        "**Example:**"
      ],
      "metadata": {
        "id": "G7Pqd_Btt3rp"
      }
    },
    {
      "cell_type": "code",
      "source": [
        "# function to add 2 numbers\n",
        "add_num <- function(a,b){\n",
        "    sum_result <- a+b\n",
        "    return(sum_result)\n",
        "}\n",
        "# calling add_num function\n",
        "sum = add_num(35,34)\n",
        "#printing result\n",
        "print(sum)\n"
      ],
      "metadata": {
        "colab": {
          "base_uri": "https://localhost:8080/"
        },
        "id": "323099Cqt0at",
        "outputId": "5868ae81-79de-4de4-e727-7d25f32105ca"
      },
      "execution_count": null,
      "outputs": [
        {
          "output_type": "stream",
          "name": "stdout",
          "text": [
            "[1] 69\n"
          ]
        }
      ]
    },
    {
      "cell_type": "markdown",
      "source": [
        "# **Types of Functions in R**"
      ],
      "metadata": {
        "id": "dM5kQT_buNaR"
      }
    },
    {
      "cell_type": "markdown",
      "source": [
        "Similar to the other languages, R also has two types of function, i.e. **Built-in Function** and **User-defined Function**. In R, there are lots of built-in functions which we can directly call in the program without defining them. R also allows us to create our own functions."
      ],
      "metadata": {
        "id": "JKW51QYwuUQQ"
      }
    },
    {
      "cell_type": "markdown",
      "source": [
        "1. **Built-in function**\n",
        "\n",
        "The functions which are already created or defined in the programming framework are known as built-in functions. User doesn't need to create these types of functions, and these functions are built into an application. End-users can access these functions by simply calling it. R have different types of built-in functions such as seq(), mean(), max(), and sum(x) etc.\n",
        "\n",
        "**Example:**"
      ],
      "metadata": {
        "id": "MnpZTPzGugGA"
      }
    },
    {
      "cell_type": "code",
      "source": [
        "# Creating sequence of numbers from 32 to 46.\n",
        "print(seq(32,46))\n",
        "\n",
        "# Finding the mean of numbers from 22 to 80.\n",
        "print(mean(22:80))\n",
        "\n",
        "# Finding the sum of numbers from 41 to 70.\n",
        "print(sum(41:70))\n",
        "\n",
        "# Find max of numbers 4 and 6.\n",
        "print(max(4:6))\n",
        "\n",
        "# Find min of numbers 4 and 6.\n",
        "print(min(4:6))"
      ],
      "metadata": {
        "colab": {
          "base_uri": "https://localhost:8080/"
        },
        "id": "nTv6HlSaunhQ",
        "outputId": "c1f6d027-53c1-4869-888b-a887c6473875"
      },
      "execution_count": null,
      "outputs": [
        {
          "output_type": "stream",
          "name": "stdout",
          "text": [
            " [1] 32 33 34 35 36 37 38 39 40 41 42 43 44 45 46\n",
            "[1] 51\n",
            "[1] 1665\n",
            "[1] 6\n",
            "[1] 4\n"
          ]
        }
      ]
    },
    {
      "cell_type": "markdown",
      "source": [
        "2. **User-defined function**\n",
        "\n",
        "R allows us to create our own function in our program. A user defines a user-define function to fulfill the requirement of user. Once these functions are created, we can use these functions like in-built function.\n",
        "\n",
        "**Example:**"
      ],
      "metadata": {
        "id": "xvFtOscKuqfp"
      }
    },
    {
      "cell_type": "code",
      "source": [
        "# Creating a function without an argument.\n",
        "new.function <- function() {\n",
        "   for(i in 1:5) {\n",
        "      print(i^2)\n",
        "   }\n",
        "}\n",
        "\n",
        "new.function()"
      ],
      "metadata": {
        "colab": {
          "base_uri": "https://localhost:8080/"
        },
        "id": "UTHKkNv-uyL9",
        "outputId": "0ea2ee54-d94b-446b-c615-f77c00b3116e"
      },
      "execution_count": null,
      "outputs": [
        {
          "output_type": "stream",
          "name": "stdout",
          "text": [
            "[1] 1\n",
            "[1] 4\n",
            "[1] 9\n",
            "[1] 16\n",
            "[1] 25\n"
          ]
        }
      ]
    },
    {
      "cell_type": "code",
      "source": [
        "# A simple R function to check\n",
        "# whether x is even or odd\n",
        "\n",
        "evenOdd = function(x){\n",
        "if(x %% 2 == 0)\n",
        "\treturn(\"even\")\n",
        "else\n",
        "\treturn(\"odd\")\n",
        "}\n",
        "\n",
        "print(evenOdd(4))\n",
        "print(evenOdd(3))\n"
      ],
      "metadata": {
        "colab": {
          "base_uri": "https://localhost:8080/"
        },
        "id": "lSAoQ3VUwnfU",
        "outputId": "67588046-5df9-4f3b-d415-276385669b54"
      },
      "execution_count": null,
      "outputs": [
        {
          "output_type": "stream",
          "name": "stdout",
          "text": [
            "[1] \"even\"\n",
            "[1] \"odd\"\n"
          ]
        }
      ]
    },
    {
      "cell_type": "markdown",
      "source": [
        "# **Calling a Function in R**"
      ],
      "metadata": {
        "id": "s6li50CYtJez"
      }
    },
    {
      "cell_type": "markdown",
      "source": [
        "After creating a Function, you have to call the function to use it.\n",
        "\n",
        "Calling a function in R is very easy, you can call a function by writing it’s name and passing possible parameters value.\n",
        "\n",
        "**Passing Arguments to Functions in R Programming Language**\n",
        "\n",
        "There are several ways you can pass the arguments to the function:\n",
        "\n",
        "* Case 1: Generally in R, the arguments are passed to the function in the same order as in the function definition.\n",
        "* Case 2: If you do not want to follow any order what you can do is you can pass the arguments using the names of the arguments in any order.\n",
        "* Case 3: If the arguments are not passed the default values are used to execute the function."
      ],
      "metadata": {
        "id": "jNND1cqctO0m"
      }
    },
    {
      "cell_type": "code",
      "source": [
        "# A simple R program to demonstrate\n",
        "# passing arguments to a function\n",
        "\n",
        "Rectangle = function(length=5, width=4){\n",
        "area = length * width\n",
        "return(area)\n",
        "}\n",
        "\n",
        "# Case 1:\n",
        "print(Rectangle(2, 3))\n",
        "\n",
        "# Case 2:\n",
        "print(Rectangle(width = 8, length = 4))\n",
        "\n",
        "# Case 3:\n",
        "print(Rectangle())\n"
      ],
      "metadata": {
        "colab": {
          "base_uri": "https://localhost:8080/"
        },
        "id": "sR-2m_uSuD-4",
        "outputId": "ea4c016b-2e50-4977-b31d-65f90748c10f"
      },
      "execution_count": null,
      "outputs": [
        {
          "output_type": "stream",
          "name": "stdout",
          "text": [
            "[1] 6\n",
            "[1] 32\n",
            "[1] 20\n"
          ]
        }
      ]
    },
    {
      "cell_type": "markdown",
      "source": [
        "**Function calling with an argument**"
      ],
      "metadata": {
        "id": "nNQco5bTu6hn"
      }
    },
    {
      "cell_type": "code",
      "source": [
        "# Creating a function to print squares of numbers in sequence.\n",
        "new.function <- function(a) {\n",
        "   for(i in 1:a) {\n",
        "      b <- i^2\n",
        "      print(b)\n",
        "   }\n",
        "}\n",
        "# Calling the function new.function supplying 10 as an argument.\n",
        "new.function(10)"
      ],
      "metadata": {
        "colab": {
          "base_uri": "https://localhost:8080/"
        },
        "id": "qxlQE6ZMvANS",
        "outputId": "ec53c73a-1d3b-47ab-e063-8b4ed45e346a"
      },
      "execution_count": null,
      "outputs": [
        {
          "output_type": "stream",
          "name": "stdout",
          "text": [
            "[1] 1\n",
            "[1] 4\n",
            "[1] 9\n",
            "[1] 16\n",
            "[1] 25\n",
            "[1] 36\n",
            "[1] 49\n",
            "[1] 64\n",
            "[1] 81\n",
            "[1] 100\n"
          ]
        }
      ]
    },
    {
      "cell_type": "code",
      "source": [
        "# create a function factorial\n",
        "# with a numeric argument n\n",
        "factorial <- function(n){\n",
        "    if(n==0){\n",
        "\t    return(1)\n",
        "    } else if(n==1){\n",
        "        return(1)\n",
        "    }else {\n",
        "\t    return(n * factorial(n - 1))\n",
        "    }\n",
        "}\n",
        "\n",
        "# calling function cube with an argument\n",
        "print(factorial(7))\n"
      ],
      "metadata": {
        "colab": {
          "base_uri": "https://localhost:8080/"
        },
        "id": "Vbi9MZUTeSWg",
        "outputId": "0844a709-a9dc-488a-bdb6-da3dba2d9450"
      },
      "execution_count": null,
      "outputs": [
        {
          "output_type": "stream",
          "name": "stdout",
          "text": [
            "[1] 5040\n"
          ]
        }
      ]
    },
    {
      "cell_type": "markdown",
      "source": [
        "**Function calling with no argument**"
      ],
      "metadata": {
        "id": "zrt7y8VivK2j"
      }
    },
    {
      "cell_type": "code",
      "source": [
        "# create a function cube\n",
        "# without an argument\n",
        "cube <- function()\n",
        "{\n",
        "for(i in 1:10)\n",
        "{\n",
        "\tprint(i^3)\n",
        "}\n",
        "}\n",
        "\n",
        "# calling function cube without an argument\n",
        "cube()\n"
      ],
      "metadata": {
        "colab": {
          "base_uri": "https://localhost:8080/"
        },
        "id": "3VxFUxGEeLMo",
        "outputId": "3c11fb5b-3871-4c38-f8d9-c2952cbae06e"
      },
      "execution_count": null,
      "outputs": [
        {
          "output_type": "stream",
          "name": "stdout",
          "text": [
            "[1] 1\n",
            "[1] 8\n",
            "[1] 27\n",
            "[1] 64\n",
            "[1] 125\n",
            "[1] 216\n",
            "[1] 343\n",
            "[1] 512\n",
            "[1] 729\n",
            "[1] 1000\n"
          ]
        }
      ]
    },
    {
      "cell_type": "code",
      "source": [
        "# Creating a function to print squares of numbers in sequence.\n",
        "new.function <- function() {\n",
        "   for(i in 1:5) {\n",
        "      a <- i^2\n",
        "      print(a)\n",
        "   }\n",
        "}\n",
        "\n",
        "# Calling the function new.function with no argument.\n",
        "new.function()"
      ],
      "metadata": {
        "colab": {
          "base_uri": "https://localhost:8080/"
        },
        "id": "d3S7cgnCvOuI",
        "outputId": "13bc4b5c-4e70-4c10-aff5-b2e91730d24f"
      },
      "execution_count": null,
      "outputs": [
        {
          "output_type": "stream",
          "name": "stdout",
          "text": [
            "[1] 1\n",
            "[1] 4\n",
            "[1] 9\n",
            "[1] 16\n",
            "[1] 25\n"
          ]
        }
      ]
    },
    {
      "cell_type": "markdown",
      "source": [
        "**Function calling with Argument Values**\n",
        "\n",
        "We can supply the arguments to a function call in the same sequence as defined in the function or can supply in a different sequence but assigned them to the names of the arguments."
      ],
      "metadata": {
        "id": "IfprrvyXwFFm"
      }
    },
    {
      "cell_type": "code",
      "source": [
        "# Creating a function with arguments.\n",
        "new.function <- function(x,y,z) {\n",
        "   result <- x * y + z\n",
        "   print(result)\n",
        "}\n",
        "\n",
        "# Calling the function by position of arguments.\n",
        "new.function(11,13,9)\n",
        "\n",
        "# Calling the function by names of the arguments.\n",
        "new.function(x = 2, y = 5, z = 3)"
      ],
      "metadata": {
        "colab": {
          "base_uri": "https://localhost:8080/"
        },
        "id": "IimzJ5KowPs0",
        "outputId": "b26544c4-c51b-4b4f-eb9c-4fa399636186"
      },
      "execution_count": null,
      "outputs": [
        {
          "output_type": "stream",
          "name": "stdout",
          "text": [
            "[1] 152\n",
            "[1] 13\n"
          ]
        }
      ]
    },
    {
      "cell_type": "markdown",
      "source": [
        "**Function calling with default arguments**\n",
        "\n",
        "To get the default result, we assign the value to the arguments in the function definition, and then we call the function without supplying argument. If we pass any argument in the function call, then it will get replaced with the default value of the argument in the function definition.  "
      ],
      "metadata": {
        "id": "2m6yALrYwTsh"
      }
    },
    {
      "cell_type": "code",
      "source": [
        "# Creating a function with arguments.\n",
        "new.function <- function(x = 11, y = 24) {\n",
        "   result <- x * y\n",
        "   print(result)\n",
        "}\n",
        "\n",
        "# Calling the function without giving any argument.\n",
        "new.function()\n",
        "\n",
        "# Calling the function with giving new values of the argument.\n",
        "new.function(4,6)"
      ],
      "metadata": {
        "colab": {
          "base_uri": "https://localhost:8080/"
        },
        "id": "YfUf4Cj4wYaA",
        "outputId": "9c412fa9-349a-4b26-a6e3-52cddf3c7750"
      },
      "execution_count": null,
      "outputs": [
        {
          "output_type": "stream",
          "name": "stdout",
          "text": [
            "[1] 264\n",
            "[1] 24\n"
          ]
        }
      ]
    },
    {
      "cell_type": "code",
      "source": [
        "# create a function def_arg\n",
        "# without an argument\n",
        "def_arg <- function(a = 23, b = 35)\n",
        "{\n",
        "output <- (a + b) * a + (a - b) * b\n",
        "print(output)\n",
        "}\n",
        "\n",
        "# calling function def_arg without an argument\n",
        "def_arg()\n",
        "\n",
        "# call the function with giving new values of the argument.\n",
        "def_arg(16, 22)\n"
      ],
      "metadata": {
        "colab": {
          "base_uri": "https://localhost:8080/"
        },
        "id": "AVNsgTgqfwjn",
        "outputId": "fc70c438-95a0-4dc5-f2f6-71bf23b4261c"
      },
      "execution_count": null,
      "outputs": [
        {
          "output_type": "stream",
          "name": "stdout",
          "text": [
            "[1] 914\n",
            "[1] 476\n"
          ]
        }
      ]
    },
    {
      "cell_type": "markdown",
      "source": [
        "Now let’s look at some use cases of functions in R with some examples.\n",
        "\n",
        "1. **Single Input Single Output**\n",
        "\n",
        "    Now create a function in R that will take a single input and gives us a single output.\n",
        "\n",
        "Following is an example to create a function that calculates the area of a circle which takes in the arguments the radius. So, to create a function, name the function as “areaOfCircle” and the arguments that are needed to be passed are the “radius” of the circle.  "
      ],
      "metadata": {
        "id": "joxBPtmmw50e"
      }
    },
    {
      "cell_type": "code",
      "source": [
        "# A simple R function to calculate\n",
        "# area of a circle\n",
        "\n",
        "areaOfCircle = function(radius){\n",
        "area = pi*radius^2\n",
        "return(area)\n",
        "}\n",
        "\n",
        "print(areaOfCircle(2))\n"
      ],
      "metadata": {
        "colab": {
          "base_uri": "https://localhost:8080/"
        },
        "id": "FeK3MFWwxCbZ",
        "outputId": "9ee3b4d0-1dc2-47f3-fd64-c3712182c2ef"
      },
      "execution_count": null,
      "outputs": [
        {
          "output_type": "stream",
          "name": "stdout",
          "text": [
            "[1] 12.56637\n"
          ]
        }
      ]
    },
    {
      "cell_type": "markdown",
      "source": [
        "2. **Multiple Input Multiple Output**\n",
        "\n",
        "   Now create a function in R Language that will take multiple inputs and gives us multiple outputs using a list. :\n",
        "\n",
        "The functions in R Language take multiple input objects but returned only one object as output, this is, however, not a limitation because you can create lists of all the outputs which you want to create and once the list is created you can access them into the elements of the list and get the answers which you want.\n",
        "\n",
        "Let us consider this example to create a function “Rectangle” which takes “length” and “width” of the rectangle and returns area and perimeter of that rectangle. Since R Language can return only one object. Hence, create one object which is a list that contains “area” and “perimeter” and return the list."
      ],
      "metadata": {
        "id": "wZgFdvt4xMK7"
      }
    },
    {
      "cell_type": "code",
      "source": [
        "# A simple R function to calculate\n",
        "# area and perimeter of a rectangle\n",
        "\n",
        "Rectangle = function(length, width){\n",
        "area = length * width\n",
        "perimeter = 2 * (length + width)\n",
        "\n",
        "# create an object called result which is\n",
        "# a list of area and perimeter\n",
        "result = list(\"Area\" = area, \"Perimeter\" = perimeter)\n",
        "return(result)\n",
        "}\n",
        "\n",
        "resultList = Rectangle(2, 3)\n",
        "print(resultList[\"Area\"])\n",
        "print(resultList[\"Perimeter\"])\n"
      ],
      "metadata": {
        "colab": {
          "base_uri": "https://localhost:8080/"
        },
        "id": "xdAIAgR5xfUU",
        "outputId": "3a29bd60-0c17-49d2-a541-7ee87e4dcddb"
      },
      "execution_count": null,
      "outputs": [
        {
          "output_type": "stream",
          "name": "stdout",
          "text": [
            "$Area\n",
            "[1] 6\n",
            "\n",
            "$Perimeter\n",
            "[1] 10\n",
            "\n"
          ]
        }
      ]
    },
    {
      "cell_type": "markdown",
      "source": [
        "3. **Inline Functions in R Programming Language**\n",
        "\n",
        "Sometimes creating an R script file, loading it, executing it is a lot of work when you want to just create a very small function. So, what we can do in this kind of situation is an inline function.\n",
        "\n",
        "To create an inline function you have to use the function command with the argument x and then the expression of the function.\n",
        "\n",
        "**Example:**"
      ],
      "metadata": {
        "id": "lRL7SZq7xpWL"
      }
    },
    {
      "cell_type": "code",
      "source": [
        "# A simple R program to\n",
        "# demonstrate the inline function\n",
        "\n",
        "f = function(x) x^2*4+x/3\n",
        "\n",
        "print(f(4))\n",
        "print(f(-2))\n",
        "print(0)"
      ],
      "metadata": {
        "colab": {
          "base_uri": "https://localhost:8080/"
        },
        "id": "_Z4gCefdx2Ba",
        "outputId": "a3381275-10c1-425e-95a9-09f12a0cf989"
      },
      "execution_count": null,
      "outputs": [
        {
          "output_type": "stream",
          "name": "stdout",
          "text": [
            "[1] 65.33333\n",
            "[1] 15.33333\n",
            "[1] 0\n"
          ]
        }
      ]
    },
    {
      "cell_type": "markdown",
      "source": [
        "# **Lazy Evaluations of Functions in R Programming Language**"
      ],
      "metadata": {
        "id": "Tppd6VLhy8zl"
      }
    },
    {
      "cell_type": "markdown",
      "source": [
        "In R the functions are executed in a lazy fashion. When we say lazy what it means is if some arguments are missing the function is still executed as long as the execution does not involve those arguments.\n",
        "\n",
        "**Example**\n",
        "\n",
        "In the function “Cylinder” given below. There are defined three-argument “diameter”, “length” and “radius” in the function and the volume calculation does not involve this argument “radius” in this calculation. Now, when you pass this argument “diameter” and “length” even though you are not passing this “radius” the function will still execute because this radius is not used in the calculations inside the function.\n",
        "\n",
        "Let’s illustrate this in an R code given below:"
      ],
      "metadata": {
        "id": "h3tvcHc8yPLF"
      }
    },
    {
      "cell_type": "code",
      "source": [
        "# A simple R program to demonstrate\n",
        "# Lazy evaluations of functions\n",
        "\n",
        "Cylinder = function(diameter, length, radius ){\n",
        "volume = pi*diameter^2*length/4\n",
        "return(volume)\n",
        "}\n",
        "\n",
        "# This'll execute because this\n",
        "# radius is not used in the\n",
        "# calculations inside the function.\n",
        "print(Cylinder(5, 10))\n"
      ],
      "metadata": {
        "colab": {
          "base_uri": "https://localhost:8080/"
        },
        "id": "fMV6MuDAyVrE",
        "outputId": "9282f11a-1565-4d1b-aabe-75d964111708"
      },
      "execution_count": null,
      "outputs": [
        {
          "output_type": "stream",
          "name": "stdout",
          "text": [
            "[1] 196.3495\n"
          ]
        }
      ]
    },
    {
      "cell_type": "markdown",
      "source": [
        "If you do not pass the argument and then use it in the definition of the function it will throw an error that this “radius” is not passed and it is being used in the function definition.\n",
        "\n",
        "**Example**"
      ],
      "metadata": {
        "id": "yGGLMh1GyczL"
      }
    },
    {
      "cell_type": "code",
      "source": [
        "# A simple R program to demonstrate\n",
        "# Lazy evaluations of functions\n",
        "\n",
        "Cylinder = function(diameter, length, radius ){\n",
        "volume = pi*diameter^2*length/4\n",
        "print(radius)\n",
        "return(volume)\n",
        "}\n",
        "\n",
        "# This'll throw an error\n",
        "print(Cylinder(5, 10))\n"
      ],
      "metadata": {
        "colab": {
          "base_uri": "https://localhost:8080/",
          "height": 141
        },
        "id": "Am7dAbIWyemy",
        "outputId": "37f7b4d1-f459-45ee-f53b-9e6b8e8dd4d3"
      },
      "execution_count": null,
      "outputs": [
        {
          "output_type": "error",
          "ename": "ERROR",
          "evalue": "Error in Cylinder(5, 10): argument \"radius\" is missing, with no default\n",
          "traceback": [
            "Error in Cylinder(5, 10): argument \"radius\" is missing, with no default\nTraceback:\n",
            "1. print(Cylinder(5, 10))",
            "2. Cylinder(5, 10)",
            "3. print(radius)   # at line 6 of file <text>"
          ]
        }
      ]
    }
  ]
}