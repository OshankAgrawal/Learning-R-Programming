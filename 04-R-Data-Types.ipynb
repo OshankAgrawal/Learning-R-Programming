{
  "nbformat": 4,
  "nbformat_minor": 0,
  "metadata": {
    "colab": {
      "provenance": [],
      "authorship_tag": "ABX9TyP5RimTCq/aQMvDWCKCHGeG",
      "include_colab_link": true
    },
    "kernelspec": {
      "name": "ir",
      "display_name": "R"
    },
    "language_info": {
      "name": "R"
    }
  },
  "cells": [
    {
      "cell_type": "markdown",
      "metadata": {
        "id": "view-in-github",
        "colab_type": "text"
      },
      "source": [
        "<a href=\"https://colab.research.google.com/github/OshankAgrawal/Learning-R-Programming/blob/main/04-R-Data-Types.ipynb\" target=\"_parent\"><img src=\"https://colab.research.google.com/assets/colab-badge.svg\" alt=\"Open In Colab\"/></a>"
      ]
    },
    {
      "cell_type": "markdown",
      "source": [
        "# **R Data Types**"
      ],
      "metadata": {
        "id": "WFZS5k_6J5yy"
      }
    },
    {
      "cell_type": "markdown",
      "source": [
        "Different forms of data that can be saved and manipulated are defined and categorized using data types in computer languages, including R. Each R data type has unique properties and associated operations.\n",
        "\n",
        "**What are R Data types?**\n",
        "\n",
        "R Data types are used to specify the kind of data that can be stored in a variable.\n",
        "\n",
        "For effective memory consumption and precise computation, the right data type must be selected.\n",
        "\n",
        "Each R data type has its own set of regulations and restrictions.\n",
        "\n",
        "Variables are not needed to be declare with a data type in R, data type even can be changed.\n",
        "\n",
        "**Example of R data Type:**"
      ],
      "metadata": {
        "id": "2X1p9i6qKMct"
      }
    },
    {
      "cell_type": "code",
      "source": [
        "#numeric data type\n",
        "var <- 30\n",
        "#integer data type\n",
        "var1 <- 80L\n",
        "print(class(var))\n",
        "print(class(var1))"
      ],
      "metadata": {
        "colab": {
          "base_uri": "https://localhost:8080/"
        },
        "id": "_DiWYzYKKQFV",
        "outputId": "c451c850-35f3-41d5-b025-269031c0615b"
      },
      "execution_count": null,
      "outputs": [
        {
          "output_type": "stream",
          "name": "stdout",
          "text": [
            "[1] \"numeric\"\n",
            "[1] \"integer\"\n"
          ]
        }
      ]
    },
    {
      "cell_type": "markdown",
      "source": [
        "**Data Types in R Programming Language**\n",
        "\n",
        "Each variable in R has an associated data type. Each R-Data Type requires different amounts of memory and has some specific operations which can be performed over it.\n",
        "\n",
        "**Data Types in R are:**\n",
        "\n",
        "**numeric** – (3,6.7,121)\n",
        "\n",
        "**Integer** – (2L, 42L; where ‘L’ declares this as an integer)\n",
        "\n",
        "**logical** – (‘True’)\n",
        "\n",
        "**complex** – (7 + 5i; where ‘i’ is imaginary number)\n",
        "\n",
        "**character** – (“a”, “B”, “c is third”, “69”)\n",
        "\n",
        "**raw** – ( as.raw(55); raw creates a raw vector of the specified length)"
      ],
      "metadata": {
        "id": "V6tjKzTWKiKz"
      }
    },
    {
      "cell_type": "markdown",
      "source": [
        "1. **Numeric Data type in R**\n",
        "\n",
        "Decimal values are called numeric in R. It is the default  R data type for numbers in R.\n",
        "\n",
        "If you assign a decimal value to a variable x as follows, x will be of numeric type.\n",
        "\n",
        "Real numbers with a decimal point are represented using this data type in R. It uses a format for double-precision floating-point numbers to represent numerical values."
      ],
      "metadata": {
        "id": "udnXkyGtLcKi"
      }
    },
    {
      "cell_type": "code",
      "source": [
        "# A simple R program\n",
        "# to illustrate Numeric data type\n",
        "\n",
        "# Assign a decimal value to x\n",
        "x = 5.6\n",
        "\n",
        "# print the class name of variable\n",
        "print(class(x))\n",
        "\n",
        "# print the type of variable\n",
        "print(typeof(x))\n"
      ],
      "metadata": {
        "colab": {
          "base_uri": "https://localhost:8080/"
        },
        "id": "Qn3Ls83HLuBc",
        "outputId": "21332bac-6bc3-4b8e-88bc-d422bcdfab00"
      },
      "execution_count": null,
      "outputs": [
        {
          "output_type": "stream",
          "name": "stdout",
          "text": [
            "[1] \"numeric\"\n",
            "[1] \"double\"\n"
          ]
        }
      ]
    },
    {
      "cell_type": "markdown",
      "source": [
        "Even if an integer is assigned to a variable y, it is still saved as a numeric value."
      ],
      "metadata": {
        "id": "I5ZlsDoXL8If"
      }
    },
    {
      "cell_type": "code",
      "source": [
        "# A simple R program\n",
        "# to illustrate Numeric data type\n",
        "\n",
        "# Assign an integer value to y\n",
        "y = 5\n",
        "\n",
        "# print the class name of variable\n",
        "print(class(y))\n",
        "\n",
        "# print the type of variable\n",
        "print(typeof(y))\n"
      ],
      "metadata": {
        "colab": {
          "base_uri": "https://localhost:8080/"
        },
        "id": "p4M5ElU4MDGe",
        "outputId": "d087fe0d-c738-4cee-b0f7-d0ac7ac0757a"
      },
      "execution_count": null,
      "outputs": [
        {
          "output_type": "stream",
          "name": "stdout",
          "text": [
            "[1] \"numeric\"\n",
            "[1] \"double\"\n"
          ]
        }
      ]
    },
    {
      "cell_type": "markdown",
      "source": [
        "When R stores a number in a variable, it converts the number into a “double” value or a decimal type with at least two decimal places.\n",
        "\n",
        "This means that a value such as “5” here, is stored as 5.00 with a type of double and a class of numeric. And also y is not an integer here can be confirmed with the is.integer() function."
      ],
      "metadata": {
        "id": "KUdaY3lTMA60"
      }
    },
    {
      "cell_type": "code",
      "source": [
        "# A simple R program\n",
        "# to illustrate Numeric data type\n",
        "\n",
        "# Assign a integer value to y\n",
        "y = 5\n",
        "\n",
        "# is y an integer?\n",
        "print(is.integer(y))\n"
      ],
      "metadata": {
        "colab": {
          "base_uri": "https://localhost:8080/"
        },
        "id": "hErnAoq4MKuf",
        "outputId": "bf02f74b-ef77-43be-b618-ad3c4243f274"
      },
      "execution_count": null,
      "outputs": [
        {
          "output_type": "stream",
          "name": "stdout",
          "text": [
            "[1] FALSE\n"
          ]
        }
      ]
    },
    {
      "cell_type": "markdown",
      "source": [
        "2. **Integer Data type in R**\n",
        "\n",
        "R supports integer data types which are the set of all integers.\n",
        "\n",
        "You can create as well as convert a value into an integer type using the as.integer() function.\n",
        "\n",
        "You can also use the capital ‘L’ notation as a suffix to denote that a particular value is of the integer R data type."
      ],
      "metadata": {
        "id": "C6DgeQ4cMOnA"
      }
    },
    {
      "cell_type": "code",
      "source": [
        "# A simple R program\n",
        "# to illustrate integer data type\n",
        "\n",
        "# Create an integer value\n",
        "x = as.integer(5)\n",
        "\n",
        "# print the class name of x\n",
        "print(class(x))\n",
        "\n",
        "# print the type of x\n",
        "print(typeof(x))\n",
        "\n",
        "# Declare an integer by appending an L suffix.\n",
        "y = 5L\n",
        "\n",
        "# print the class name of y\n",
        "print(class(y))\n",
        "\n",
        "# print the type of y\n",
        "print(typeof(y))\n"
      ],
      "metadata": {
        "colab": {
          "base_uri": "https://localhost:8080/"
        },
        "id": "MAUMEAFhMSni",
        "outputId": "a91e6477-5512-4a5e-ea37-a3367133f6c2"
      },
      "execution_count": null,
      "outputs": [
        {
          "output_type": "stream",
          "name": "stdout",
          "text": [
            "[1] \"integer\"\n",
            "[1] \"integer\"\n",
            "[1] \"integer\"\n",
            "[1] \"integer\"\n"
          ]
        }
      ]
    },
    {
      "cell_type": "markdown",
      "source": [
        "3. **Logical Data type in R**\n",
        "\n",
        "R has logical data types that take either a value of true or false.\n",
        "\n",
        "A logical value is often created via a comparison between variables.\n",
        "\n",
        "Boolean values, which have two possible values, are represented by this R data type: FALSE or TRUE"
      ],
      "metadata": {
        "id": "zBmuuBaaMhXf"
      }
    },
    {
      "cell_type": "code",
      "source": [
        "# A simple R program\n",
        "# to illustrate logical data type\n",
        "\n",
        "# Sample values\n",
        "x = 4\n",
        "y = 3\n",
        "\n",
        "# Comparing two values\n",
        "z = x > y\n",
        "\n",
        "# print the logical value\n",
        "print(z)\n",
        "\n",
        "# print the class name of z\n",
        "print(class(z))\n",
        "\n",
        "# print the type of z\n",
        "print(typeof(z))\n"
      ],
      "metadata": {
        "colab": {
          "base_uri": "https://localhost:8080/"
        },
        "id": "p9ctqaZ_MlkE",
        "outputId": "415e7f38-1c1e-4d5a-86d1-7891b3bf6565"
      },
      "execution_count": null,
      "outputs": [
        {
          "output_type": "stream",
          "name": "stdout",
          "text": [
            "[1] TRUE\n",
            "[1] \"logical\"\n",
            "[1] \"logical\"\n"
          ]
        }
      ]
    },
    {
      "cell_type": "markdown",
      "source": [
        "4. **Complex Data type in R**\n",
        "\n",
        "R supports complex data types that are set of all the complex numbers. The complex data type is to store numbers with an imaginary component."
      ],
      "metadata": {
        "id": "zN8GVUywOw5b"
      }
    },
    {
      "cell_type": "code",
      "source": [
        "# A simple R program\n",
        "# to illustrate complex data type\n",
        "\n",
        "# Assign a complex value to x\n",
        "x = 4 + 3i\n",
        "\n",
        "# print the class name of x\n",
        "print(class(x))\n",
        "\n",
        "# print the type of x\n",
        "print(typeof(x))\n"
      ],
      "metadata": {
        "colab": {
          "base_uri": "https://localhost:8080/"
        },
        "id": "8Ud7WvUWPxma",
        "outputId": "bf0a6757-c93a-4103-db36-f2d7adbd5e54"
      },
      "execution_count": null,
      "outputs": [
        {
          "output_type": "stream",
          "name": "stdout",
          "text": [
            "[1] \"complex\"\n",
            "[1] \"complex\"\n"
          ]
        }
      ]
    },
    {
      "cell_type": "markdown",
      "source": [
        "5. **Character Data type in R**\n",
        "\n",
        "R supports character data types where you have all the alphabets and special characters.\n",
        "\n",
        "It stores character values or strings. Strings in R can contain alphabets, numbers, and symbols.\n",
        "\n",
        "The easiest way to denote that a value is of character type in R data type is to wrap the value inside single or double inverted commas."
      ],
      "metadata": {
        "id": "-706d1v1P31g"
      }
    },
    {
      "cell_type": "code",
      "source": [
        "# A simple R program\n",
        "# to illustrate character data type\n",
        "\n",
        "# Assign a character value to char\n",
        "char = \"Oshank Agrawal\"\n",
        "\n",
        "# print the class name of char\n",
        "print(class(char))\n",
        "\n",
        "# print the type of char\n",
        "print(typeof(char))\n"
      ],
      "metadata": {
        "colab": {
          "base_uri": "https://localhost:8080/"
        },
        "id": "apoVxqHXQCLV",
        "outputId": "7f79e6e5-cc2a-44d4-bfe8-facb2a97c712"
      },
      "execution_count": null,
      "outputs": [
        {
          "output_type": "stream",
          "name": "stdout",
          "text": [
            "[1] \"character\"\n",
            "[1] \"character\"\n"
          ]
        }
      ]
    },
    {
      "cell_type": "markdown",
      "source": [
        "There are several tasks that can be done using R data types. Let’s understand each task with its action and the syntax for doing the task along with an R code to illustrate the task."
      ],
      "metadata": {
        "id": "_BpKf2nzQGlD"
      }
    },
    {
      "cell_type": "markdown",
      "source": [
        "6. **Raw data type in R**\n",
        "\n",
        "To save and work with data at the byte level in R, use the raw data type. By displaying a series of unprocessed bytes, it enables low-level operations on binary data. Here are some speculative data on R’s raw data types:"
      ],
      "metadata": {
        "id": "bM3tsHaiQNTX"
      }
    },
    {
      "cell_type": "code",
      "source": [
        "# Create a raw vector\n",
        "x <- as.raw(c(0x1, 0x2, 0x3, 0x4, 0x5))\n",
        "print(x)\n"
      ],
      "metadata": {
        "colab": {
          "base_uri": "https://localhost:8080/"
        },
        "id": "e7c6iswLQQrd",
        "outputId": "ca8767f2-6741-4fa0-c74c-cef190f62110"
      },
      "execution_count": null,
      "outputs": [
        {
          "output_type": "stream",
          "name": "stdout",
          "text": [
            "[1] 01 02 03 04 05\n"
          ]
        }
      ]
    },
    {
      "cell_type": "markdown",
      "source": [
        "Five elements make up this raw vector x, each of which represents a raw byte value."
      ],
      "metadata": {
        "id": "aUPDLRn3QXsz"
      }
    },
    {
      "cell_type": "markdown",
      "source": [
        "**Find Data Type of an Object in R**\n",
        "\n",
        "To find the data type of an object you have to use class() function. The syntax for doing that is you need to pass the object as an argument to the function class() to find the data type of an object."
      ],
      "metadata": {
        "id": "VTdPBfvSQctG"
      }
    },
    {
      "cell_type": "markdown",
      "source": [
        "**Syntax:**\n",
        "\n",
        "**class(object)**"
      ],
      "metadata": {
        "id": "PecDdhXbRRdr"
      }
    },
    {
      "cell_type": "code",
      "source": [
        "# A simple R program\n",
        "# to find data type of an object\n",
        "\n",
        "# Logical\n",
        "print(class(TRUE))\n",
        "\n",
        "# Integer\n",
        "print(class(3L))\n",
        "\n",
        "# Numeric\n",
        "print(class(10.5))\n",
        "\n",
        "# Complex\n",
        "print(class(1+2i))\n",
        "\n",
        "# Character\n",
        "print(class(\"12-04-2020\"))\n"
      ],
      "metadata": {
        "colab": {
          "base_uri": "https://localhost:8080/"
        },
        "id": "kCNRqV0UQfqt",
        "outputId": "d69d66f4-8432-4b50-cdb9-3c573f02f811"
      },
      "execution_count": null,
      "outputs": [
        {
          "output_type": "stream",
          "name": "stdout",
          "text": [
            "[1] \"logical\"\n",
            "[1] \"integer\"\n",
            "[1] \"numeric\"\n",
            "[1] \"complex\"\n",
            "[1] \"character\"\n"
          ]
        }
      ]
    },
    {
      "cell_type": "markdown",
      "source": [
        "**Type verification**\n",
        "\n",
        "You can verify the data type of an object, if you doubt about it’s data type.\n",
        "\n",
        "To do that, you need to use the prefix “is.” before the data type as a command."
      ],
      "metadata": {
        "id": "HBHJLBvVQpiD"
      }
    },
    {
      "cell_type": "markdown",
      "source": [
        "**Syntax:**\n",
        "\n",
        "**is.data_type(object)**"
      ],
      "metadata": {
        "id": "Tc_NDYhJRFmm"
      }
    },
    {
      "cell_type": "code",
      "source": [
        "# A simple R program\n",
        "# Verify if an object is of a certain datatype\n",
        "\n",
        "# Logical\n",
        "print(is.logical(TRUE))\n",
        "\n",
        "# Integer\n",
        "print(is.integer(3L))\n",
        "\n",
        "# Numeric\n",
        "print(is.numeric(10.5))\n",
        "\n",
        "# Complex\n",
        "print(is.complex(1+2i))\n",
        "\n",
        "# Character\n",
        "print(is.character(\"12-04-2020\"))\n",
        "\n",
        "print(is.integer(\"a\"))\n",
        "\n",
        "print(is.numeric(2+3i))\n"
      ],
      "metadata": {
        "colab": {
          "base_uri": "https://localhost:8080/"
        },
        "id": "pyl8CAClQs8d",
        "outputId": "4cfa948d-d33c-4154-d7c7-bfb2c21b8c21"
      },
      "execution_count": null,
      "outputs": [
        {
          "output_type": "stream",
          "name": "stdout",
          "text": [
            "[1] TRUE\n",
            "[1] TRUE\n",
            "[1] TRUE\n",
            "[1] TRUE\n",
            "[1] TRUE\n",
            "[1] FALSE\n",
            "[1] FALSE\n"
          ]
        }
      ]
    },
    {
      "cell_type": "markdown",
      "source": [
        "**Convert the Data Type of an Object to Another**\n",
        "\n",
        "The process of altering the data type of an object to another type is referred to as coercion or data type conversion. This is a common operation in many programming languages that is used to alter data and perform various computations.\n",
        "\n",
        "When coercion is required, the language normally performs it automatically, whereas conversion is performed directly by the programmer.\n",
        "\n",
        "Coercion can manifest itself in a variety of ways, depending on the R programming language and the context in which it is employed.\n",
        "\n",
        "In some circumstances, the coercion is implicit, which means that the language will change one type to another without the programmer having to expressly request it."
      ],
      "metadata": {
        "id": "kVYaPAX5Q25A"
      }
    },
    {
      "cell_type": "markdown",
      "source": [
        "**Syntax**\n",
        "\n",
        "**as.data_type(object)**"
      ],
      "metadata": {
        "id": "FLpePyqLQ6jD"
      }
    },
    {
      "cell_type": "markdown",
      "source": [
        "**Note: All the Conversion of the Data Type are not possible and if attempted will be returning an “NA” value.**"
      ],
      "metadata": {
        "id": "XVV0RxvRRjIV"
      }
    },
    {
      "cell_type": "code",
      "source": [
        "# A simple R program\n",
        "# convert data type of an object to another\n",
        "\n",
        "# Logical\n",
        "print(as.numeric(TRUE))\n",
        "\n",
        "# Integer\n",
        "print(as.complex(3L))\n",
        "\n",
        "# Numeric\n",
        "print(as.logical(10.5))\n",
        "\n",
        "# Complex\n",
        "print(as.character(1+2i))\n",
        "\n",
        "# Can't possible\n",
        "print(as.numeric(\"12-04-2020\"))\n"
      ],
      "metadata": {
        "colab": {
          "base_uri": "https://localhost:8080/"
        },
        "id": "QkKgn63gRNXD",
        "outputId": "9d2438ab-87d2-47f7-b7a0-f31d801f7e59"
      },
      "execution_count": null,
      "outputs": [
        {
          "output_type": "stream",
          "name": "stdout",
          "text": [
            "[1] 1\n",
            "[1] 3+0i\n",
            "[1] TRUE\n",
            "[1] \"1+2i\"\n"
          ]
        },
        {
          "output_type": "stream",
          "name": "stderr",
          "text": [
            "Warning message in print(as.numeric(\"12-04-2020\")):\n",
            "“NAs introduced by coercion”\n"
          ]
        },
        {
          "output_type": "stream",
          "name": "stdout",
          "text": [
            "[1] NA\n"
          ]
        }
      ]
    }
  ]
}