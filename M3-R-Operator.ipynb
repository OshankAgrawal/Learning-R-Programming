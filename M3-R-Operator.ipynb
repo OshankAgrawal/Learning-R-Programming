{
  "nbformat": 4,
  "nbformat_minor": 0,
  "metadata": {
    "colab": {
      "provenance": [],
      "collapsed_sections": [
        "6PDRM_QN-QE7",
        "BHTPjKHS_1_b",
        "IqxKk37_ClfB",
        "KLxjQTG5D6iN",
        "j3vflmYEGQMa"
      ],
      "authorship_tag": "ABX9TyN0lq2VYX28HonNbA5DQwrI",
      "include_colab_link": true
    },
    "kernelspec": {
      "name": "ir",
      "display_name": "R"
    },
    "language_info": {
      "name": "R"
    }
  },
  "cells": [
    {
      "cell_type": "markdown",
      "metadata": {
        "id": "view-in-github",
        "colab_type": "text"
      },
      "source": [
        "<a href=\"https://colab.research.google.com/github/OshankAgrawal/Learning-R-Programming/blob/main/M3-R-Operator.ipynb\" target=\"_parent\"><img src=\"https://colab.research.google.com/assets/colab-badge.svg\" alt=\"Open In Colab\"/></a>"
      ]
    },
    {
      "cell_type": "markdown",
      "source": [
        "# **Operators in R**"
      ],
      "metadata": {
        "id": "RZNkjd3O9tjw"
      }
    },
    {
      "cell_type": "markdown",
      "source": [
        "Operators are the symbols directing the compiler to perform various kinds of operations between the operands. Operators simulate the various mathematical, logical, and decision operations performed on a set of Complex Numbers, Integers, and Numericals as input operands.\n",
        "\n",
        "**R Operators**\n",
        "\n",
        "R supports **majorly four kinds of binary operators** between a set of operands. In this tutorial, we will see various types of operators in R Programming language and their usage.\n",
        "\n",
        "Types of the operator in R language\n",
        "\n",
        "**Arithmetic Operators**\n",
        "\n",
        "**Logical Operators**\n",
        "\n",
        "**Relational Operators**\n",
        "\n",
        "**Assignment Operators**\n",
        "\n",
        "**Miscellaneous Operators**"
      ],
      "metadata": {
        "id": "ri2x4Z3p9xq_"
      }
    },
    {
      "cell_type": "markdown",
      "source": [
        "# **Arithmetic Operators**"
      ],
      "metadata": {
        "id": "6PDRM_QN-QE7"
      }
    },
    {
      "cell_type": "markdown",
      "source": [
        "Arithmetic Operators modulo using the specified operator between operands, which may be either scalar values, complex numbers, or vectors. The R operators are performed element-wise at the corresponding positions of the vectors.\n",
        "\n",
        "1. **Addition operator (+)**\n",
        "The values at the corresponding positions of both operands are added. Consider the following R operator snippet to add two vectors:"
      ],
      "metadata": {
        "id": "Z8JoL6lG-VFX"
      }
    },
    {
      "cell_type": "code",
      "source": [
        "a <- c(10,20)\n",
        "b <- c(2,5)\n",
        "d <- a+b\n",
        "print(d)"
      ],
      "metadata": {
        "colab": {
          "base_uri": "https://localhost:8080/"
        },
        "id": "j4lNFeFA-fsx",
        "outputId": "948ea24f-dfdf-493f-ffab-f9ad42215a92"
      },
      "execution_count": null,
      "outputs": [
        {
          "output_type": "stream",
          "name": "stdout",
          "text": [
            "[1] 12 25\n"
          ]
        }
      ]
    },
    {
      "cell_type": "markdown",
      "source": [
        "2. **Subtraction Operator (-)**\n",
        "The second operand values are subtracted from the first. Consider the following R operator snippet to subtract two variables:"
      ],
      "metadata": {
        "id": "mBJg568p-0Bc"
      }
    },
    {
      "cell_type": "code",
      "source": [
        "a <- c(10,20)\n",
        "b <- c(2,5)\n",
        "d <- a-b\n",
        "print(d)"
      ],
      "metadata": {
        "colab": {
          "base_uri": "https://localhost:8080/"
        },
        "id": "RcteixIn-52d",
        "outputId": "15ff5a19-f2e4-4510-d529-5807dbc753c9"
      },
      "execution_count": null,
      "outputs": [
        {
          "output_type": "stream",
          "name": "stdout",
          "text": [
            "[1]  8 15\n"
          ]
        }
      ]
    },
    {
      "cell_type": "markdown",
      "source": [
        "3. **Multiplication Operator (*)**\n",
        "The multiplication of corresponding elements of vectors and Integers are multiplied with the use of the ‘*’ operator."
      ],
      "metadata": {
        "id": "MAk0ZjIr-9Ii"
      }
    },
    {
      "cell_type": "code",
      "source": [
        "a <- c(10,20)\n",
        "b <- c(2,5)\n",
        "d <- a*b\n",
        "print(d)"
      ],
      "metadata": {
        "colab": {
          "base_uri": "https://localhost:8080/"
        },
        "id": "2dcl3VDc_CaR",
        "outputId": "cbea9277-3d8d-48e5-8b96-453652947a00"
      },
      "execution_count": null,
      "outputs": [
        {
          "output_type": "stream",
          "name": "stdout",
          "text": [
            "[1]  20 100\n"
          ]
        }
      ]
    },
    {
      "cell_type": "markdown",
      "source": [
        "4. **Division Operator (/)**\n",
        "The first operand is divided by the second operand with the use of the ‘/’ operator."
      ],
      "metadata": {
        "id": "GBvn3RD9_G4n"
      }
    },
    {
      "cell_type": "code",
      "source": [
        "a <- c(10,20)\n",
        "b <- c(2,5)\n",
        "d <- a/b\n",
        "print(d)"
      ],
      "metadata": {
        "colab": {
          "base_uri": "https://localhost:8080/"
        },
        "id": "VveEoa8l_LVI",
        "outputId": "da44149a-8650-4d48-b3ee-fec13e30aceb"
      },
      "execution_count": null,
      "outputs": [
        {
          "output_type": "stream",
          "name": "stdout",
          "text": [
            "[1] 5 4\n"
          ]
        }
      ]
    },
    {
      "cell_type": "markdown",
      "source": [
        "5. **Power Operator (^)**\n",
        "The first operand is raised to the power of the second operand."
      ],
      "metadata": {
        "id": "jjCvx4GW_RSO"
      }
    },
    {
      "cell_type": "code",
      "source": [
        "a <- c(10,20)\n",
        "b <- c(2,5)\n",
        "d <- a^b\n",
        "print(d)"
      ],
      "metadata": {
        "colab": {
          "base_uri": "https://localhost:8080/"
        },
        "id": "4w-nfBL5_ThJ",
        "outputId": "7ae90c02-e5f4-41de-b200-20ff367fa3ec"
      },
      "execution_count": null,
      "outputs": [
        {
          "output_type": "stream",
          "name": "stdout",
          "text": [
            "[1]     100 3200000\n"
          ]
        }
      ]
    },
    {
      "cell_type": "markdown",
      "source": [
        "6. **Modulo Operator (%%)**\n",
        "The remainder of the first operand divided by the second operand is returned."
      ],
      "metadata": {
        "id": "MSMmSsV5_d6F"
      }
    },
    {
      "cell_type": "code",
      "source": [
        "list1<- c(2, 22)\n",
        "list2<-c(2,4)\n",
        "print(list1 %% list2)"
      ],
      "metadata": {
        "colab": {
          "base_uri": "https://localhost:8080/"
        },
        "id": "pIua5roG_h6Z",
        "outputId": "6c55ad61-56e4-48dc-f495-222d540f025d"
      },
      "execution_count": null,
      "outputs": [
        {
          "output_type": "stream",
          "name": "stdout",
          "text": [
            "[1] 0 2\n"
          ]
        }
      ]
    },
    {
      "cell_type": "markdown",
      "source": [
        "7. **Vector Division Operator (%/%)**\n",
        "This operator is used to find the division of the first vector with the second(quotient)."
      ],
      "metadata": {
        "id": "-KxKD0HmqIHr"
      }
    },
    {
      "cell_type": "code",
      "source": [
        "a <- c(22, 3.3, 4)\n",
        "b <- c(11, 5, 3)\n",
        "print(a%/%b)"
      ],
      "metadata": {
        "colab": {
          "base_uri": "https://localhost:8080/"
        },
        "id": "J1OuH8WSqT6m",
        "outputId": "0639bc91-d973-499a-8d05-283dd0d30868"
      },
      "execution_count": null,
      "outputs": [
        {
          "output_type": "stream",
          "name": "stdout",
          "text": [
            "[1] 2 0 1\n"
          ]
        }
      ]
    },
    {
      "cell_type": "markdown",
      "source": [
        "**The following R code illustrates the usage of all Arithmetic R operators.**"
      ],
      "metadata": {
        "id": "rBV5y5MS_tg9"
      }
    },
    {
      "cell_type": "code",
      "source": [
        "# R program to illustrate\n",
        "# the use of Arithmetic operators\n",
        "vec1 <- c(0, 2)\n",
        "vec2 <- c(2, 3)\n",
        "\n",
        "# Performing operations on Operands\n",
        "cat (\"Addition of vectors :\", vec1 + vec2, \"\\n\")\n",
        "cat (\"Subtraction of vectors :\", vec1 - vec2, \"\\n\")\n",
        "cat (\"Multiplication of vectors :\", vec1 * vec2, \"\\n\")\n",
        "cat (\"Division of vectors :\", vec1 / vec2, \"\\n\")\n",
        "cat (\"Modulo of vectors :\", vec1 %% vec2, \"\\n\")\n",
        "cat (\"Power operator :\", vec1 ^ vec2)"
      ],
      "metadata": {
        "colab": {
          "base_uri": "https://localhost:8080/"
        },
        "id": "hYTIzrxw_prz",
        "outputId": "04c1c99c-16be-4319-d110-b173e9ae257d"
      },
      "execution_count": null,
      "outputs": [
        {
          "output_type": "stream",
          "name": "stdout",
          "text": [
            "Addition of vectors : 2 5 \n",
            "Subtraction of vectors : -2 -1 \n",
            "Multiplication of vectors : 0 6 \n",
            "Division of vectors : 0 0.6666667 \n",
            "Modulo of vectors : 0 2 \n",
            "Power operator : 0 8"
          ]
        }
      ]
    },
    {
      "cell_type": "markdown",
      "source": [
        "# **Logical Operators**"
      ],
      "metadata": {
        "id": "BHTPjKHS_1_b"
      }
    },
    {
      "cell_type": "markdown",
      "source": [
        "Logical Operators in R simulate element-wise decision operations, based on the specified operator between the operands, which are then evaluated to either a True or False boolean value. Any non-zero integer value is considered as a TRUE value, be it a complex or real number."
      ],
      "metadata": {
        "id": "WyKcUElZAgB9"
      }
    },
    {
      "cell_type": "markdown",
      "source": [
        "1. **Element-wise Logical AND operator (&)**\n",
        "Returns True if both the operands are True."
      ],
      "metadata": {
        "id": "vGjY4lp1AiCL"
      }
    },
    {
      "cell_type": "code",
      "source": [
        "list1 <- c(TRUE, 0.1)\n",
        "list2 <- c(0,4+3i)\n",
        "print(list1 & list2)\n"
      ],
      "metadata": {
        "colab": {
          "base_uri": "https://localhost:8080/"
        },
        "id": "9wgZ_I4XAn5A",
        "outputId": "7d26c76c-8fd4-490a-ecb1-5c116a5b2c02"
      },
      "execution_count": null,
      "outputs": [
        {
          "output_type": "stream",
          "name": "stdout",
          "text": [
            "[1] FALSE  TRUE\n"
          ]
        }
      ]
    },
    {
      "cell_type": "markdown",
      "source": [
        "**Any non zero integer value is considered as a TRUE value, be it complex or real number.**"
      ],
      "metadata": {
        "id": "wSEbdMKSAsd3"
      }
    },
    {
      "cell_type": "markdown",
      "source": [
        "2. **Element-wise Logical OR operator (|)**\n",
        "Returns True if either of the operands is True."
      ],
      "metadata": {
        "id": "g1k_57WQA1v8"
      }
    },
    {
      "cell_type": "code",
      "source": [
        "list1 <- c(TRUE, 0.1)\n",
        "list2 <- c(0,4+3i)\n",
        "print(list1|list2)\n"
      ],
      "metadata": {
        "colab": {
          "base_uri": "https://localhost:8080/"
        },
        "id": "f6GonFJVA8v7",
        "outputId": "b1a9e426-5144-4a38-b87e-af94c0be8fe1"
      },
      "execution_count": null,
      "outputs": [
        {
          "output_type": "stream",
          "name": "stdout",
          "text": [
            "[1] TRUE TRUE\n"
          ]
        }
      ]
    },
    {
      "cell_type": "markdown",
      "source": [
        "3. **NOT operator (!)**\n",
        "A unary operator that negates the status of the elements of the operand."
      ],
      "metadata": {
        "id": "v6nnizFkBmCA"
      }
    },
    {
      "cell_type": "code",
      "source": [
        "list1 <- c(0,FALSE)\n",
        "print(!list1)\n"
      ],
      "metadata": {
        "colab": {
          "base_uri": "https://localhost:8080/"
        },
        "id": "XV18-laXBr3_",
        "outputId": "a9c1d940-60a0-4267-890f-52220c9effa4"
      },
      "execution_count": null,
      "outputs": [
        {
          "output_type": "stream",
          "name": "stdout",
          "text": [
            "[1] TRUE TRUE\n"
          ]
        }
      ]
    },
    {
      "cell_type": "markdown",
      "source": [
        "4. **Logical AND operator (&&)**\n",
        "Returns True if both the first elements of the operands are True."
      ],
      "metadata": {
        "id": "xT91efDXBv0s"
      }
    },
    {
      "cell_type": "code",
      "source": [
        "list1 <- c(TRUE, 0.1)\n",
        "list2 <- c(0,4+3i)\n",
        "print(list1[1] && list2[1])\n"
      ],
      "metadata": {
        "colab": {
          "base_uri": "https://localhost:8080/"
        },
        "id": "rpFQsZvxB5d8",
        "outputId": "4f9dcb34-b06c-413d-e9f0-fa68fee80984"
      },
      "execution_count": null,
      "outputs": [
        {
          "output_type": "stream",
          "name": "stdout",
          "text": [
            "[1] FALSE\n"
          ]
        }
      ]
    },
    {
      "cell_type": "markdown",
      "source": [
        "**Compares just the first elements of both the lists.**"
      ],
      "metadata": {
        "id": "wvFmbNcJB_TB"
      }
    },
    {
      "cell_type": "markdown",
      "source": [
        "5. **Logical OR operator (||)**\n",
        "Returns True if either of the first elements of the operands is True."
      ],
      "metadata": {
        "id": "e04LQuQDCAh9"
      }
    },
    {
      "cell_type": "code",
      "source": [
        "list1 <- c(TRUE, 0.1)\n",
        "list2 <- c(0,4+3i)\n",
        "print(list1[1]||list2[1])\n"
      ],
      "metadata": {
        "colab": {
          "base_uri": "https://localhost:8080/"
        },
        "id": "ZCQi2XU0CI61",
        "outputId": "4b979810-821d-439f-b816-c733e583f8fb"
      },
      "execution_count": null,
      "outputs": [
        {
          "output_type": "stream",
          "name": "stdout",
          "text": [
            "[1] TRUE\n"
          ]
        }
      ]
    },
    {
      "cell_type": "markdown",
      "source": [
        "**The following R code illustrates the usage of all Logical Operators in R:**"
      ],
      "metadata": {
        "id": "camk2b59CMHA"
      }
    },
    {
      "cell_type": "code",
      "source": [
        "# R program to illustrate\n",
        "# the use of Logical operators\n",
        "vec1 <- c(0,2)\n",
        "vec2 <- c(TRUE,FALSE)\n",
        "\n",
        "# Performing operations on Operands\n",
        "cat (\"Element wise AND :\", vec1 & vec2, \"\\n\")\n",
        "cat (\"Element wise OR :\", vec1 | vec2, \"\\n\")\n",
        "cat (\"Logical AND :\", vec1[1] && vec2[1], \"\\n\")\n",
        "cat (\"Logical OR :\", vec1[1] || vec2[1], \"\\n\")\n",
        "cat (\"Negation :\", !vec1)\n"
      ],
      "metadata": {
        "colab": {
          "base_uri": "https://localhost:8080/"
        },
        "id": "JtBlLvl_CQlR",
        "outputId": "8e37a2e4-a0f0-453e-82ae-4b9090e60f6e"
      },
      "execution_count": null,
      "outputs": [
        {
          "output_type": "stream",
          "name": "stdout",
          "text": [
            "Element wise AND : FALSE FALSE \n",
            "Element wise OR : TRUE TRUE \n",
            "Logical AND : FALSE \n",
            "Logical OR : TRUE \n",
            "Negation : TRUE FALSE"
          ]
        }
      ]
    },
    {
      "cell_type": "markdown",
      "source": [
        "# **Relational Operators**"
      ],
      "metadata": {
        "id": "IqxKk37_ClfB"
      }
    },
    {
      "cell_type": "markdown",
      "source": [
        "The Relational Operators in R carry out comparison operations between the corresponding elements of the operands. Returns a boolean TRUE value if the first operand satisfies the relation compared to the second. A TRUE value is always considered to be greater than the FALSE."
      ],
      "metadata": {
        "id": "yToMpw3ECp99"
      }
    },
    {
      "cell_type": "markdown",
      "source": [
        "1. **Less than (<)**\n",
        "Returns TRUE if the corresponding element of the first operand is less than that of the second operand. Else returns FALSE."
      ],
      "metadata": {
        "id": "DrXaLX_cCtCj"
      }
    },
    {
      "cell_type": "code",
      "source": [
        "list1 <- c(TRUE, 0.1,\"apple\")\n",
        "list2 <- c(0,0.1,\"bat\")\n",
        "print(list1<list2)\n"
      ],
      "metadata": {
        "colab": {
          "base_uri": "https://localhost:8080/"
        },
        "id": "qU_jls95CwnD",
        "outputId": "3c228431-0d82-4572-f6ea-03119203ffb0"
      },
      "execution_count": null,
      "outputs": [
        {
          "output_type": "stream",
          "name": "stdout",
          "text": [
            "[1] FALSE FALSE  TRUE\n"
          ]
        }
      ]
    },
    {
      "cell_type": "markdown",
      "source": [
        "2. **Less than equal to (<=)**\n",
        "Returns TRUE if the corresponding element of the first operand is less than or equal to that of the second operand. Else returns FALSE."
      ],
      "metadata": {
        "id": "IL1Uph65DU2A"
      }
    },
    {
      "cell_type": "code",
      "source": [
        "list1 <- c(TRUE, 0.1, \"apple\")\n",
        "list2 <- c(TRUE, 0.1, \"bat\")\n",
        "\n",
        "# Convert lists to character strings\n",
        "list1_char <- as.character(list1)\n",
        "list2_char <- as.character(list2)\n",
        "\n",
        "# Compare character strings\n",
        "print(list1_char <= list2_char)\n"
      ],
      "metadata": {
        "colab": {
          "base_uri": "https://localhost:8080/"
        },
        "id": "fUw5DCuQDYRV",
        "outputId": "52ab3c18-cb77-420b-9585-aadfb1046106"
      },
      "execution_count": null,
      "outputs": [
        {
          "output_type": "stream",
          "name": "stdout",
          "text": [
            "[1] TRUE TRUE TRUE\n"
          ]
        }
      ]
    },
    {
      "cell_type": "markdown",
      "source": [
        "3. **Greater than (>)**\n",
        "Returns TRUE if the corresponding element of the first operand is greater than that of the second operand. Else returns FALSE."
      ],
      "metadata": {
        "id": "jMefFq6tDboX"
      }
    },
    {
      "cell_type": "code",
      "source": [
        "list1 <- c(TRUE, 0.1, \"apple\")\n",
        "list2 <- c(TRUE, 0.1, \"bat\")\n",
        "print(list1_char > list2_char)\n"
      ],
      "metadata": {
        "colab": {
          "base_uri": "https://localhost:8080/"
        },
        "id": "6AXnOxgUDmSJ",
        "outputId": "827785aa-bcab-4ccd-c359-240e737aedac"
      },
      "execution_count": null,
      "outputs": [
        {
          "output_type": "stream",
          "name": "stdout",
          "text": [
            "[1] FALSE FALSE FALSE\n"
          ]
        }
      ]
    },
    {
      "cell_type": "markdown",
      "source": [
        "4. **Greater than equal to (>=)**\n",
        "Returns TRUE if the corresponding element of the first operand is greater or equal to that of the second operand. Else returns FALSE."
      ],
      "metadata": {
        "id": "A9cgfdUwDpD4"
      }
    },
    {
      "cell_type": "code",
      "source": [
        "list1 <- c(TRUE, 0.1, \"apple\")\n",
        "list2 <- c(TRUE, 0.1, \"bat\")\n",
        "print(list1_char >= list2_char)\n"
      ],
      "metadata": {
        "colab": {
          "base_uri": "https://localhost:8080/"
        },
        "id": "FqqYkBbpDtnh",
        "outputId": "5091bcda-3643-42f7-af8e-c27a67d94479"
      },
      "execution_count": null,
      "outputs": [
        {
          "output_type": "stream",
          "name": "stdout",
          "text": [
            "[1]  TRUE  TRUE FALSE\n"
          ]
        }
      ]
    },
    {
      "cell_type": "markdown",
      "source": [
        "5. **Not equal to (!=)**\n",
        "Returns TRUE if the corresponding element of the first operand is not equal to the second operand. Else returns FALSE."
      ],
      "metadata": {
        "id": "_Xi4CddRDwUU"
      }
    },
    {
      "cell_type": "code",
      "source": [
        "list1 <- c(TRUE, 0.1,'apple')\n",
        "list2 <- c(0,0.1,\"bat\")\n",
        "print(list1!=list2)\n"
      ],
      "metadata": {
        "colab": {
          "base_uri": "https://localhost:8080/"
        },
        "id": "lw-eS35ND3mG",
        "outputId": "66861115-e9ab-46d7-a792-0cdd580d2fdf"
      },
      "execution_count": null,
      "outputs": [
        {
          "output_type": "stream",
          "name": "stdout",
          "text": [
            "[1]  TRUE FALSE  TRUE\n"
          ]
        }
      ]
    },
    {
      "cell_type": "markdown",
      "source": [
        "6. **Equal to (==)**\n",
        "This operator will return TRUE when every element in the first vector is greater than or equal to the corresponding element of another vector."
      ],
      "metadata": {
        "id": "bBo62x3Rq3fB"
      }
    },
    {
      "cell_type": "code",
      "source": [
        "a <- c(1, 3, 5)\n",
        "b <- c(2, 3, 6)\n",
        "print(a>=b)"
      ],
      "metadata": {
        "colab": {
          "base_uri": "https://localhost:8080/"
        },
        "id": "3Whjx6rjrAaF",
        "outputId": "838dce1f-2c02-4fac-b487-29c141f138d9"
      },
      "execution_count": null,
      "outputs": [
        {
          "output_type": "stream",
          "name": "stdout",
          "text": [
            "[1] FALSE  TRUE FALSE\n"
          ]
        }
      ]
    },
    {
      "cell_type": "markdown",
      "source": [
        "**The following R code illustrates the usage of all Relational Operators in R:**"
      ],
      "metadata": {
        "id": "T_OrznwtECjM"
      }
    },
    {
      "cell_type": "code",
      "source": [
        "# R program to illustrate\n",
        "# the use of Relational operators\n",
        "vec1 <- c(0, 2)\n",
        "vec2 <- c(2, 3)\n",
        "\n",
        "# Performing operations on Operands\n",
        "cat (\"Vector1 less than Vector2 :\", vec1 < vec2, \"\\n\")\n",
        "cat (\"Vector1 less than equal to Vector2 :\", vec1 <= vec2, \"\\n\")\n",
        "cat (\"Vector1 greater than Vector2 :\", vec1 > vec2, \"\\n\")\n",
        "cat (\"Vector1 greater than equal to Vector2 :\", vec1 >= vec2, \"\\n\")\n",
        "cat (\"Vector1 not equal to Vector2 :\", vec1 != vec2, \"\\n\")"
      ],
      "metadata": {
        "colab": {
          "base_uri": "https://localhost:8080/"
        },
        "id": "ijCvfOMoD-Yh",
        "outputId": "a8673547-427e-49f6-ad6e-93f6af0ab4ee"
      },
      "execution_count": null,
      "outputs": [
        {
          "output_type": "stream",
          "name": "stdout",
          "text": [
            "Vector1 less than Vector2 : TRUE TRUE \n",
            "Vector1 less than equal to Vector2 : TRUE TRUE \n",
            "Vector1 greater than Vector2 : FALSE FALSE \n",
            "Vector1 greater than equal to Vector2 : FALSE FALSE \n",
            "Vector1 not equal to Vector2 : TRUE TRUE \n"
          ]
        }
      ]
    },
    {
      "cell_type": "markdown",
      "source": [
        "# **Assignment Operators**"
      ],
      "metadata": {
        "id": "KLxjQTG5D6iN"
      }
    },
    {
      "cell_type": "markdown",
      "source": [
        "Assignment Operators in R are used to assigning values to various data objects in R. The objects may be integers, vectors, or functions. These values are then stored by the assigned variable names. There are two kinds of assignment operators: Left and Right"
      ],
      "metadata": {
        "id": "MPmZLjeHEZ4K"
      }
    },
    {
      "cell_type": "markdown",
      "source": [
        "1. **Left Assignment (<- or <<- or =)**\n",
        "Assigns a value to a vector."
      ],
      "metadata": {
        "id": "ZkmqZB_EEc1w"
      }
    },
    {
      "cell_type": "code",
      "source": [
        "vec1 = c(\"ab\", TRUE)\n",
        "print (vec1)\n"
      ],
      "metadata": {
        "colab": {
          "base_uri": "https://localhost:8080/"
        },
        "id": "aJvuKoQzEg2m",
        "outputId": "4996eda4-1262-4e35-86a5-de451064fa2d"
      },
      "execution_count": null,
      "outputs": [
        {
          "output_type": "stream",
          "name": "stdout",
          "text": [
            "[1] \"ab\"   \"TRUE\"\n"
          ]
        }
      ]
    },
    {
      "cell_type": "markdown",
      "source": [
        "2. **Right Assignment (-> or ->>)**\n",
        "Assigns value to a vector."
      ],
      "metadata": {
        "id": "aPuNnstREmAo"
      }
    },
    {
      "cell_type": "code",
      "source": [
        "c(\"ab\", TRUE) ->> vec1\n",
        "print (vec1)\n"
      ],
      "metadata": {
        "colab": {
          "base_uri": "https://localhost:8080/"
        },
        "id": "xkLYF_k7Ep4d",
        "outputId": "dd44705a-f0f7-4716-cdea-db09d83fba94"
      },
      "execution_count": null,
      "outputs": [
        {
          "output_type": "stream",
          "name": "stdout",
          "text": [
            "[1] \"ab\"   \"TRUE\"\n"
          ]
        }
      ]
    },
    {
      "cell_type": "markdown",
      "source": [
        "**The following R code illustrates the usage of all Relational Operators in R:**"
      ],
      "metadata": {
        "id": "OE7MoFdIFKR7"
      }
    },
    {
      "cell_type": "code",
      "source": [
        "# R program to illustrate\n",
        "# the use of Assignment operators\n",
        "vec1 <- c(2:5)\n",
        "c(2:5) ->> vec2\n",
        "vec3 <<- c(2:5)\n",
        "vec4 = c(2:5)\n",
        "c(2:5) -> vec5\n",
        "\n",
        "# Performing operations on Operands\n",
        "cat (\"vector 1 :\", vec1, \"\\n\")\n",
        "cat(\"vector 2 :\", vec2, \"\\n\")\n",
        "cat (\"vector 3 :\", vec3, \"\\n\")\n",
        "cat(\"vector 4 :\", vec4, \"\\n\")\n",
        "cat(\"vector 5 :\", vec5)\n"
      ],
      "metadata": {
        "colab": {
          "base_uri": "https://localhost:8080/"
        },
        "id": "LIrv5xavGLEb",
        "outputId": "6a4052bb-26f8-439e-8409-664a51216aaf"
      },
      "execution_count": null,
      "outputs": [
        {
          "output_type": "stream",
          "name": "stdout",
          "text": [
            "vector 1 : 2 3 4 5 \n",
            "vector 2 : 2 3 4 5 \n",
            "vector 3 : 2 3 4 5 \n",
            "vector 4 : 2 3 4 5 \n",
            "vector 5 : 2 3 4 5"
          ]
        }
      ]
    },
    {
      "cell_type": "markdown",
      "source": [
        "# **Miscellaneous Operators**"
      ],
      "metadata": {
        "id": "j3vflmYEGQMa"
      }
    },
    {
      "cell_type": "markdown",
      "source": [
        "Miscellaneous Operator are the mixed operators in R that simulate the printing of sequences and assignment of vectors, either left or right-handed."
      ],
      "metadata": {
        "id": "LeYBrOGzGVgY"
      }
    },
    {
      "cell_type": "markdown",
      "source": [
        "1. **%in% Operator**\n",
        "Checks if an element belongs to a list and returns a boolean value TRUE if the value is present  else FALSE."
      ],
      "metadata": {
        "id": "Dvpu0eK7GYEy"
      }
    },
    {
      "cell_type": "code",
      "source": [
        " val <- 0.1\n",
        " list1 <- c(TRUE, 0.1,\"apple\")\n",
        " print (val %in% list1)\n"
      ],
      "metadata": {
        "colab": {
          "base_uri": "https://localhost:8080/"
        },
        "id": "d6kQpOL7Gc2N",
        "outputId": "a9ffd87b-1261-4836-9957-b5f7e5d3d0bd"
      },
      "execution_count": null,
      "outputs": [
        {
          "output_type": "stream",
          "name": "stdout",
          "text": [
            "[1] TRUE\n"
          ]
        }
      ]
    },
    {
      "cell_type": "markdown",
      "source": [
        "**Checks for the value 0.1 in the specified list. It exists, therefore, prints TRUE.**"
      ],
      "metadata": {
        "id": "p21Fn1hjGsQf"
      }
    },
    {
      "cell_type": "markdown",
      "source": [
        "2. **%*% Operator**\n",
        "This operator is used to multiply a matrix with its transpose. Transpose of the matrix is obtained by interchanging the rows to columns and columns to rows. The number of columns of the first matrix must be equal to the number of rows of the second matrix. Multiplication of the matrix A with its transpose, B, produces a square matrix.\n",
        "A_{r*c} x B_c*r -> P_{r*r}  "
      ],
      "metadata": {
        "id": "a1uVh1awGt_i"
      }
    },
    {
      "cell_type": "code",
      "source": [
        " mat = matrix(c(1,2,3,4,5,6),nrow=2,ncol=3)\n",
        "#original matrix of order 2x3\n",
        "print(\"Original matrix of order 2x3\")\n",
        "print (mat)\n",
        "#transposed matrix of order 3x2\n",
        "print(\"Transposed matrix of order 3x2\")\n",
        "print( t(mat))\n",
        "#product matrix of order 2x2\n",
        "print(\"Product matrix of order 2x2\")\n",
        "pro = mat %*% t(mat)\n",
        "print(pro)\n"
      ],
      "metadata": {
        "colab": {
          "base_uri": "https://localhost:8080/"
        },
        "id": "QAir7E3BGz0_",
        "outputId": "b3dc3ff7-14fa-4a56-c5ec-bc55bbe11a0e"
      },
      "execution_count": null,
      "outputs": [
        {
          "output_type": "stream",
          "name": "stdout",
          "text": [
            "[1] \"Original matrix of order 2x3\"\n",
            "     [,1] [,2] [,3]\n",
            "[1,]    1    3    5\n",
            "[2,]    2    4    6\n",
            "[1] \"Transposed matrix of order 3x2\"\n",
            "     [,1] [,2]\n",
            "[1,]    1    2\n",
            "[2,]    3    4\n",
            "[3,]    5    6\n",
            "[1] \"Product matrix of order 2x2\"\n",
            "     [,1] [,2]\n",
            "[1,]   35   44\n",
            "[2,]   44   56\n"
          ]
        }
      ]
    },
    {
      "cell_type": "markdown",
      "source": [
        "3. **: Operator**\n",
        "The colon operator is used to create the series of numbers in sequence for a vector."
      ],
      "metadata": {
        "id": "TlltWRQurYYU"
      }
    },
    {
      "cell_type": "code",
      "source": [
        "v <- 1:8\n",
        "print(v)"
      ],
      "metadata": {
        "colab": {
          "base_uri": "https://localhost:8080/"
        },
        "id": "2Xv9oVYVrXus",
        "outputId": "2674022d-b16b-4d4d-cc7a-ccd6d7f7569c"
      },
      "execution_count": null,
      "outputs": [
        {
          "output_type": "stream",
          "name": "stdout",
          "text": [
            "[1] 1 2 3 4 5 6 7 8\n"
          ]
        }
      ]
    },
    {
      "cell_type": "markdown",
      "source": [
        "**The following R code illustrates the usage of all Miscellaneous Operators in R:**"
      ],
      "metadata": {
        "id": "CoY3BoNSIP54"
      }
    },
    {
      "cell_type": "code",
      "source": [
        "# R program to illustrate\n",
        "# the use of Miscellaneous operators\n",
        "mat <- matrix (1:4, nrow = 1, ncol = 4)\n",
        "print(\"Matrix elements using : \")\n",
        "print(mat)\n",
        "\n",
        "product = mat %*% t(mat)\n",
        "print(\"Product of matrices\")\n",
        "print(product,)\n",
        "cat (\"does 1 exist in prod matrix :\", \"1\" %in% product)\n"
      ],
      "metadata": {
        "colab": {
          "base_uri": "https://localhost:8080/"
        },
        "id": "obtBiVWZIYQ0",
        "outputId": "521e9334-4a32-4807-840f-45a68cf64dbe"
      },
      "execution_count": null,
      "outputs": [
        {
          "output_type": "stream",
          "name": "stdout",
          "text": [
            "[1] \"Matrix elements using : \"\n",
            "     [,1] [,2] [,3] [,4]\n",
            "[1,]    1    2    3    4\n",
            "[1] \"Product of matrices\"\n",
            "     [,1]\n",
            "[1,]   30\n",
            "does 1 exist in prod matrix : FALSE"
          ]
        }
      ]
    }
  ]
}