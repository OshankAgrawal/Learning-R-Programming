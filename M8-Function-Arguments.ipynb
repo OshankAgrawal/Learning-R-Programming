{
  "nbformat": 4,
  "nbformat_minor": 0,
  "metadata": {
    "colab": {
      "provenance": [],
      "authorship_tag": "ABX9TyMbrfsxajJ9YYoSETH5HhFq",
      "include_colab_link": true
    },
    "kernelspec": {
      "name": "ir",
      "display_name": "R"
    },
    "language_info": {
      "name": "R"
    }
  },
  "cells": [
    {
      "cell_type": "markdown",
      "metadata": {
        "id": "view-in-github",
        "colab_type": "text"
      },
      "source": [
        "<a href=\"https://colab.research.google.com/github/OshankAgrawal/Learning-R-Programming/blob/main/M8-Function-Arguments.ipynb\" target=\"_parent\"><img src=\"https://colab.research.google.com/assets/colab-badge.svg\" alt=\"Open In Colab\"/></a>"
      ]
    },
    {
      "cell_type": "markdown",
      "source": [
        "# **Function Arguments in R Programming**"
      ],
      "metadata": {
        "id": "L8KwcrSiWfPi"
      }
    },
    {
      "cell_type": "markdown",
      "source": [
        "Arguments are the parameters provided to a function to perform operations in a programming language. In R programming, we can use as many arguments as we want and are separated by a comma. There is no limit on the number of arguments in a function in R."
      ],
      "metadata": {
        "id": "rrpLhmL-Wk2d"
      }
    },
    {
      "cell_type": "markdown",
      "source": [
        "**Now we’ll discuss different ways of adding arguments in a function in R programming.**"
      ],
      "metadata": {
        "id": "wsWsGHg8XBRL"
      }
    },
    {
      "cell_type": "markdown",
      "source": [
        "1. **Adding Arguments in R**\n",
        "\n",
        "    We can pass an argument to a function while calling the function by simply giving the value as an argument inside the parenthesis. Below is an implementation of a function with a single argument.\n",
        "\n",
        "**Syntax:**\n",
        "\n",
        "    function_name <- function(arg1, arg2, … ){\n",
        "        code\n",
        "    }\n",
        "\n",
        "Here is one example that explain Function Arguments in R Programming."
      ],
      "metadata": {
        "id": "qqAjnZdJXDHZ"
      }
    },
    {
      "cell_type": "code",
      "source": [
        "calculate_square <- function(x) {\n",
        "  result <- x^2\n",
        "  return(result)\n",
        "}\n",
        "\n",
        "value1 <- 5\n",
        "square1 <- calculate_square(value1)\n",
        "print(square1)\n",
        "\n",
        "value2 <- -2.5\n",
        "square2 <- calculate_square(value2)\n",
        "print(square2)\n"
      ],
      "metadata": {
        "colab": {
          "base_uri": "https://localhost:8080/"
        },
        "id": "T0NU39DzXdQt",
        "outputId": "d7a16789-ed79-4865-d3da-c4fc8115f9b2"
      },
      "execution_count": null,
      "outputs": [
        {
          "output_type": "stream",
          "name": "stdout",
          "text": [
            "[1] 25\n",
            "[1] 6.25\n"
          ]
        }
      ]
    },
    {
      "cell_type": "markdown",
      "source": [
        "**Function to Check if a Number is Divisible by 5**\n",
        "\n",
        "Here’s a simple function in R that checks whether a given number is divisible by 5 or not. The function definition and calls are provided below."
      ],
      "metadata": {
        "id": "ZfkHe3V-Xu37"
      }
    },
    {
      "cell_type": "code",
      "source": [
        "# Function definition\n",
        "# To check n is divisible by 5 or not\n",
        "divisbleBy5 <- function(n){\n",
        "if(n %% 5 == 0)\n",
        "{\n",
        "    return(\"number is divisible by 5\")\n",
        "}\n",
        "else\n",
        "{\n",
        "    return(\"number is not divisible by 5\")\n",
        "}\n",
        "}\n",
        "\n",
        "# Function call\n",
        "divisbleBy5(100)\n",
        "divisbleBy5(4)\n",
        "divisbleBy5(20.0)\n"
      ],
      "metadata": {
        "colab": {
          "base_uri": "https://localhost:8080/",
          "height": 69
        },
        "id": "iLAyZuXNX2z1",
        "outputId": "b5c6bd98-ee83-4a36-ed6d-5aedb0d84226"
      },
      "execution_count": null,
      "outputs": [
        {
          "output_type": "display_data",
          "data": {
            "text/html": [
              "'number is divisible by 5'"
            ],
            "text/markdown": "'number is divisible by 5'",
            "text/latex": "'number is divisible by 5'",
            "text/plain": [
              "[1] \"number is divisible by 5\""
            ]
          },
          "metadata": {}
        },
        {
          "output_type": "display_data",
          "data": {
            "text/html": [
              "'number is not divisible by 5'"
            ],
            "text/markdown": "'number is not divisible by 5'",
            "text/latex": "'number is not divisible by 5'",
            "text/plain": [
              "[1] \"number is not divisible by 5\""
            ]
          },
          "metadata": {}
        },
        {
          "output_type": "display_data",
          "data": {
            "text/html": [
              "'number is divisible by 5'"
            ],
            "text/markdown": "'number is divisible by 5'",
            "text/latex": "'number is divisible by 5'",
            "text/plain": [
              "[1] \"number is divisible by 5\""
            ]
          },
          "metadata": {}
        }
      ]
    },
    {
      "cell_type": "markdown",
      "source": [
        "2. **Adding Multiple Arguments in R**\n",
        "\n",
        "    A function in R Programming Language can have multiple arguments too. Below is an implementation of a function with multiple arguments.\n",
        "\n",
        "Here is one example:"
      ],
      "metadata": {
        "id": "IBlEEvGQX9Yd"
      }
    },
    {
      "cell_type": "code",
      "source": [
        "# Function definition\n",
        "# To check a is divisible by b or not\n",
        "divisible <- function(a, b){\n",
        "if(a %% b == 0)\n",
        "{\n",
        "    return(paste(a, \"is divisible by\", b))\n",
        "}\n",
        "else\n",
        "{\n",
        "    return(paste(a, \"is not divisible by\", b))\n",
        "}\n",
        "}\n",
        "\n",
        "# Function call\n",
        "divisible(7, 3)\n",
        "divisible(36, 6)\n",
        "divisible(9, 2)\n"
      ],
      "metadata": {
        "colab": {
          "base_uri": "https://localhost:8080/",
          "height": 69
        },
        "id": "-ziZCrx0X7zF",
        "outputId": "c2beea96-7969-4e1e-a31c-c6494a9a39fa"
      },
      "execution_count": null,
      "outputs": [
        {
          "output_type": "display_data",
          "data": {
            "text/html": [
              "'7 is not divisible by 3'"
            ],
            "text/markdown": "'7 is not divisible by 3'",
            "text/latex": "'7 is not divisible by 3'",
            "text/plain": [
              "[1] \"7 is not divisible by 3\""
            ]
          },
          "metadata": {}
        },
        {
          "output_type": "display_data",
          "data": {
            "text/html": [
              "'36 is divisible by 6'"
            ],
            "text/markdown": "'36 is divisible by 6'",
            "text/latex": "'36 is divisible by 6'",
            "text/plain": [
              "[1] \"36 is divisible by 6\""
            ]
          },
          "metadata": {}
        },
        {
          "output_type": "display_data",
          "data": {
            "text/html": [
              "'9 is not divisible by 2'"
            ],
            "text/markdown": "'9 is not divisible by 2'",
            "text/latex": "'9 is not divisible by 2'",
            "text/plain": [
              "[1] \"9 is not divisible by 2\""
            ]
          },
          "metadata": {}
        }
      ]
    },
    {
      "cell_type": "markdown",
      "source": [
        "3. **Adding Default Value in R**\n",
        "\n",
        "    The default value in a function is a value that is not required to specify each time the function is called. If the value is passed by the user, then the user-defined value is used by the function otherwise, the default value is used. Below is an implementation of a function with a default value.\n",
        "\n",
        "Here is one example:"
      ],
      "metadata": {
        "id": "qXAcsHteYYVT"
      }
    },
    {
      "cell_type": "code",
      "source": [
        "# Function definition to check\n",
        "# a is divisible by b or not.\n",
        "# If b is not provided in function call,\n",
        "# Then divisibility of a is checked with 3 as default\n",
        "divisible <- function(a, b = 3){\n",
        "if(a %% b == 0)\n",
        "{\n",
        "    return(paste(a, \"is divisible by\", b))\n",
        "}\n",
        "else\n",
        "{\n",
        "    return(paste(a, \"is not divisible by\", b))\n",
        "}\n",
        "}\n",
        "\n",
        "# Function call\n",
        "divisible(10, 5)\n",
        "divisible(12)\n"
      ],
      "metadata": {
        "colab": {
          "base_uri": "https://localhost:8080/",
          "height": 52
        },
        "id": "F_jsjQ0IYh-c",
        "outputId": "15055eaf-dffb-4149-e572-565c7c802dd6"
      },
      "execution_count": null,
      "outputs": [
        {
          "output_type": "display_data",
          "data": {
            "text/html": [
              "'10 is divisible by 5'"
            ],
            "text/markdown": "'10 is divisible by 5'",
            "text/latex": "'10 is divisible by 5'",
            "text/plain": [
              "[1] \"10 is divisible by 5\""
            ]
          },
          "metadata": {}
        },
        {
          "output_type": "display_data",
          "data": {
            "text/html": [
              "'12 is divisible by 3'"
            ],
            "text/markdown": "'12 is divisible by 3'",
            "text/latex": "'12 is divisible by 3'",
            "text/plain": [
              "[1] \"12 is divisible by 3\""
            ]
          },
          "metadata": {}
        }
      ]
    },
    {
      "cell_type": "markdown",
      "source": [
        "4. **Dots Argument**\n",
        "\n",
        "    Dots argument (…) is also known as ellipsis which allows the function to take an undefined number of arguments. It allows the function to take an arbitrary number of arguments. Below is an example of a function with an arbitrary number of arguments.\n",
        "\n",
        "Here is one example:"
      ],
      "metadata": {
        "id": "fDAYUdXUYwmh"
      }
    },
    {
      "cell_type": "code",
      "source": [
        "# Function definition of dots operator\n",
        "fun <- function(n, ...){\n",
        "l <- list(n, ...)\n",
        "paste(l, collapse = \" \")\n",
        "}\n",
        "\n",
        "# Function call\n",
        "fun(5, 1L, 6i, TRUE, \"R programming tutorial\", \"Dots operator\")\n"
      ],
      "metadata": {
        "colab": {
          "base_uri": "https://localhost:8080/",
          "height": 34
        },
        "id": "t-ALQnksY7Pp",
        "outputId": "15a234de-3919-4751-cd97-8a76133c0382"
      },
      "execution_count": null,
      "outputs": [
        {
          "output_type": "display_data",
          "data": {
            "text/html": [
              "'5 1 0+6i TRUE R programming tutorial Dots operator'"
            ],
            "text/markdown": "'5 1 0+6i TRUE R programming tutorial Dots operator'",
            "text/latex": "'5 1 0+6i TRUE R programming tutorial Dots operator'",
            "text/plain": [
              "[1] \"5 1 0+6i TRUE R programming tutorial Dots operator\""
            ]
          },
          "metadata": {}
        }
      ]
    },
    {
      "cell_type": "markdown",
      "source": [
        "5. **Function as Argument**\n",
        "\n",
        "    In R programming, functions can be passed to another functions as arguments. Below is an implementation of function as an argument.\n",
        "\n",
        "Here is one example:"
      ],
      "metadata": {
        "id": "FwoaqFhzZWGI"
      }
    },
    {
      "cell_type": "code",
      "source": [
        "# Function definition\n",
        "# Function is passed as argument\n",
        "fun <- function(x, fun2){\n",
        "return(fun2(x))\n",
        "}\n",
        "\n",
        "# sum is built-in function\n",
        "fun(c(1:10), sum)\n",
        "\n",
        "# mean is built-in function\n",
        "fun(rnorm(50), mean)\n"
      ],
      "metadata": {
        "id": "dVsZtHdVZc4_",
        "outputId": "70cf6af9-781a-400a-9369-aedace525787",
        "colab": {
          "base_uri": "https://localhost:8080/",
          "height": 52
        }
      },
      "execution_count": null,
      "outputs": [
        {
          "output_type": "display_data",
          "data": {
            "text/html": [
              "55"
            ],
            "text/markdown": "55",
            "text/latex": "55",
            "text/plain": [
              "[1] 55"
            ]
          },
          "metadata": {}
        },
        {
          "output_type": "display_data",
          "data": {
            "text/html": [
              "0.0138331959642768"
            ],
            "text/markdown": "0.0138331959642768",
            "text/latex": "0.0138331959642768",
            "text/plain": [
              "[1] 0.0138332"
            ]
          },
          "metadata": {}
        }
      ]
    }
  ]
}